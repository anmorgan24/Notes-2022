{
 "cells": [
  {
   "cell_type": "markdown",
   "id": "66c1eb0e",
   "metadata": {},
   "source": [
    "# Building Recommender Engines in Python\n",
    "**Instructor:** Robert O'Callaghan, Director of Data Science at Ordergroove, Data Scientist at Meta\n",
    "\n",
    "We’ve come to expect personalized experiences online—whether it’s Netflix recommending a show or an online retailer suggesting items you might also like to purchase. But how are these suggestions generated? In this course, you’ll learn everything you need to know to create your own recommendation engine. Through hands-on exercises, you’ll get to grips with the two most common systems, collaborative filtering and content-based filtering. Next, you’ll learn how to measure similarities like the Jaccard distance and cosine similarity, and how to evaluate the quality of recommendations on test data using the root mean square error (RMSE). By the end of this course, you’ll have built your very own movie recommendation engine and be able to apply your Python skills to create these systems for any industry.\n",
    "\n",
    "# Introduction to Recommender Engines\n",
    "What problems are recommendation engines designed to solve and what data are best suited for them? Discern what insightful recommendations can be made even with limited data, and learn how to create your own recommendations.\n",
    "\n",
    "#### What are recommendation engines?\n",
    "- Recommendation engines use the feedback of users to find new, relevant items for them or for others with the assumption that users who have had similar preferences in the past are likely to have similar preferences in the future.\n",
    "- Recommendation engines benefit from having a many-to-many match between the users giving the feedback, and the items receiving the feedback. In other words, a better recommendation can be made for an item that has been given a lot of feedback, and more personalized recommendations can be given for a user that has given a lot of feedback\n",
    "- Recommendation engines target a specific kind of machine learning problem: they are designed to suggest a product, service, or entity to a user based on other users (or items) and their own feedback).\n",
    "\n",
    "### Implicit vs Explicit Feedback\n",
    "- Recommendation engines rely on data that records the preferences of users \n",
    "- How these preferences are measured fall into two main groups: **implicit** and **explicit**\n",
    "    - **Explicit:** Explicit data contains direct feedback from a user as to how they feel about an item such as a numerical rating, or upvoting or downvoting.\n",
    "    - **Implicit:** Implicit data relies not on a user's direct rating, but instead uses the suer's actions to summarize their preferences such as users choosing to watch ceratin programs, or having a specific purchase history.\n",
    "\n",
    "#### Implicit Feedback: \n",
    "- A user often selecting the same genre of music\n",
    "- An item is repeatedly purchased by the same consumer\n",
    "- A viewer gives up halfway on a movie they were watching\n",
    "\n",
    "#### Explicit Feedback\n",
    "- Ratings given on movie sites like Rotten Tomatoes\n",
    "- A user telling a socia media platform that an ad is not relevant to their interests\n",
    "- A user gives a thumbs up or a thumbs down on YouTube\n",
    "- Rating a restaurant out of 5 stars on Yelp\n",
    "\n",
    "\n",
    "\n",
    "- **Note** that if a dataset only contains one occurence of each item, it is not suitable/ideal for a recommendation problem."
   ]
  },
  {
   "cell_type": "code",
   "execution_count": null,
   "id": "e43a720f",
   "metadata": {},
   "outputs": [],
   "source": []
  }
 ],
 "metadata": {
  "kernelspec": {
   "display_name": "Python 3",
   "language": "python",
   "name": "python3"
  },
  "language_info": {
   "codemirror_mode": {
    "name": "ipython",
    "version": 3
   },
   "file_extension": ".py",
   "mimetype": "text/x-python",
   "name": "python",
   "nbconvert_exporter": "python",
   "pygments_lexer": "ipython3",
   "version": "3.8.8"
  }
 },
 "nbformat": 4,
 "nbformat_minor": 5
}
