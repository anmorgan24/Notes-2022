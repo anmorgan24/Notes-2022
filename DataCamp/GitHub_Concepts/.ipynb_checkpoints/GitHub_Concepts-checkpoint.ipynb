{
 "cells": [
  {
   "cell_type": "markdown",
   "id": "ae59bd61",
   "metadata": {},
   "source": [
    "# GitHub Concepts\n",
    "\n",
    "Building on the topics covered in Introduction to Version Control with Git, this conceptual course enables you to navigate the user interface of GitHub effectively.\n",
    "\n",
    "You will perform everyday tasks, including creating public and private repositories, creating and modifying files, branches, and issues, assigning tasks, tagging users, reviewing pull requests, and merging branches. You will also discover how to clone and fork repositories and generate private access tokens (PAT).\n",
    "\n",
    "By the end of this course, you'll be able to take these new skills and apply them to any coding or data project, making you feel on track and in control."
   ]
  },
  {
   "cell_type": "code",
   "execution_count": null,
   "id": "4a96cfe5",
   "metadata": {},
   "outputs": [],
   "source": []
  },
  {
   "cell_type": "code",
   "execution_count": null,
   "id": "074976f5",
   "metadata": {},
   "outputs": [],
   "source": []
  },
  {
   "cell_type": "code",
   "execution_count": null,
   "id": "ba8952df",
   "metadata": {},
   "outputs": [],
   "source": []
  },
  {
   "cell_type": "code",
   "execution_count": null,
   "id": "726d559f",
   "metadata": {},
   "outputs": [],
   "source": []
  },
  {
   "cell_type": "code",
   "execution_count": null,
   "id": "17ec9a57",
   "metadata": {},
   "outputs": [],
   "source": []
  },
  {
   "cell_type": "code",
   "execution_count": null,
   "id": "a36b9807",
   "metadata": {},
   "outputs": [],
   "source": []
  },
  {
   "cell_type": "code",
   "execution_count": null,
   "id": "a31e0926",
   "metadata": {},
   "outputs": [],
   "source": []
  },
  {
   "cell_type": "code",
   "execution_count": null,
   "id": "498063de",
   "metadata": {},
   "outputs": [],
   "source": []
  }
 ],
 "metadata": {
  "kernelspec": {
   "display_name": "Python 3",
   "language": "python",
   "name": "python3"
  },
  "language_info": {
   "codemirror_mode": {
    "name": "ipython",
    "version": 3
   },
   "file_extension": ".py",
   "mimetype": "text/x-python",
   "name": "python",
   "nbconvert_exporter": "python",
   "pygments_lexer": "ipython3",
   "version": "3.8.8"
  }
 },
 "nbformat": 4,
 "nbformat_minor": 5
}
