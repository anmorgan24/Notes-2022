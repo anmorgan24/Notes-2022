{
 "cells": [
  {
   "cell_type": "markdown",
   "id": "29336826",
   "metadata": {},
   "source": [
    "# Introduction to Version Control with Git\n",
    "This course introduces learners to version control using Git. You will discover the importance of version control when working on data science projects and explore how you can use Git to track files, compare differences, modify and save files, undo changes, and allow collaborative development through the use of branches. You will gain an introduction to the structure of a repository, how to create new repositories and clone existing ones, and show how Git stores data. By working through typical data science tasks, you will gain the skills to handle conflicting files."
   ]
  },
  {
   "cell_type": "markdown",
   "id": "9c7f4eeb",
   "metadata": {},
   "source": [
    "# 1. Introduction to Git\n",
    "In the first chapter, you’ll learn what version control is and why it is essential for data projects. Then, you’ll discover what Git is and how to use it for a version control workflow.\n",
    "\n",
    "#### What is a version?\n",
    "1. Contents of a file at a given point in time\n",
    "2. Metadata (information associated with the file):\n",
    "    - The author of the file\n",
    "    - Where it is located\n",
    "    - The file type\n",
    "    - When it was last saved\n",
    "    \n",
    "    \n",
    "- Version control is a group of systems and processes\n",
    "    - to manage changes made to documents, programs, and directories\n",
    "- Version control isn't just for software. It is useful for anything that:\n",
    "    - Changes over time, or\n",
    "    - Needs to be shared\n",
    "    \n",
    "    \n",
    "- Track files in different states\n",
    "- Simultaneous file development (Continuous Development)\n",
    "- Combine different versions of files\n",
    "- Identify a partiular version\n",
    "- Revert changes\n",
    "\n",
    "#### Some benefits of Git\n",
    "- Git stores everything, so nothing is lost\n",
    "- Git notifies us when there is conflicting content in files\n",
    "- Git synchronizes across different people and computers\n",
    "\n",
    "### Editing a file\n",
    "#### nano\n",
    "- Use **`nano`** to preview, delete, add, or change contents of a file\n",
    "- **`nano finance.csv`**: opens a text editor\n",
    "- **Save** changes: **`Ctrl+O`**\n",
    "- **Exit** the text editor: **`Ctrl+ X`**\n",
    "\n",
    "#### echo\n",
    "- **`echo`**: to create or edit a file\n",
    "- **create a new file** `todo.txt`:\n",
    "    - `echo \"Review for duplicate records\" > todo.txt`\n",
    "    - uses 1 arrow `>`\n",
    "- **add content to existing file** `todo.txt`:\n",
    "    - `echo \"Review for duplicate records\" >> todo.txt`\n",
    "    - uses 2 arrows `>>`\n",
    "\n",
    "#### Checking Git version\n",
    "- `git --version`"
   ]
  },
  {
   "cell_type": "code",
   "execution_count": null,
   "id": "0c45fe9a",
   "metadata": {},
   "outputs": [],
   "source": []
  },
  {
   "cell_type": "code",
   "execution_count": null,
   "id": "425310d3",
   "metadata": {},
   "outputs": [],
   "source": []
  },
  {
   "cell_type": "code",
   "execution_count": null,
   "id": "93fffb09",
   "metadata": {},
   "outputs": [],
   "source": []
  },
  {
   "cell_type": "code",
   "execution_count": null,
   "id": "9231c327",
   "metadata": {},
   "outputs": [],
   "source": []
  },
  {
   "cell_type": "code",
   "execution_count": null,
   "id": "8ea81d3c",
   "metadata": {},
   "outputs": [],
   "source": []
  },
  {
   "cell_type": "code",
   "execution_count": null,
   "id": "4af355db",
   "metadata": {},
   "outputs": [],
   "source": []
  },
  {
   "cell_type": "code",
   "execution_count": null,
   "id": "eae267b5",
   "metadata": {},
   "outputs": [],
   "source": []
  },
  {
   "cell_type": "code",
   "execution_count": null,
   "id": "75a147f1",
   "metadata": {},
   "outputs": [],
   "source": []
  },
  {
   "cell_type": "code",
   "execution_count": null,
   "id": "6cc97aa1",
   "metadata": {},
   "outputs": [],
   "source": []
  },
  {
   "cell_type": "code",
   "execution_count": null,
   "id": "05ff38f8",
   "metadata": {},
   "outputs": [],
   "source": []
  },
  {
   "cell_type": "code",
   "execution_count": null,
   "id": "13955d98",
   "metadata": {},
   "outputs": [],
   "source": []
  }
 ],
 "metadata": {
  "kernelspec": {
   "display_name": "Python 3",
   "language": "python",
   "name": "python3"
  },
  "language_info": {
   "codemirror_mode": {
    "name": "ipython",
    "version": 3
   },
   "file_extension": ".py",
   "mimetype": "text/x-python",
   "name": "python",
   "nbconvert_exporter": "python",
   "pygments_lexer": "ipython3",
   "version": "3.8.8"
  }
 },
 "nbformat": 4,
 "nbformat_minor": 5
}
