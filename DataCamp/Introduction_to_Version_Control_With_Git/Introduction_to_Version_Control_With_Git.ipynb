{
 "cells": [
  {
   "cell_type": "markdown",
   "id": "bfe19351",
   "metadata": {},
   "source": [
    "# Introduction to Version Control with Git\n",
    "This course introduces learners to version control using Git. You will discover the importance of version control when working on data science projects and explore how you can use Git to track files, compare differences, modify and save files, undo changes, and allow collaborative development through the use of branches. You will gain an introduction to the structure of a repository, how to create new repositories and clone existing ones, and show how Git stores data. By working through typical data science tasks, you will gain the skills to handle conflicting files."
   ]
  },
  {
   "cell_type": "markdown",
   "id": "5d3ffaa4",
   "metadata": {},
   "source": [
    "# 1. Introduction to Git\n",
    "In the first chapter, you’ll learn what version control is and why it is essential for data projects. Then, you’ll discover what Git is and how to use it for a version control workflow.\n",
    "\n",
    "#### What is a version?\n",
    "1. Contents of a file at a given point in time\n",
    "2. Metadata (information associated with the file):\n",
    "    - The author of the file\n",
    "    - Where it is located\n",
    "    - The file type\n",
    "    - When it was last saved\n",
    "    \n",
    "    \n",
    "- Version control is a group of systems and processes\n",
    "    - to manage changes made to documents, programs, and directories\n",
    "- Version control isn't just for software. It is useful for anything that:\n",
    "    - Changes over time, or\n",
    "    - Needs to be shared\n",
    "    \n",
    "    \n",
    "- Track files in different states\n",
    "- Simultaneous file development (Continuous Development)\n",
    "- Combine different versions of files\n",
    "- Identify a partiular version\n",
    "- Revert changes\n",
    "\n",
    "#### Some benefits of Git\n",
    "- Git stores everything, so nothing is lost\n",
    "- Git notifies us when there is conflicting content in files\n",
    "- Git synchronizes across different people and computers\n",
    "\n",
    "### Editing a file\n",
    "#### nano\n",
    "- Use **`nano`** to preview, delete, add, or change contents of a file\n",
    "- **`nano finance.csv`**: opens a text editor\n",
    "- **Save** changes: **`Ctrl+O`**\n",
    "- **Exit** the text editor: **`Ctrl+ X`**\n",
    "\n",
    "#### echo\n",
    "- **`echo`**: to create or edit a file\n",
    "- **create a new file** `todo.txt`:\n",
    "    - `echo \"Review for duplicate records\" > todo.txt`\n",
    "    - uses 1 arrow `>`\n",
    "- **add content to existing file** `todo.txt`:\n",
    "    - `echo \"Review for duplicate records\" >> todo.txt`\n",
    "    - uses 2 arrows `>>`\n",
    "\n",
    "#### Checking Git version\n",
    "- `git --version`"
   ]
  },
  {
   "cell_type": "markdown",
   "id": "638f51c4",
   "metadata": {},
   "source": [
    "### Saving files\n",
    "- The components of a Git project:\n",
    "    - A repository:\n",
    "        - **1) Files and directories that we create and edit:**\n",
    "            - files:\n",
    "                - `funding.doc`\n",
    "                - `report.md`\n",
    "            - directory:\n",
    "                - `data`\n",
    "        - **2) The extra information that git stores about the project history:**\n",
    "            - `.git`\n",
    "            \n",
    "<img src='img/1.png' width=\"600\" height=\"300\" align=\"center\"/>\n",
    "\n",
    "- The combination of 1) the files and directories we create and 2) the extra information that git stores about the project history is called a **repository**, often referred to as a **repo**.\n",
    "- **Git stores all of its extra information in a directory called `.git`, located in the main directory of the repo.**\n",
    "- Git expects this information to be laid out in a particular way, so do not edit or delete **`.git`**.\n",
    "\n",
    "### Accessing the .git directory\n",
    "- Although we shouldn't edit the `.git` directory, it may be helpful to see what's inside\n",
    "- It won't display when using the shell `ls` command, as it's a hidden directory\n",
    "- A **hidden directory** is a directory not displayed to users, typically because it stores information to enable programs to run.\n",
    "- But if we add the **`-a`** flag, it shows up, along with some hidden files!\n",
    "- **Note:** All the information about a repo is stored in its **main** or **parent** directory!\n",
    "\n",
    "\n",
    "<img src='img/2.png' width=\"800\" height=\"400\" align=\"center\"/>\n",
    "\n",
    "#### Git workflow\n",
    "- Modify a file\n",
    "- Save the draft\n",
    "- Commit the updated file\n",
    "- Repeat"
   ]
  },
  {
   "cell_type": "markdown",
   "id": "5f5c9055",
   "metadata": {},
   "source": [
    "## Comparing files\n",
    "\n",
    "### Comparing an unstaged file with the last commit\n",
    "- If we are making lots of changes, we need a way to compare versions as we make modifications.\n",
    "- Luckily, Git provides commands for checking the current state of our files in comparison with their previous states.\n",
    "- **We can compare the last committed version of a file with the unstaged version by using the `git diff` command followed by the filename.**\n",
    "    - `git diff report.md`\n",
    "    \n",
    "***\n",
    "- In the screenshot below, `a` is the first version, or the last version to be saved/pushed and `b` is the second version, or the one we have not yet added to the staging area\n",
    "- The line with the two `@@` tells us the location of the changes, where the pairs of numbers represent the start line and number of lines.\n",
    "- `@@ -1, 5 @@` means that 1 line was removed at line 5\n",
    "- `@@ +1, 5 @@` means that 1 line was added to line 5\n",
    "- `@@-1,5 +1,5 @@` means that a line replaced a line at line 5\n",
    "- lines in red have been removed\n",
    "- lines in green have been added\n",
    "\n",
    "<img src='img/3.png' width=\"600\" height=\"300\" align=\"center\"/>"
   ]
  },
  {
   "cell_type": "markdown",
   "id": "ca2b5bef",
   "metadata": {},
   "source": [
    "### Comparing a staged file with the last commit\n",
    "- Again, we can use the `git diff` command, but this time we use the **`-r` flag to indicate we want to look at a particular revision of the file.**\n",
    "- `HEAD` is a shortcut for the most recent commit\n",
    "- **`git diff -r HEAD report.md`**: allows us to see the difference between the report.md file in the staging area nad the version in the last commit\n",
    "\n",
    "### Comparing multiple staged files with the last commit\n",
    "- We can use `git diff -r HEAD` to show the difference between all files in the staging area:\n",
    "\n",
    "<img src='img/4.png' width=\"800\" height=\"400\" align=\"center\"/>"
   ]
  },
  {
   "cell_type": "markdown",
   "id": "4af73129",
   "metadata": {},
   "source": [
    "### Recap:\n",
    "#### Compare an unstaged file with the last commited version:\n",
    "`git diff filename`\n",
    "#### Compare a staged file with the last commited version:\n",
    "`git diff -r HEAD filename`\n",
    "#### Compare all staged files with the last commited versions:\n",
    "`git diff -r HEAD`"
   ]
  },
  {
   "cell_type": "markdown",
   "id": "b6cc97b1",
   "metadata": {},
   "source": [
    "# 2. Making changes\n",
    "Next, you’ll examine how Git stores data, learn essential commands to compare files and repositories at different times, and understand the process for restoring earlier versions of files in your data projects."
   ]
  },
  {
   "cell_type": "markdown",
   "id": "17142708",
   "metadata": {},
   "source": [
    "## Storing data with Git\n",
    "### The commit structrure\n",
    "#### Git commits have 3 parts:\n",
    "- **Commit**\n",
    "    - contains the metadata\n",
    "- **Tree**\n",
    "    - tracks the names and locations in the repo\n",
    "- **Blob**\n",
    "    - **B**inary **L**arge **Ob**ject\n",
    "    - May contain data of any kind\n",
    "    - contain a compressed snapshot of the contains of the file when the commit happened\n",
    "\n",
    "<img src='img/5.png' width=\"800\" height=\"400\" align=\"center\"/>"
   ]
  },
  {
   "cell_type": "markdown",
   "id": "8d7c2785",
   "metadata": {},
   "source": [
    "### Git log\n",
    "- We can view commit information using the **`git log`** command\n",
    "- This will **display all commits made to the repo in chronological order starting with the oldest.**\n",
    "\n",
    "<img src='img/6.png' width=\"400\" height=\"200\" align=\"center\"/>\n",
    "\n",
    "<img src='img/7.png' width=\"600\" height=\"300\" align=\"center\"/>\n",
    "\n",
    "- If the output doesn't fit in the terminal window, there will be a colon at the end of output, indicating there are more commits\n",
    "- We can **move through the history by pressing the `space` bar.**\n",
    "- When we want to **exit the log, press `q` to return to the terminal.**\n",
    "\n",
    "#### Git hash\n",
    "- The git hash is a 40 character string of numbers and letters\n",
    "- It is called a hash because Git produces it using a pseudo-random number generator called a **hash function**.\n",
    "- Hashes allow efficient data sharing between repos\n",
    "    - If two files are the same their hashes will be the same \n",
    "    - Therefore, Git only needs to compare hashes rather than entire files\n",
    "    \n",
    "#### Finding a particular commit \n",
    "- First **`git log`**\n",
    "- Find the particular commit you want to look at\n",
    "- Only need the first 6-8 characters of the `hash`\n",
    "- **`git show c27fa856`**\n",
    "\n",
    "<img src='img/8.png' width=\"600\" height=\"300\" align=\"center\"/>\n",
    "\n",
    "<img src='img/9.png' width=\"600\" height=\"300\" align=\"center\"/>\n",
    "\n",
    "- The output of `git show` shows the log entry for that commit, followed by a diff output showing changes between the file in that commit and the current version in the repo\n"
   ]
  },
  {
   "cell_type": "code",
   "execution_count": null,
   "id": "7b842d91",
   "metadata": {},
   "outputs": [],
   "source": []
  },
  {
   "cell_type": "code",
   "execution_count": null,
   "id": "76e9785e",
   "metadata": {},
   "outputs": [],
   "source": []
  },
  {
   "cell_type": "code",
   "execution_count": null,
   "id": "4872fbde",
   "metadata": {},
   "outputs": [],
   "source": []
  },
  {
   "cell_type": "code",
   "execution_count": null,
   "id": "0cac6b39",
   "metadata": {},
   "outputs": [],
   "source": []
  },
  {
   "cell_type": "code",
   "execution_count": null,
   "id": "9fce9e4f",
   "metadata": {},
   "outputs": [],
   "source": []
  },
  {
   "cell_type": "code",
   "execution_count": null,
   "id": "ddbb1f1b",
   "metadata": {},
   "outputs": [],
   "source": []
  },
  {
   "cell_type": "code",
   "execution_count": null,
   "id": "0792e2a9",
   "metadata": {},
   "outputs": [],
   "source": []
  },
  {
   "cell_type": "markdown",
   "id": "a9171b2d",
   "metadata": {},
   "source": [
    "<img src='img/x.png' width=\"600\" height=\"300\" align=\"center\"/>"
   ]
  }
 ],
 "metadata": {
  "kernelspec": {
   "display_name": "Python 3",
   "language": "python",
   "name": "python3"
  },
  "language_info": {
   "codemirror_mode": {
    "name": "ipython",
    "version": 3
   },
   "file_extension": ".py",
   "mimetype": "text/x-python",
   "name": "python",
   "nbconvert_exporter": "python",
   "pygments_lexer": "ipython3",
   "version": "3.8.8"
  }
 },
 "nbformat": 4,
 "nbformat_minor": 5
}
