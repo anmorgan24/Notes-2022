{
 "cells": [
  {
   "cell_type": "markdown",
   "id": "eb768a47",
   "metadata": {},
   "source": [
    "# Tree Breadth First Search (BFS)\n",
    "\n",
    "This pattern is based on the Breadth First Search (BFS) technique to traverse a tree.\n",
    "\n",
    "Any problem involving the traversal of a tree in a level-by-level order can be efficiently solved using this approach. We will use a Queue to keep track of all the nodes of a level before we jump onto the next level. This also means that the space complexity of the algorithm will be O(W)\n",
    "O(W)\n",
    ", where ‘W’ is the maximum number of nodes on any level."
   ]
  },
  {
   "cell_type": "code",
   "execution_count": null,
   "id": "defad9d5",
   "metadata": {},
   "outputs": [],
   "source": []
  }
 ],
 "metadata": {
  "kernelspec": {
   "display_name": "Python 3",
   "language": "python",
   "name": "python3"
  },
  "language_info": {
   "codemirror_mode": {
    "name": "ipython",
    "version": 3
   },
   "file_extension": ".py",
   "mimetype": "text/x-python",
   "name": "python",
   "nbconvert_exporter": "python",
   "pygments_lexer": "ipython3",
   "version": "3.8.8"
  }
 },
 "nbformat": 4,
 "nbformat_minor": 5
}
