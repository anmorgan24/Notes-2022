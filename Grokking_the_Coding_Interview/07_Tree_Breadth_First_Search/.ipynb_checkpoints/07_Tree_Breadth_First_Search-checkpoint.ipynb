{
 "cells": [
  {
   "cell_type": "markdown",
   "id": "eb768a47",
   "metadata": {},
   "source": [
    "# Tree Breadth First Search (BFS)\n",
    "\n",
    "This pattern is based on the **Breadth First Search (BFS)** technique to traverse a tree.\n",
    "\n",
    "Any problem involving the traversal of a tree in a level-by-level order can be efficiently solved using this approach. We will use a **Queue** to keep track of all the nodes of a level before we jump onto the next level. This also means that the space complexity of the algorithm will be **`O(W)`**, where `W` is the maximum number of nodes on any level."
   ]
  },
  {
   "cell_type": "markdown",
   "id": "7d3f1b3f",
   "metadata": {},
   "source": [
    "### Problem Statement\n",
    "Given a binary tree, populate an array to represent its level-by-level traversal. You should populate the values of all **nodes of each level from left to right** in separate sub-arrays.\n",
    "\n",
    "<img src='data/BFS_01.png' width=\"700\" height=\"400\" align=\"center\"/>"
   ]
  },
  {
   "cell_type": "markdown",
   "id": "70f8ff2b",
   "metadata": {},
   "source": [
    "Since we need to traverse all nodes of each level before moving onto the next level, we can use the **Breadth First Search (BFS)** technique to solve this problem.\n",
    "\n",
    "We can use a Queue to efficiently traverse in BFS fashion. Here are the steps of our algorithm:\n",
    "\n",
    "- 1. Start by pushing the `root` node to the queue.\n",
    "- 2. Keep iterating until the queue is empty.\n",
    "- 3. In each iteration, first count the elements in the queue (let’s call it `levelSize`). We will have these many nodes in the current level.\n",
    "- 4. Next, remove `levelSize` nodes from the queue and push their `value` in an array to represent the current level.\n",
    "- 5. After removing each node from the queue, insert both of its children into the queue.\n",
    "- 6. If the queue is not empty, repeat from step 3 for the next level."
   ]
  },
  {
   "cell_type": "code",
   "execution_count": 2,
   "id": "17997bd2",
   "metadata": {},
   "outputs": [
    {
     "name": "stdout",
     "output_type": "stream",
     "text": [
      "Level order traversal: [[12], [7, 1], [9, 10, 5]]\n"
     ]
    }
   ],
   "source": [
    "from collections import deque\n",
    "\n",
    "class TreeNode:\n",
    "    def __init__(self, val):\n",
    "        self.val = val\n",
    "        self.left, self.right = None, None\n",
    "\n",
    "def traverse(root):\n",
    "    result = []\n",
    "    if root is None:\n",
    "        return result\n",
    "\n",
    "    queue = deque()\n",
    "    queue.append(root)\n",
    "    while queue:\n",
    "        levelSize = len(queue)\n",
    "        currentLevel = []\n",
    "\n",
    "        for _ in range(levelSize):\n",
    "            currentNode = queue.popleft()\n",
    "            #add the node to the current level\n",
    "            currentLevel.append(currentNode.val)\n",
    "            # insert the children of current node in the queue\n",
    "            if currentNode.left:\n",
    "                queue.append(currentNode.left)\n",
    "            if currentNode.right:\n",
    "                queue.append(currentNode.right)\n",
    "\n",
    "        result.append(currentLevel)\n",
    "    \n",
    "    return result\n",
    "\n",
    "\n",
    "def main():\n",
    "    root = TreeNode(12)\n",
    "    root.left = TreeNode(7)\n",
    "    root.right = TreeNode(1)\n",
    "    root.left.left = TreeNode(9)\n",
    "    root.right.left = TreeNode(10)\n",
    "    root.right.right = TreeNode(5)\n",
    "    print(\"Level order traversal: \" + str(traverse(root)))\n",
    "\n",
    "\n",
    "main()"
   ]
  },
  {
   "cell_type": "code",
   "execution_count": null,
   "id": "e63ce80f",
   "metadata": {},
   "outputs": [],
   "source": []
  }
 ],
 "metadata": {
  "kernelspec": {
   "display_name": "Python 3",
   "language": "python",
   "name": "python3"
  },
  "language_info": {
   "codemirror_mode": {
    "name": "ipython",
    "version": 3
   },
   "file_extension": ".py",
   "mimetype": "text/x-python",
   "name": "python",
   "nbconvert_exporter": "python",
   "pygments_lexer": "ipython3",
   "version": "3.8.8"
  }
 },
 "nbformat": 4,
 "nbformat_minor": 5
}
