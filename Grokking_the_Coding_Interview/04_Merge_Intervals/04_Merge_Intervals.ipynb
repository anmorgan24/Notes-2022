{
 "cells": [
  {
   "cell_type": "markdown",
   "id": "673a1c95",
   "metadata": {},
   "source": [
    "# Merge Intervals"
   ]
  },
  {
   "cell_type": "markdown",
   "id": "477d0b82",
   "metadata": {},
   "source": [
    "### Introduction\n",
    "\n",
    "This pattern describes an efficient technique to deal with overlapping intervals. In a lot of problems involving intervals, we either need to find overlapping intervals or merge intervals if they overlap.\n",
    "\n",
    "Given two intervals (‘a’ and ‘b’), there will be six different ways the two intervals can relate to each other:\n",
    "\n",
    "<img src='img/1.png' width=\"600\" height=\"300\" align=\"center\"/>"
   ]
  },
  {
   "cell_type": "markdown",
   "id": "1cd5d365",
   "metadata": {},
   "source": [
    "### Problem Statement\n",
    "Given a list of intervals, merge all the overlapping intervals to produce a list that has only mutually exclusive intervals.\n",
    "\n",
    "<img src='img/2.png' width=\"600\" height=\"300\" align=\"center\"/>\n",
    "\n",
    "<img src='img/3.png' width=\"600\" height=\"300\" align=\"center\"/>"
   ]
  },
  {
   "cell_type": "markdown",
   "id": "a9cd3c6f",
   "metadata": {},
   "source": [
    "### Solution\n",
    "Let’s take the example of two intervals (‘a’ and ‘b’) such that a.start <= b.start. There are four possible scenarios:\n",
    "\n",
    "<img src='img/4.png' width=\"600\" height=\"300\" align=\"center\"/>\n",
    "\n",
    "Our goal is to merge the intervals whenever they overlap. For the above-mentioned three overlapping scenarios (2, 3, and 4), this is how we will merge them:\n",
    "\n",
    "<img src='img/5.png' width=\"600\" height=\"300\" align=\"center\"/>\n",
    "\n",
    "The diagram above clearly shows a merging approach. Our algorithm will look like this:\n",
    "\n",
    "   - 1. Sort the intervals on the start time to ensure a.start <= b.start\n",
    "   - 2. If ‘a’ overlaps ‘b’ (i.e. b.start <= a.end), we need to merge them into a new interval ‘c’ such that:"
   ]
  },
  {
   "cell_type": "markdown",
   "id": "5e01cee6",
   "metadata": {},
   "source": [
    "**`c.start = a.start`**"
   ]
  },
  {
   "cell_type": "markdown",
   "id": "c1d77acb",
   "metadata": {},
   "source": [
    "**`c.end = max(a.end, b.end)`**"
   ]
  },
  {
   "cell_type": "markdown",
   "id": "9ab6be38",
   "metadata": {},
   "source": [
    "- 3. Keep repeating the above two steps to merge ‘c’ with the next interval if it overlaps with ‘c’."
   ]
  },
  {
   "cell_type": "code",
   "execution_count": null,
   "id": "390eceb8",
   "metadata": {},
   "outputs": [],
   "source": []
  },
  {
   "cell_type": "code",
   "execution_count": null,
   "id": "7d545465",
   "metadata": {},
   "outputs": [],
   "source": []
  },
  {
   "cell_type": "markdown",
   "id": "821b674b",
   "metadata": {},
   "source": [
    "<img src='img/x.png' width=\"600\" height=\"300\" align=\"center\"/>"
   ]
  }
 ],
 "metadata": {
  "kernelspec": {
   "display_name": "Python 3",
   "language": "python",
   "name": "python3"
  },
  "language_info": {
   "codemirror_mode": {
    "name": "ipython",
    "version": 3
   },
   "file_extension": ".py",
   "mimetype": "text/x-python",
   "name": "python",
   "nbconvert_exporter": "python",
   "pygments_lexer": "ipython3",
   "version": "3.8.8"
  }
 },
 "nbformat": 4,
 "nbformat_minor": 5
}
