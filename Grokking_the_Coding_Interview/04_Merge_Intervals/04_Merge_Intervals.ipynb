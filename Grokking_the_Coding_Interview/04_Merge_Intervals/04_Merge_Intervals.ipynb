{
 "cells": [
  {
   "cell_type": "markdown",
   "id": "8d8d0216",
   "metadata": {},
   "source": [
    "# Merge Intervals"
   ]
  },
  {
   "cell_type": "markdown",
   "id": "3650fd83",
   "metadata": {},
   "source": [
    "### Introduction\n",
    "\n",
    "This pattern describes an efficient technique to deal with overlapping intervals. In a lot of problems involving intervals, we either need to find overlapping intervals or merge intervals if they overlap.\n",
    "\n",
    "Given two intervals (‘a’ and ‘b’), there will be six different ways the two intervals can relate to each other:\n",
    "\n",
    "<img src='img/1.png' width=\"600\" height=\"300\" align=\"center\"/>"
   ]
  },
  {
   "cell_type": "markdown",
   "id": "2290a726",
   "metadata": {},
   "source": [
    "### Problem Statement\n",
    "Given a list of intervals, merge all the overlapping intervals to produce a list that has only mutually exclusive intervals.\n",
    "\n",
    "<img src='img/2.png' width=\"600\" height=\"300\" align=\"center\"/>\n",
    "\n",
    "<img src='img/3.png' width=\"600\" height=\"300\" align=\"center\"/>"
   ]
  },
  {
   "cell_type": "markdown",
   "id": "c66d648b",
   "metadata": {},
   "source": [
    "### Solution\n",
    "Let’s take the example of two intervals (‘a’ and ‘b’) such that a.start <= b.start. There are four possible scenarios:\n",
    "\n",
    "<img src='img/4.png' width=\"600\" height=\"300\" align=\"center\"/>\n",
    "\n",
    "Our goal is to merge the intervals whenever they overlap. For the above-mentioned three overlapping scenarios (2, 3, and 4), this is how we will merge them:\n",
    "\n",
    "<img src='img/5.png' width=\"600\" height=\"300\" align=\"center\"/>\n",
    "\n",
    "The diagram above clearly shows a merging approach. Our algorithm will look like this:\n",
    "\n",
    "   - **1.** Sort the intervals on the start time to ensure a.start <= b.start\n",
    "   - **2.** If ‘a’ overlaps ‘b’ (i.e. b.start <= a.end), we need to merge them into a new interval ‘c’ such that:"
   ]
  },
  {
   "cell_type": "markdown",
   "id": "98126e70",
   "metadata": {},
   "source": [
    "**`c.start = a.start`**"
   ]
  },
  {
   "cell_type": "markdown",
   "id": "c2160c83",
   "metadata": {},
   "source": [
    "**`c.end = max(a.end, b.end)`**"
   ]
  },
  {
   "cell_type": "markdown",
   "id": "6e2392ce",
   "metadata": {},
   "source": [
    "- 3. Keep repeating the above two steps to merge ‘c’ with the next interval if it overlaps with ‘c’."
   ]
  },
  {
   "cell_type": "code",
   "execution_count": null,
   "id": "9fb3523c",
   "metadata": {},
   "outputs": [],
   "source": [
    "class Solution(object):\n",
    "    def merge(self, intervals):\n",
    "        \"\"\"\n",
    "        :type intervals: List[List[int]]\n",
    "        :rtype: List[List[int]]\n",
    "        \"\"\"\n",
    "        intervals.sort()\n",
    "        merged = []\n",
    "        for i in range(len(intervals)):\n",
    "            if merged == []:\n",
    "                merged.append(intervals[i])\n",
    "            else:\n",
    "                previous_end = merged[-1][1]\n",
    "                current_start = intervals[i][0]\n",
    "                current_end = intervals[i][1]\n",
    "                if previous_end >= current_start:      #overlap\n",
    "                    merged[-1][1] = max(previous_end, current_end)\n",
    "                else:\n",
    "                    merged.append(intervals[i])\n",
    "        return merged"
   ]
  },
  {
   "cell_type": "code",
   "execution_count": null,
   "id": "33289355",
   "metadata": {},
   "outputs": [],
   "source": [
    "totalTimeList = [timeSeries[0] * duration]\n",
    "        for i in range(len(timeSeries)):\n",
    "            previous_end = totalTimeList[-1]\n",
    "            current_start = timeSeries[i]\n",
    "            current_end = timeSeries[i] * duration\n",
    "            if previous_end >= current_start:      #overlap\n",
    "                totalTimeList[-1] = max(previous_end, current_end)\n",
    "            else:\n",
    "                totalTimeList.append(timeSeries[i])\n",
    "        for tup in totalTimeList:\n",
    "            totalTime = 0"
   ]
  },
  {
   "cell_type": "code",
   "execution_count": null,
   "id": "f925db6c",
   "metadata": {},
   "outputs": [],
   "source": [
    "class Solution(object):\n",
    "    def findPoisonedDuration(self, timeSeries, duration):\n",
    "        \"\"\"\n",
    "        :type timeSeries: List[int]\n",
    "        :type duration: int\n",
    "        :rtype: int\n",
    "        \"\"\"\n",
    "        timeList = [[timeSeries[0], timeSeries[0] + duration]]\n",
    "        for i in range(1, len(timeSeries)):\n",
    "            previous_end = timeList[-1][1]\n",
    "            current_start = timeSeries[i]\n",
    "            current_end = timeSeries[i] + duration\n",
    "            if previous_end >= current_start:      #overlap\n",
    "                timeList[-1][1] = max(previous_end, current_end)\n",
    "            else:\n",
    "                timeList.append([timeSeries[i], timeSeries[i] + duration])\n",
    "        totalTime = 0\n",
    "        for tup in timeList:\n",
    "            totalTime += (tup[1]- tup[0])\n",
    "        return totalTime"
   ]
  },
  {
   "cell_type": "code",
   "execution_count": 54,
   "id": "ba7da198",
   "metadata": {},
   "outputs": [],
   "source": [
    "event2 = [\"01:15\",\"02:00\"]\n",
    "event1 = [\"02:00\",\"03:00\"]"
   ]
  },
  {
   "cell_type": "code",
   "execution_count": 34,
   "id": "c3d63501",
   "metadata": {},
   "outputs": [],
   "source": [
    "for event in [event1, event2]:\n",
    "    for i in range(len(event)):\n",
    "        event[i] = float(event[i].replace(\":\",\".\"))   \n",
    "if "
   ]
  },
  {
   "cell_type": "code",
   "execution_count": null,
   "id": "8aac7bbb",
   "metadata": {},
   "outputs": [],
   "source": [
    "if float(event1[1].replace)"
   ]
  },
  {
   "cell_type": "code",
   "execution_count": 38,
   "id": "22d0060b",
   "metadata": {},
   "outputs": [
    {
     "data": {
      "text/plain": [
       "2.0"
      ]
     },
     "execution_count": 38,
     "metadata": {},
     "output_type": "execute_result"
    }
   ],
   "source": [
    "return float(event1[1].replace(\":\",\".\")) >= float(event2[0].replace(\":\",\".\"))"
   ]
  },
  {
   "cell_type": "code",
   "execution_count": 39,
   "id": "2aa89889",
   "metadata": {},
   "outputs": [
    {
     "data": {
      "text/plain": [
       "2.0"
      ]
     },
     "execution_count": 39,
     "metadata": {},
     "output_type": "execute_result"
    }
   ],
   "source": [
    "float(event2[0].replace(\":\",\".\"))"
   ]
  },
  {
   "cell_type": "code",
   "execution_count": 48,
   "id": "c122dcf3",
   "metadata": {},
   "outputs": [],
   "source": [
    "for event in [event1, event2]:\n",
    "    for i in range(len(event)):\n",
    "        event[i] = float(event[i].replace(\":\",\".\")) "
   ]
  },
  {
   "cell_type": "code",
   "execution_count": 49,
   "id": "4b70724e",
   "metadata": {},
   "outputs": [
    {
     "data": {
      "text/plain": [
       "[1.15, 2.0]"
      ]
     },
     "execution_count": 49,
     "metadata": {},
     "output_type": "execute_result"
    }
   ],
   "source": [
    "event2"
   ]
  },
  {
   "cell_type": "code",
   "execution_count": null,
   "id": "a06a1a9d",
   "metadata": {},
   "outputs": [],
   "source": []
  },
  {
   "cell_type": "code",
   "execution_count": null,
   "id": "20354849",
   "metadata": {},
   "outputs": [],
   "source": [
    "if event1[0] < event2[0]:\n",
    "    return event1[1] >= event2[0]\n",
    "else:\n",
    "    return event2[1] <= event1[0]"
   ]
  },
  {
   "cell_type": "code",
   "execution_count": null,
   "id": "87d1e972",
   "metadata": {},
   "outputs": [],
   "source": []
  },
  {
   "cell_type": "code",
   "execution_count": 55,
   "id": "dcb389a0",
   "metadata": {},
   "outputs": [],
   "source": [
    "def haveConflict(event1, event2):\n",
    "    for event in [event1, event2]:\n",
    "        for i in range(len(event)):\n",
    "            event[i] = float(event[i].replace(\":\",\".\")) \n",
    "    if event1[0] < event2[0]:\n",
    "        return event1[1] >= event2[0]\n",
    "    else:\n",
    "        return event2[1] <= event1[0]"
   ]
  },
  {
   "cell_type": "code",
   "execution_count": 56,
   "id": "2ca6de81",
   "metadata": {},
   "outputs": [
    {
     "data": {
      "text/plain": [
       "True"
      ]
     },
     "execution_count": 56,
     "metadata": {},
     "output_type": "execute_result"
    }
   ],
   "source": [
    "haveConflict(event1, event2)"
   ]
  },
  {
   "cell_type": "markdown",
   "id": "ee2b0e94",
   "metadata": {},
   "source": [
    "***"
   ]
  },
  {
   "cell_type": "code",
   "execution_count": 58,
   "id": "50ce6ac0",
   "metadata": {},
   "outputs": [
    {
     "name": "stdout",
     "output_type": "stream",
     "text": [
      "Can attend all appointments: False\n",
      "Can attend all appointments: True\n",
      "Can attend all appointments: False\n"
     ]
    }
   ],
   "source": [
    "def can_attend_all_appointments(intervals):\n",
    "    intervals.sort(key=lambda x: x[0])\n",
    "    start, end = 0, 1\n",
    "    for i in range(1, len(intervals)):\n",
    "        if intervals[i][start] < intervals[i-1][end]:\n",
    "        # please note the comparison above, it is \"<\" and not \"<=\"\n",
    "        # while merging we needed \"<=\" comparison, as we will be merging the two\n",
    "        # intervals having condition \"intervals[i][start] == intervals[i - 1][end]\" but\n",
    "        # such intervals don't represent conflicting appointments as one starts right\n",
    "        # after the other\n",
    "            return False\n",
    "    return True\n",
    "\n",
    "\n",
    "def main():\n",
    "    print(\"Can attend all appointments: \" + str(can_attend_all_appointments([[1, 4], [2, 5], [7, 9]])))\n",
    "    print(\"Can attend all appointments: \" + str(can_attend_all_appointments([[6, 7], [2, 4], [8, 12]])))\n",
    "    print(\"Can attend all appointments: \" + str(can_attend_all_appointments([[4, 5], [2, 3], [3, 6]])))\n",
    "\n",
    "\n",
    "main()"
   ]
  },
  {
   "cell_type": "code",
   "execution_count": 64,
   "id": "4957d40a",
   "metadata": {},
   "outputs": [],
   "source": [
    "def find_conflicting_appointments(intervals):\n",
    "    intervals.sort(key= lambda x: x[0])\n",
    "    conflicting_appts=[]\n",
    "    for i in range(1, len(intervals)):\n",
    "        if intervals[i][0] < intervals[i-1][1]:\n",
    "            conflicting_appts.append([intervals[i-1], intervals[i]])\n",
    "    for appt in conflicting_appts:\n",
    "        print(f\"{appt[0]} and {appt[1]} conflict.\")        "
   ]
  },
  {
   "cell_type": "code",
   "execution_count": 66,
   "id": "233ac5c0",
   "metadata": {},
   "outputs": [
    {
     "name": "stdout",
     "output_type": "stream",
     "text": [
      "[1, 4] and [2, 5] conflict.\n"
     ]
    }
   ],
   "source": [
    "find_conflicting_appointments([[1, 4], [2, 5], [7, 9]])"
   ]
  },
  {
   "cell_type": "markdown",
   "id": "4730ee57",
   "metadata": {},
   "source": [
    "<img src='img/x.png' width=\"600\" height=\"300\" align=\"center\"/>"
   ]
  }
 ],
 "metadata": {
  "kernelspec": {
   "display_name": "Python 3",
   "language": "python",
   "name": "python3"
  },
  "language_info": {
   "codemirror_mode": {
    "name": "ipython",
    "version": 3
   },
   "file_extension": ".py",
   "mimetype": "text/x-python",
   "name": "python",
   "nbconvert_exporter": "python",
   "pygments_lexer": "ipython3",
   "version": "3.8.8"
  }
 },
 "nbformat": 4,
 "nbformat_minor": 5
}
