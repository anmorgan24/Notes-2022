{
 "cells": [
  {
   "cell_type": "markdown",
   "id": "6e7c2a73",
   "metadata": {},
   "source": [
    "# Subsets\n",
    "\n",
    "## Introduction\n",
    "\n",
    "A huge number of coding interview problems involve dealing with [Permutations](https://en.wikipedia.org/wiki/Permutation) and [Combinations](https://en.wikipedia.org/wiki/Combination) of a given set of elements. This pattern describes an efficient **Breadth First Search (BFS)** approach to handle all these problems.\n",
    "\n",
    "Let’s jump onto our first problem to develop an understanding of this pattern."
   ]
  },
  {
   "cell_type": "markdown",
   "id": "32b48b1f",
   "metadata": {},
   "source": [
    "## Problem 1: \n",
    "\n",
    "Given a set with distinct elements, find all of its distinct subsets.\n",
    "\n",
    "<img src='img/1.png' width=\"600\" height=\"300\" align=\"center\"/>\n",
    "\n",
    "## Solution\n",
    "\n",
    "To generate all subsets of the given set, we can use the **Breadth First Search (BFS)** approach. We can start with an empty set, iterate through all numbers one-by-one, and add them to existing sets to create new subsets.\n",
    "\n",
    "Let’s take the example-2 mentioned above to go through each step of our algorithm:\n",
    "\n",
    "Given set: `[1, 5, 3]`\n",
    "\n",
    "1. Start with an empty set: `[[]]`\n",
    "2. Add the first number (1) to all the existing subsets to create new subsets: `[[], [1]]`;\n",
    "3. Add the second number (5) to all the existing subsets: `[[], [1], [5], [1,5]]`;\n",
    "4. Add the third number (3) to all the existing subsets: `[[], [1], [5], [1,5], [3], [1,3], [5,3], [1,5,3]]`.\n",
    "\n",
    "Here is the visual representation of the above steps:\n",
    "\n",
    "<img src='img/2.png' width=\"600\" height=\"300\" align=\"center\"/>\n",
    "\n",
    "Since the input set has distinct elements, the above steps will ensure that we will not have any duplicate subsets."
   ]
  },
  {
   "cell_type": "code",
   "execution_count": 1,
   "id": "5c75db28",
   "metadata": {},
   "outputs": [
    {
     "name": "stdout",
     "output_type": "stream",
     "text": [
      "Here is the list of subsets: [[], [1], [3], [1, 3]]\n",
      "Here is the list of subsets: [[], [1], [5], [1, 5], [3], [1, 3], [5, 3], [1, 5, 3]]\n"
     ]
    }
   ],
   "source": [
    "def find_subsets(nums):\n",
    "    subsets = []\n",
    "    # start by adding the empty subset\n",
    "    subsets.append([])\n",
    "    for currentNumber in nums:\n",
    "        # we will take all existing subsets and insert the current number in them to create new subsets\n",
    "        n = len(subsets)\n",
    "        for i in range(n):\n",
    "            # create a new subset from the existing subset and insert the current element to it\n",
    "            set1 = list(subsets[i])\n",
    "            set1.append(currentNumber)\n",
    "            subsets.append(set1)\n",
    "\n",
    "    return subsets\n",
    "\n",
    "\n",
    "def main():\n",
    "\n",
    "    print(\"Here is the list of subsets: \" + str(find_subsets([1, 3])))\n",
    "    print(\"Here is the list of subsets: \" + str(find_subsets([1, 5, 3])))\n",
    "\n",
    "\n",
    "main()\n"
   ]
  },
  {
   "cell_type": "markdown",
   "id": "e8401e4d",
   "metadata": {},
   "source": [
    "### Time complexity\n",
    "Since, in each step, the number of subsets doubles as we add each element to all the existing subsets, therefore, we will have a total of $O(2^N)$ subsets, where $N$ is the total number of elements in the input set. And since we construct a new subset from an existing set, therefore, the time complexity of the above algorithm will be $O(N*2^N)$.\n",
    "\n",
    "### Space complexity\n",
    "All the additional space used by our algorithm is for the output list. Since we will have a total of $O(2^N)$ subsets, and each subset can take up to $O(N)$ space, therefore, the space complexity of our algorithm will be $O(N*2^N)$.\n"
   ]
  },
  {
   "cell_type": "code",
   "execution_count": null,
   "id": "9106b142",
   "metadata": {},
   "outputs": [],
   "source": []
  },
  {
   "cell_type": "code",
   "execution_count": null,
   "id": "192093dc",
   "metadata": {},
   "outputs": [],
   "source": []
  },
  {
   "cell_type": "code",
   "execution_count": null,
   "id": "dd55135e",
   "metadata": {},
   "outputs": [],
   "source": []
  },
  {
   "cell_type": "code",
   "execution_count": null,
   "id": "eb4d9c84",
   "metadata": {},
   "outputs": [],
   "source": []
  },
  {
   "cell_type": "markdown",
   "id": "0702e648",
   "metadata": {},
   "source": [
    "<img src='img/x.png' width=\"600\" height=\"300\" align=\"center\"/>"
   ]
  }
 ],
 "metadata": {
  "kernelspec": {
   "display_name": "Python 3",
   "language": "python",
   "name": "python3"
  },
  "language_info": {
   "codemirror_mode": {
    "name": "ipython",
    "version": 3
   },
   "file_extension": ".py",
   "mimetype": "text/x-python",
   "name": "python",
   "nbconvert_exporter": "python",
   "pygments_lexer": "ipython3",
   "version": "3.8.8"
  }
 },
 "nbformat": 4,
 "nbformat_minor": 5
}
