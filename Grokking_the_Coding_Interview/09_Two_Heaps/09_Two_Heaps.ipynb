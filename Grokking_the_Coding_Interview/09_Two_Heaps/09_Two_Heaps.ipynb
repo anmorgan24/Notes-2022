{
 "cells": [
  {
   "cell_type": "markdown",
   "id": "36340d06",
   "metadata": {},
   "source": [
    "# Two Heaps"
   ]
  },
  {
   "cell_type": "markdown",
   "id": "44d3b26d",
   "metadata": {},
   "source": [
    "### Introduction\n",
    "In many problems, where we are given a set of elements such that we can divide them into two parts. We are interested in knowing the smallest element in one part and the biggest element in the other part. The Two Heaps pattern is an efficient approach to solve such problems.\n",
    "\n",
    "As the name suggests, this pattern uses two **Heaps**; A **Min Heap** to find the smallest element and a **Max Heap** to find the biggest element.\n",
    "\n",
    "Let’s jump onto our first problem to see this pattern in action."
   ]
  },
  {
   "cell_type": "markdown",
   "id": "a70a6f4b",
   "metadata": {},
   "source": [
    "## Problem 1: Find the Median of a Number Stream\n",
    "Design a class to calculate the median of a number stream. The class should have the following two methods:\n",
    "\n",
    "1. `insertNum(int num)`: stores the number in the class\n",
    "2. `findMedian()`: returns the median of all numbers inserted in the class\n",
    "\n",
    "If the count of numbers inserted in the class is even, the median will be the average of the middle two numbers.\n",
    "\n",
    "<img src='img/1.png' width=\"800\" height=\"400\" align=\"center\"/>"
   ]
  },
  {
   "cell_type": "markdown",
   "id": "01e499ba",
   "metadata": {},
   "source": [
    "## Solution\n",
    "As we know, the median is the middle value in an ordered integer list. So a brute force solution could be to maintain a sorted list of all numbers inserted in the class so that we can efficiently return the median whenever required. Inserting a number in a sorted list will take $O(N)$ time if there are ‘N’ numbers in the list. This insertion will be similar to the Insertion sort. Can we do better than this? Can we utilize the fact that we don’t need the fully sorted list - we are only interested in finding the middle element?\n",
    "\n",
    "Assume ‘x’ is the median of a list. This means that half of the numbers in the list will be smaller than (or equal to) ‘x’ and half will be greater than (or equal to) ‘x’. This leads us to an approach where we can divide the list into two halves: one half to store all the smaller numbers (let’s call it `smallNumList`) and one half to store the larger numbers (let’s call it `largeNumList`). The median of all the numbers will either be the largest number in the `smallNumList` or the smallest number in the `largeNumList`. If the total number of elements is even, the median will be the average of these two numbers.\n",
    "\n",
    "The best data structure that comes to mind to find the smallest or largest number among a list of numbers is a Heap. Let’s see how we can use a heap to find a better algorithm.\n",
    "\n",
    "1. We can store the first half of numbers (i.e., `smallNumList`) in a **Max Heap**. We should use a **Max Heap** as we are interested in knowing the largest number in the first half.\n",
    "2. We can store the second half of numbers (i.e., `largeNumList`) in a **Min Heap**, as we are interested in knowing the smallest number in the second half.\n",
    "3. Inserting a number in a heap will take $O(logN)$, which is better than the brute force approach.\n",
    "4. At any time, the median of the current list of numbers can be calculated from the top element of the two heaps.\n",
    "\n",
    "***\n",
    "\n",
    "Let’s take the Example-1 mentioned above to go through each step of our algorithm:\n",
    "\n",
    "1. **`insertNum(3)`:** We can insert a number in the **Max Heap** (i.e. first half) if the number is smaller than the top (largest) number of the heap. After every insertion, we will balance the number of elements in both heaps, so that they have an equal number of elements. If the count of numbers is odd, let’s decide to have more numbers in **Max Heap** than the **Min Heap**.\n",
    "\n",
    "<img src='img/2.png' width=\"600\" height=\"300\" align=\"center\"/>\n",
    "\n",
    "2. **`insertNum(1)`:** As ‘1’ is smaller than ‘3’, let’s insert it into the **Max Heap**.\n",
    "\n",
    "<img src='img/3.png' width=\"600\" height=\"300\" align=\"center\"/>\n",
    "\n",
    "Now, we have two elements in the **Max Heap** and no elements in **Min Heap**. Let’s take the largest element from the **Max Heap** and insert it into the **Min Heap**, to balance the number of elements in both heaps.\n",
    "\n",
    "<img src='img/4.png' width=\"600\" height=\"300\" align=\"center\"/>\n",
    "\n",
    "3. **`findMedian()`:** As we have an even number of elements, the median will be the average of the top element of both the heaps $\\Rightarrow$ $\\frac{1+3}{2}= 2.0$\n",
    "\n",
    "4. **`insertNum(5)`:** As ‘5’ is greater than the top element of the **Max Heap**, we can insert it into the **Min Heap**. After the insertion, the total count of elements will be odd. As we had decided to have more numbers in the **Max Heap** than the **Min Heap**, we can take the top (smallest) number from the **Min Heap** and insert it into the **Max Heap**.\n",
    "\n",
    "<img src='img/5.png' width=\"600\" height=\"300\" align=\"center\"/>\n",
    "\n",
    "5. **`findMedian()`:** Since we have an odd number of elements, the median will be the top element of **Max Heap** -> 3. An odd number of elements also means that the **Max Heap** will have one extra element than the **Min Heap**.\n",
    "\n",
    "6. **`insertNum(4)`:** Insert ‘4’ into **Min Heap**.\n",
    "\n",
    "<img src='img/6.png' width=\"600\" height=\"300\" align=\"center\"/>\n",
    "\n",
    "7. **`findMedian()`:** As we have an even number of elements, the median will be the average of the top element of both the heaps $\\Rightarrow$ $\\frac{3+4}{2} = 3.5$"
   ]
  },
  {
   "cell_type": "code",
   "execution_count": 2,
   "id": "225138bb",
   "metadata": {},
   "outputs": [
    {
     "name": "stdout",
     "output_type": "stream",
     "text": [
      "The median is: 2.0\n",
      "The median is: 3.0\n",
      "The median is: 3.5\n"
     ]
    }
   ],
   "source": [
    "from heapq import *\n",
    "\n",
    "\n",
    "class MedianOfAStream:\n",
    "\n",
    "    maxHeap = []  # containing first half of numbers\n",
    "    minHeap = []  # containing second half of numbers\n",
    "\n",
    "    def insert_num(self, num):\n",
    "        if not self.maxHeap or -self.maxHeap[0] >= num:\n",
    "            heappush(self.maxHeap, -num)\n",
    "        else:\n",
    "            heappush(self.minHeap, num)\n",
    "\n",
    "        # either both the heaps will have equal number of elements or max-heap will have one\n",
    "        # more element than the min-heap\n",
    "        if len(self.maxHeap) > len(self.minHeap) + 1:\n",
    "            heappush(self.minHeap, -heappop(self.maxHeap))\n",
    "        elif len(self.maxHeap) < len(self.minHeap):\n",
    "            heappush(self.maxHeap, -heappop(self.minHeap))\n",
    "\n",
    "    def find_median(self):\n",
    "        if len(self.maxHeap) == len(self.minHeap):\n",
    "            # we have even number of elements, take the average of middle two elements\n",
    "            return -self.maxHeap[0] / 2.0 + self.minHeap[0] / 2.0\n",
    "\n",
    "        # because max-heap will have one more element than the min-heap\n",
    "        return -self.maxHeap[0] / 1.0\n",
    "\n",
    "\n",
    "def main():\n",
    "    medianOfAStream = MedianOfAStream()\n",
    "    medianOfAStream.insert_num(3)\n",
    "    medianOfAStream.insert_num(1)\n",
    "    print(\"The median is: \" + str(medianOfAStream.find_median()))\n",
    "    medianOfAStream.insert_num(5)\n",
    "    print(\"The median is: \" + str(medianOfAStream.find_median()))\n",
    "    medianOfAStream.insert_num(4)\n",
    "    print(\"The median is: \" + str(medianOfAStream.find_median()))\n",
    "\n",
    "\n",
    "main()"
   ]
  },
  {
   "cell_type": "markdown",
   "id": "0271debd",
   "metadata": {},
   "source": [
    "### Time complexity\n",
    "The time complexity of the `insertNum()` will be $O(logN)$ due to the insertion in the heap. The time complexity of the `findMedian()` will be $O(1)$ as we can find the median from the top elements of the heaps.\n",
    "\n",
    "### Space complexity\n",
    "The space complexity will be $O(N)$ because, as at any time, we will be storing all the numbers."
   ]
  },
  {
   "cell_type": "code",
   "execution_count": null,
   "id": "47f1cc39",
   "metadata": {},
   "outputs": [],
   "source": []
  },
  {
   "cell_type": "code",
   "execution_count": null,
   "id": "2e07953f",
   "metadata": {},
   "outputs": [],
   "source": []
  },
  {
   "cell_type": "code",
   "execution_count": null,
   "id": "368f9e29",
   "metadata": {},
   "outputs": [],
   "source": []
  },
  {
   "cell_type": "code",
   "execution_count": null,
   "id": "93ea7797",
   "metadata": {},
   "outputs": [],
   "source": []
  },
  {
   "cell_type": "code",
   "execution_count": null,
   "id": "77b7986e",
   "metadata": {},
   "outputs": [],
   "source": []
  },
  {
   "cell_type": "markdown",
   "id": "8e7c80ac",
   "metadata": {},
   "source": [
    "<img src='img/x.png' width=\"600\" height=\"300\" align=\"center\"/>"
   ]
  }
 ],
 "metadata": {
  "kernelspec": {
   "display_name": "Python 3",
   "language": "python",
   "name": "python3"
  },
  "language_info": {
   "codemirror_mode": {
    "name": "ipython",
    "version": 3
   },
   "file_extension": ".py",
   "mimetype": "text/x-python",
   "name": "python",
   "nbconvert_exporter": "python",
   "pygments_lexer": "ipython3",
   "version": "3.8.8"
  }
 },
 "nbformat": 4,
 "nbformat_minor": 5
}
