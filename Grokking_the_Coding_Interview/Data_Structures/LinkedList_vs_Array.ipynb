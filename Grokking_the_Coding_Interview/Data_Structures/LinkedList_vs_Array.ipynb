{
 "cells": [
  {
   "cell_type": "markdown",
   "id": "e93b1fc2",
   "metadata": {},
   "source": [
    "# LinkedList vs Array"
   ]
  },
  {
   "cell_type": "markdown",
   "id": "dca4957e",
   "metadata": {},
   "source": [
    "### LinkedList vs. Array\n",
    "Arrays store elements in contiguous memory locations, resulting in easily calculable addresses for the elements stored and this allows faster access to an element at a specific index. Linked lists are less rigid in their storage structure and elements are usually not stored in contiguous locations, hence they need to be stored with additional tags giving a reference to the next element. This difference in the data storage scheme decides which data structure would be more suitable for a given situation. \n",
    "\n",
    "<img src='data/ds0.png' width=\"800\" height=\"400\" align=\"center\"/>"
   ]
  },
  {
   "cell_type": "markdown",
   "id": "2beddf42",
   "metadata": {},
   "source": [
    "### Major differences: \n",
    "\n",
    "- **Size:** Since data can only be stored in contiguous blocks of memory in an array, its size cannot be altered at runtime due to the risk of overwriting other data. However, in a linked list, each node points to the next one such that data can exist at scattered (non-contiguous) addresses; this allows for a dynamic size that can change at runtime.\n",
    "- **Memory:** allocation: For arrays at compile time and at runtime for linked lists. but, a dynamically allocated array also allocates memory at runtime.\n",
    "- **Memory efficiency:** For the same number of elements, linked lists use more memory as a reference to the next node is also stored along with the data. However, size flexibility in linked lists may make them use less memory overall; this is useful when there is uncertainty about size or there are large variations in the size of data elements; memory equivalent to the upper limit on the size has to be allocated (even if not all of it is being used) while using arrays, whereas linked lists can increase their sizes step-by-step proportionately to the amount of data.\n",
    "- **Execution time:** Any element in an array can be directly accessed with its index; however in the case of a linked list, all the previous elements must be traversed to reach any element. Also, better cache locality in arrays (due to contiguous memory allocation) can significantly improve performance. As a result, some operations (such as modifying a certain element) are faster in arrays, while others (such as inserting/deleting an element in the data) are faster in linked lists.\n",
    "- **Insertion:** In an array, insertion operation takes more time but in linked last these operations are fast. For example, if we want to insert an element in the array at the end position in the array and the array is full then we copy the array into another array and then we can add an element whereas if the linked list is full then we find the last node and make it next to the new node \n",
    "- **Dependency:** In array values are independent of each other but in the case of linked list nodes are dependent on each other. one node is dependent on its previous node. If the previous node gets loss then we can’t find its next subsequent nodes."
   ]
  },
  {
   "cell_type": "markdown",
   "id": "f34bd909",
   "metadata": {},
   "source": [
    "<img src='data/ds1.png' width=\"600\" height=\"300\" align=\"center\"/>"
   ]
  },
  {
   "cell_type": "markdown",
   "id": "89687ffa",
   "metadata": {},
   "source": [
    "### Pros of LinkedLists\n",
    "- Linked list provides the following two advantages over arrays \n",
    "    - 1) Dynamic size \n",
    "    - 2) Ease of insertion/deletion \n",
    "\n",
    "- (**1**) The size of the arrays is fixed: So we must know the upper limit on the number of elements in advance. Also, generally, the allocated memory is equal to the upper limit irrespective of usage, and in practical uses, the upper limit is rarely reached. \n",
    "- (**2a**) Inserting a new element in an array of elements is expensive because a room has to be created for the new elements and to create a room existing elements have to be shifted. \n",
    "\n",
    "    - For example, suppose we maintain a sorted list of IDs in an array `id[ ]`\n",
    "\n",
    "    - `id[ ] = [1000, 1010, 1050, 2000, 2040, …..]`.\n",
    "\n",
    "    - And if we want to insert a new ID `1005`, then to maintain the sorted order, we have to move all the elements after `1000` (excluding `1000`). \n",
    "\n",
    "- (**2b**) Deletion is also expensive with arrays unless some special techniques are used. For example, to delete `1010` in `id[]`, everything after `1010` has to be moved. "
   ]
  },
  {
   "cell_type": "markdown",
   "id": "36208c5f",
   "metadata": {},
   "source": [
    "### Cons of LinkedLists\n",
    "- 1) Random access is not allowed. We have to access elements sequentially starting from the first node. So we cannot do a binary search with linked lists. \n",
    "- 2) Extra memory space for a pointer is required for each element of the list. \n",
    "- 3) Arrays have a better cache locality that can make a pretty big difference in performance.\n",
    "- 4) It takes a lot of time in traversing and changing the pointers.\n",
    "- 5)  It will be confusing when we work with pointers.\n",
    "\n",
    "### Cons of Arrays\n",
    "- 1) Array is static in nature. Once the size of the array is declared then we can’t modify it.\n",
    "- 2) Insertion and deletion operations are difficult in an array as elements are stored in contiguous memory locations and the shifting operations are costly.\n",
    "- 3) The number of elements that have to be stored in an array should be known in advance.\n",
    "- 4) Wastage of memory is the main problem in the array. If the array size is big the less allocation of memory leads to wastage of memory."
   ]
  },
  {
   "cell_type": "markdown",
   "id": "a956fabe",
   "metadata": {},
   "source": [
    "#### Sources\n",
    "- https://www.geeksforgeeks.org/linked-list-vs-array/\n",
    "- http://cslibrary.stanford.edu/103/LinkedListBasics.pdf"
   ]
  },
  {
   "cell_type": "markdown",
   "id": "7b56f788",
   "metadata": {},
   "source": [
    "<img src='data/sw0.png' width=\"600\" height=\"300\" align=\"center\"/>"
   ]
  }
 ],
 "metadata": {
  "kernelspec": {
   "display_name": "Python 3",
   "language": "python",
   "name": "python3"
  },
  "language_info": {
   "codemirror_mode": {
    "name": "ipython",
    "version": 3
   },
   "file_extension": ".py",
   "mimetype": "text/x-python",
   "name": "python",
   "nbconvert_exporter": "python",
   "pygments_lexer": "ipython3",
   "version": "3.8.8"
  }
 },
 "nbformat": 4,
 "nbformat_minor": 5
}
