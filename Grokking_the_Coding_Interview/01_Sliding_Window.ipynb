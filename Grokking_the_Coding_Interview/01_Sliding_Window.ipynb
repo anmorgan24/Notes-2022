{
 "cells": [
  {
   "cell_type": "markdown",
   "id": "b9c0231e",
   "metadata": {},
   "source": [
    "# Pattern: Sliding Window\n",
    "**Note:** The following is a combination of notes from [educative](https://www.educative.io/learn)'s [\"Grokking the Coding Interview\"](https://www.educative.io/courses/grokking-the-coding-interview/xl0ElGxR6Bq) course"
   ]
  },
  {
   "cell_type": "markdown",
   "id": "d572fc2e",
   "metadata": {},
   "source": [
    "This course categorizes coding interview problems into a set of 16 patterns. Each pattern will be a complete tool - consisting of data structures, algorithms, and analysis techniques - to solve a specific category of problems. The goal is to develop an understanding of the underlying pattern, so that, we can apply that pattern to solve other problems.\n",
    "\n",
    "We have chosen each problem carefully such that it not only maps to the same pattern but also presents different constraints. Overall, the course has around 150 problems mapped to 16 patterns.\n",
    "\n",
    "The problems solved under these patterns use a varied set of algorithmic techniques. We will make use of **Breadth-First Search** and **Depth-First Search** to solve problems related to **Trees** and **Graphs**. Similarly, we will also cover **Dynamic Programming**, **Backtracking**, **Recursion**, **Greedy algorithms**, and **Divide & Conquer**."
   ]
  },
  {
   "cell_type": "markdown",
   "id": "555472cc",
   "metadata": {},
   "source": [
    "### Brute force\n",
    "A brute-force algorithm will calculate the sum of every 5-element subarray of the given array and divide the sum by ‘5’ to find the average. This is what the algorithm will look like:"
   ]
  },
  {
   "cell_type": "code",
   "execution_count": 5,
   "id": "4b49b8d5",
   "metadata": {},
   "outputs": [
    {
     "name": "stdout",
     "output_type": "stream",
     "text": [
      "Averages of subarrays of size K: [2.2, 2.8, 2.4, 3.6, 2.8]\n"
     ]
    }
   ],
   "source": [
    "def find_averages_of_subarrays(K, arr):\n",
    "    result = []\n",
    "    for i in range(len(arr)-K+1):\n",
    "        # find sum of nex 'K' elements\n",
    "        _sum = 0.0\n",
    "        for j in range(i, i+K):\n",
    "            _sum += arr[j]\n",
    "        result.append(_sum/K)\n",
    "        \n",
    "    return result\n",
    "\n",
    "def main():\n",
    "    result = find_averages_of_subarrays(5, [1, 3, 2, 6, -1, 4, 1, 8, 2])\n",
    "    print(\"Averages of subarrays of size K: \" + str(result))\n",
    "    \n",
    "main()"
   ]
  },
  {
   "cell_type": "markdown",
   "id": "3efa1a08",
   "metadata": {},
   "source": [
    "**Time complexity:** Since for every element of the input array, we are calculating the sum of its next ‘K’ elements, the time complexity of the above algorithm will be: $$O(N*K)$$ where ‘N’ is the number of elements in the input array.\n",
    "\n",
    "The **inefficiency** is that for any two consecutive subarrays of size '5', the overlapping part (which will contain four elements) will be evaluated twice. For example:\n",
    "\n",
    "<img src='../data/sw0.png' width=\"500\" height=\"250\" align=\"center\"/>\n",
    "\n",
    "There are four overlapping elements between the subarray indexed 0-4 and the subarray indexed 1-5. Can we somehow reuse the `sum` we have calculated for the overlapping elements?\n",
    "\n",
    "The **efficient** way to solve this problem would be to visualize each subarray as a sliding window of '5' elements. This means that **we will slide the window by one element when we move on to the next subarray.** To reuse the `sum` from the previous subarray, we will subtract the element going out of the window and add the element now being included in the sliding window. This will save us from going through the whole subarray to find the `sum` and, as a result, the algorithm complexity will reduce to: $$O(N)$$\n",
    "\n",
    "<img src='../data/sw1.png' width=\"500\" height=\"250\" align=\"center\"/>\n",
    "\n",
    "**Here is the algorithm for the sliding window approach:**"
   ]
  },
  {
   "cell_type": "code",
   "execution_count": 1,
   "id": "299f5d0e",
   "metadata": {},
   "outputs": [
    {
     "name": "stdout",
     "output_type": "stream",
     "text": [
      "Averages of subarrays of size K: [2.2, 2.8, 2.4, 3.6, 2.8]\n"
     ]
    }
   ],
   "source": [
    "def find_averages_of_subarrays(K, arr):\n",
    "    result = []\n",
    "    windowSum, windowStart = 0.0, 0\n",
    "    for windowEnd in range(len(arr)):\n",
    "        windowSum += arr[windowEnd] # add the next element\n",
    "        #slide the window, we don't need to slide if we've not hit the required window size of 'k'\n",
    "        if windowEnd >= K-1:\n",
    "            result.append(windowSum / K) # calculate the average\n",
    "            windowSum -= arr[windowStart] # subtract the element going out\n",
    "            windowStart += 1 # slide the window ahead\n",
    "            \n",
    "    return result\n",
    "\n",
    "def main():\n",
    "    result = find_averages_of_subarrays(5, [1, 3, 2, 6, -1, 4, 1, 8, 2])\n",
    "    print(\"Averages of subarrays of size K: \" + str(result))\n",
    "    \n",
    "main()"
   ]
  },
  {
   "cell_type": "markdown",
   "id": "9b2782f3",
   "metadata": {},
   "source": [
    "## Exercises\n",
    "### Maximum Sum Subarray of Size K (easy)\n",
    "Given an array of positive numbers and a positive number ‘k,’ find the **maximum sum of any contiguous subarray of size ‘k’**.\n",
    "\n",
    "$\\star$ **My first attempt:**"
   ]
  },
  {
   "cell_type": "code",
   "execution_count": 8,
   "id": "8c2dd960",
   "metadata": {},
   "outputs": [],
   "source": [
    "def max_sub_array_of_size_k(k, arr):\n",
    "  subSum = []\n",
    "  windowSum, windowStart = 0, 0\n",
    "  for windowEnd in range(len(arr)):\n",
    "    windowSum +=arr[windowEnd] # add the next element\n",
    "    # slide the window, we don't need to slide if we've not hit the required window size of 'k'\n",
    "    if windowEnd >= k-1:\n",
    "      subSum.append(windowSum) # add the sum\n",
    "      windowSum -= arr[windowStart] # subtract the outgoing element\n",
    "      windowStart += 1 # slide the window ahead\n",
    "  \n",
    "  return(max(subSum))"
   ]
  },
  {
   "cell_type": "code",
   "execution_count": 9,
   "id": "7d9e1722",
   "metadata": {},
   "outputs": [
    {
     "data": {
      "text/plain": [
       "9"
      ]
     },
     "execution_count": 9,
     "metadata": {},
     "output_type": "execute_result"
    }
   ],
   "source": [
    "max_sub_array_of_size_k(3, [2, 1, 5, 1, 3, 2])"
   ]
  },
  {
   "cell_type": "code",
   "execution_count": 10,
   "id": "268bf383",
   "metadata": {},
   "outputs": [
    {
     "data": {
      "text/plain": [
       "7"
      ]
     },
     "execution_count": 10,
     "metadata": {},
     "output_type": "execute_result"
    }
   ],
   "source": [
    "max_sub_array_of_size_k(2, [2, 3, 4, 1, 5])"
   ]
  },
  {
   "cell_type": "markdown",
   "id": "fb6babbb",
   "metadata": {},
   "source": [
    "**The brute force answer:**"
   ]
  },
  {
   "cell_type": "code",
   "execution_count": 12,
   "id": "3fa23bd6",
   "metadata": {},
   "outputs": [
    {
     "name": "stdout",
     "output_type": "stream",
     "text": [
      "Maximum sum of a subarray of size K: 11\n",
      "Maximum sum of a subarray of size K: 13\n"
     ]
    }
   ],
   "source": [
    "def max_sub_array_of_size_k(k, arr):\n",
    "    max_sum, window_sum = 0,0\n",
    "    \n",
    "    for i in range(len(arr) -k +1):\n",
    "        window_sum = 0\n",
    "        for j in range(i, i+k):\n",
    "            window_sum += arr[j]\n",
    "        max_sum += arr[j]\n",
    "    return max_sum\n",
    "\n",
    "def main():\n",
    "  print(\"Maximum sum of a subarray of size K: \" + str(max_sub_array_of_size_k(3, [2, 1, 5, 1, 3, 2])))\n",
    "  print(\"Maximum sum of a subarray of size K: \" + str(max_sub_array_of_size_k(2, [2, 3, 4, 1, 5])))\n",
    "\n",
    "main()"
   ]
  },
  {
   "cell_type": "markdown",
   "id": "954cb840",
   "metadata": {},
   "source": [
    "The above **brute force** algorithm’s time complexity will be: $$O(N*K)$$ where ‘N’ is the total number of elements in the given array. "
   ]
  },
  {
   "cell_type": "markdown",
   "id": "31b323e3",
   "metadata": {},
   "source": [
    "A **better approach:**\n",
    "\n",
    "To slide the window forward and calculate the sum of the new position of the sliding window, we need to do two things:\n",
    "- 1) Subtract the element going out of the sliding window, i.e., subtract the first element of the window.\n",
    "- 2) Add the new element getting included in the sliding window, i.e., the element coming right after the end of the window.\n",
    "\n",
    "This approach will save us from re-calculating the sum of the overlapping part of the sliding window. Here is what our algorithm will look like:"
   ]
  },
  {
   "cell_type": "code",
   "execution_count": 13,
   "id": "15738ff1",
   "metadata": {},
   "outputs": [],
   "source": [
    "def max_sub_array_of_size_k(k, arr):\n",
    "    max_sum, window_sum, window_start = 0, 0, 0\n",
    "    \n",
    "    for window_end in range(len(arr)):\n",
    "        window_sum += arr[window_end] #add the next element\n",
    "        # slide the window, we don't need to slide if we've not hit the required window size of 'k'\n",
    "        if window_end >= k-1:\n",
    "            max_sum = max(max_sum, window_sum)\n",
    "            window_sum -= arr[window_start] # subtract the element going out\n",
    "            window_start += 1 # slide the window ahead\n",
    "    return max_sum"
   ]
  },
  {
   "cell_type": "code",
   "execution_count": 14,
   "id": "dec29521",
   "metadata": {},
   "outputs": [
    {
     "name": "stdout",
     "output_type": "stream",
     "text": [
      "Maximum sum of a subarray of size K: 9\n",
      "Maximum sum of a subarray of size K: 7\n"
     ]
    }
   ],
   "source": [
    "def main():\n",
    "  print(\"Maximum sum of a subarray of size K: \" + str(max_sub_array_of_size_k(3, [2, 1, 5, 1, 3, 2])))\n",
    "  print(\"Maximum sum of a subarray of size K: \" + str(max_sub_array_of_size_k(2, [2, 3, 4, 1, 5])))\n",
    "\n",
    "main()"
   ]
  },
  {
   "cell_type": "markdown",
   "id": "8eca57d7",
   "metadata": {},
   "source": [
    "**Time Complexity:** $O(N)$\n",
    "\n",
    "**Space Complexity:** $O(1)$ (constant space)"
   ]
  },
  {
   "cell_type": "code",
   "execution_count": null,
   "id": "ffd85210",
   "metadata": {},
   "outputs": [],
   "source": []
  },
  {
   "cell_type": "code",
   "execution_count": null,
   "id": "aba47036",
   "metadata": {},
   "outputs": [],
   "source": []
  },
  {
   "cell_type": "code",
   "execution_count": 140,
   "id": "70d269a1",
   "metadata": {},
   "outputs": [],
   "source": [
    "def fizz_buzz(n):\n",
    "    result=[]\n",
    "    for i in range(1,n+1):\n",
    "        if (i%3==0) & (i%5==0):\n",
    "            result.append(\"fizzbuzz\")\n",
    "        elif i%3==0:\n",
    "            result.append(\"fizz\")\n",
    "        elif i%5==0:\n",
    "            result.append(\"buzz\")\n",
    "        else:\n",
    "            result.append(str(i))\n",
    "    result = ''.join(result)\n",
    "    return result"
   ]
  },
  {
   "cell_type": "code",
   "execution_count": 141,
   "id": "b1e68047",
   "metadata": {},
   "outputs": [
    {
     "data": {
      "text/plain": [
       "'12fizz4buzzfizz78fizzbuzz11fizz1314fizzbuzz'"
      ]
     },
     "execution_count": 141,
     "metadata": {},
     "output_type": "execute_result"
    }
   ],
   "source": [
    "fizz_buzz(15)"
   ]
  },
  {
   "cell_type": "code",
   "execution_count": 142,
   "id": "a0c117de",
   "metadata": {},
   "outputs": [
    {
     "data": {
      "text/plain": [
       "'1'"
      ]
     },
     "execution_count": 142,
     "metadata": {},
     "output_type": "execute_result"
    }
   ],
   "source": [
    "fizz_buzz(1)"
   ]
  },
  {
   "cell_type": "code",
   "execution_count": 138,
   "id": "dc0ee881",
   "metadata": {},
   "outputs": [
    {
     "data": {
      "text/plain": [
       "1"
      ]
     },
     "execution_count": 138,
     "metadata": {},
     "output_type": "execute_result"
    }
   ],
   "source": [
    "1%3"
   ]
  },
  {
   "cell_type": "code",
   "execution_count": 139,
   "id": "4940b194",
   "metadata": {},
   "outputs": [
    {
     "data": {
      "text/plain": [
       "1"
      ]
     },
     "execution_count": 139,
     "metadata": {},
     "output_type": "execute_result"
    }
   ],
   "source": [
    "1%5"
   ]
  },
  {
   "cell_type": "code",
   "execution_count": null,
   "id": "41c49127",
   "metadata": {},
   "outputs": [],
   "source": []
  },
  {
   "cell_type": "code",
   "execution_count": null,
   "id": "aeb69f41",
   "metadata": {},
   "outputs": [],
   "source": []
  },
  {
   "cell_type": "code",
   "execution_count": null,
   "id": "04875c56",
   "metadata": {},
   "outputs": [],
   "source": []
  },
  {
   "cell_type": "code",
   "execution_count": null,
   "id": "687a6dcc",
   "metadata": {},
   "outputs": [],
   "source": []
  },
  {
   "cell_type": "code",
   "execution_count": null,
   "id": "04fa130e",
   "metadata": {},
   "outputs": [],
   "source": []
  },
  {
   "cell_type": "code",
   "execution_count": 2,
   "id": "16371287",
   "metadata": {},
   "outputs": [
    {
     "name": "stdout",
     "output_type": "stream",
     "text": [
      "0\n",
      "1\n",
      "2\n",
      "3\n",
      "4\n",
      "5\n",
      "6\n",
      "7\n",
      "8\n",
      "9\n"
     ]
    }
   ],
   "source": [
    "for x in range(10):\n",
    "    print(x)"
   ]
  },
  {
   "cell_type": "code",
   "execution_count": 7,
   "id": "ff3e5eea",
   "metadata": {},
   "outputs": [
    {
     "name": "stdout",
     "output_type": "stream",
     "text": [
      "t o i\n"
     ]
    }
   ],
   "source": [
    "## initializing string\n",
    "string = \"tutorialspoint\"\n",
    "## initializing a list to append all the duplicate characters\n",
    "duplicates = []\n",
    "for char in string:\n",
    "   ## checking whether the character have a duplicate or not\n",
    "   ## str.count(char) returns the frequency of a char in the str\n",
    "   if string.count(char) > 1:\n",
    "   ## appending to the list if it's already not present\n",
    "       if char not in duplicates:\n",
    "           duplicates.append(char)\n",
    "print(*duplicates)"
   ]
  },
  {
   "cell_type": "code",
   "execution_count": 8,
   "id": "01a3494a",
   "metadata": {},
   "outputs": [],
   "source": [
    "class Solution:\n",
    "    def countGoodSubstrings(self, s: str) -> int:\n",
    "        count=0\n",
    "        \n",
    "        for window_start in range(len(s)):\n",
    "            window_end = window_start+2\n",
    "            sub_string=s[window_start: window_end]\n",
    "            \n",
    "            if len(set(sub_string))==3:\n",
    "                count+=1\n",
    "        return count"
   ]
  },
  {
   "cell_type": "code",
   "execution_count": 9,
   "id": "571cf8cc",
   "metadata": {},
   "outputs": [],
   "source": [
    "def countGoodSubstrings(self, s: str) -> int:\n",
    "        count=0\n",
    "        \n",
    "        for window_start in range(len(s)):\n",
    "            window_end = window_start+2\n",
    "            sub_string=s[window_start: window_end]\n",
    "            \n",
    "            if len(set(sub_string))==3:\n",
    "                count+=1\n",
    "        return count"
   ]
  },
  {
   "cell_type": "code",
   "execution_count": 12,
   "id": "7118eb7d",
   "metadata": {},
   "outputs": [
    {
     "ename": "NameError",
     "evalue": "name 'self' is not defined",
     "output_type": "error",
     "traceback": [
      "\u001b[0;31m---------------------------------------------------------------------------\u001b[0m",
      "\u001b[0;31mNameError\u001b[0m                                 Traceback (most recent call last)",
      "\u001b[0;32m<ipython-input-12-08528718631e>\u001b[0m in \u001b[0;36m<module>\u001b[0;34m\u001b[0m\n\u001b[0;32m----> 1\u001b[0;31m \u001b[0mcountGoodSubstrings\u001b[0m\u001b[0;34m(\u001b[0m\u001b[0mself\u001b[0m\u001b[0;34m,\u001b[0m \u001b[0ms\u001b[0m\u001b[0;34m=\u001b[0m\u001b[0;34m\"xyzzaz\"\u001b[0m\u001b[0;34m)\u001b[0m\u001b[0;34m\u001b[0m\u001b[0;34m\u001b[0m\u001b[0m\n\u001b[0m",
      "\u001b[0;31mNameError\u001b[0m: name 'self' is not defined"
     ]
    }
   ],
   "source": [
    "countGoodSubstrings(self, s=\"xyzzaz\")"
   ]
  },
  {
   "cell_type": "code",
   "execution_count": 14,
   "id": "ae97d11e",
   "metadata": {},
   "outputs": [],
   "source": [
    "S=Solution()"
   ]
  },
  {
   "cell_type": "code",
   "execution_count": 15,
   "id": "46e56bfa",
   "metadata": {},
   "outputs": [
    {
     "data": {
      "text/plain": [
       "0"
      ]
     },
     "execution_count": 15,
     "metadata": {},
     "output_type": "execute_result"
    }
   ],
   "source": [
    "S.countGoodSubstrings(\"xyzzaz\")"
   ]
  },
  {
   "cell_type": "code",
   "execution_count": 26,
   "id": "56ee365a",
   "metadata": {},
   "outputs": [],
   "source": [
    "def countGoodSubstrings(s):\n",
    "        count=0\n",
    "        \n",
    "        for window_start in range(len(s)):\n",
    "            window_end = window_start+3\n",
    "            sub_string=s[window_start: window_end]\n",
    "            if len(set(sub_string))==3:\n",
    "                count+=1\n",
    "        return count"
   ]
  },
  {
   "cell_type": "code",
   "execution_count": 27,
   "id": "21fa7ed6",
   "metadata": {},
   "outputs": [
    {
     "data": {
      "text/plain": [
       "1"
      ]
     },
     "execution_count": 27,
     "metadata": {},
     "output_type": "execute_result"
    }
   ],
   "source": [
    "countGoodSubstrings(\"xyzzaz\")"
   ]
  },
  {
   "cell_type": "code",
   "execution_count": null,
   "id": "7b63dc04",
   "metadata": {},
   "outputs": [],
   "source": []
  },
  {
   "cell_type": "code",
   "execution_count": null,
   "id": "37a67ab9",
   "metadata": {},
   "outputs": [],
   "source": []
  },
  {
   "cell_type": "code",
   "execution_count": 51,
   "id": "2be6f8b7",
   "metadata": {},
   "outputs": [],
   "source": [
    "def findMaxAverage(nums, k):\n",
    "    max_sum, window_start = 0, 0\n",
    "        \n",
    "    if len(nums) <= k:\n",
    "        return sum(nums) / k\n",
    "        \n",
    "    for window_end in range(len(nums)):\n",
    "        window_sum = sum(nums[window_start:window_start+k])\n",
    "    \n",
    "        \n",
    "        if window_end >= (k-1):\n",
    "            print(type(k))\n",
    "            max_sum = max(max_sum, window_sum)\n",
    "            print(type(max_sum))\n",
    "            print(type(window_sum))\n",
    "            window_sum -= nums[window_start]\n",
    "            window_start += 1\n",
    "    return max_sum/k"
   ]
  },
  {
   "cell_type": "code",
   "execution_count": 52,
   "id": "ae713472",
   "metadata": {},
   "outputs": [
    {
     "data": {
      "text/plain": [
       "-594.5806451612904"
      ]
     },
     "execution_count": 52,
     "metadata": {},
     "output_type": "execute_result"
    }
   ],
   "source": [
    "findMaxAverage([8860,-853,6534,4477,-4589,8646,-6155,-5577,-1656,-5779,-2619,-8604,-1358,-8009,4983,7063,3104,-1560,4080,2763,5616,-2375,2848,1394,-7173,-5225,-8244,-809,8025,-4072,-4391,-9579,1407,6700,2421,-6685,5481,-1732,-8892,-6645,3077,3287,-4149,8701,-4393,-9070,-1777,2237,-3253,-506,-4931,-7366,-8132,5406,-6300,-275,-1908,67,3569,1433,-7262,-437,8303,4498,-379,3054,-6285,4203,6908,4433,3077,2288,9733,-8067,3007,9725,9669,1362,-2561,-4225,5442,-9006,-429,160,-9234,-4444,3586,-5711,-9506,-79,-4418,-4348,-5891],\n",
    "93)"
   ]
  },
  {
   "cell_type": "code",
   "execution_count": null,
   "id": "1ed25df8",
   "metadata": {},
   "outputs": [],
   "source": []
  },
  {
   "cell_type": "code",
   "execution_count": 69,
   "id": "726474e6",
   "metadata": {},
   "outputs": [],
   "source": [
    "def findDisappearedNumber(nums):\n",
    "    missing = []\n",
    "    #nums = set(nums)\n",
    "    for x in range(1, len(nums)+1):\n",
    "        if x not in nums:\n",
    "            missing.append(x)\n",
    "    return missing"
   ]
  },
  {
   "cell_type": "code",
   "execution_count": 53,
   "id": "c4c47541",
   "metadata": {},
   "outputs": [],
   "source": [
    "j = [1, 2, 2, 3]"
   ]
  },
  {
   "cell_type": "code",
   "execution_count": 54,
   "id": "78f20352",
   "metadata": {},
   "outputs": [
    {
     "name": "stdout",
     "output_type": "stream",
     "text": [
      "[1, 2, 2, 3]\n"
     ]
    }
   ],
   "source": [
    "print(j)"
   ]
  },
  {
   "cell_type": "code",
   "execution_count": 55,
   "id": "7376d7f0",
   "metadata": {},
   "outputs": [
    {
     "data": {
      "text/plain": [
       "{1, 2, 3}"
      ]
     },
     "execution_count": 55,
     "metadata": {},
     "output_type": "execute_result"
    }
   ],
   "source": [
    "set(j)"
   ]
  },
  {
   "cell_type": "code",
   "execution_count": 57,
   "id": "acf60a3a",
   "metadata": {},
   "outputs": [],
   "source": [
    "nums=[4, 3, 2, 7, 8, 2, 3, 1]"
   ]
  },
  {
   "cell_type": "code",
   "execution_count": 66,
   "id": "fc5293b6",
   "metadata": {},
   "outputs": [
    {
     "data": {
      "text/plain": [
       "[5, 6]"
      ]
     },
     "execution_count": 66,
     "metadata": {},
     "output_type": "execute_result"
    }
   ],
   "source": [
    "findDisappearedNumber(nums)"
   ]
  },
  {
   "cell_type": "code",
   "execution_count": 70,
   "id": "4a283db1",
   "metadata": {},
   "outputs": [
    {
     "data": {
      "text/plain": [
       "[2]"
      ]
     },
     "execution_count": 70,
     "metadata": {},
     "output_type": "execute_result"
    }
   ],
   "source": [
    "findDisappearedNumber([1,1])"
   ]
  },
  {
   "cell_type": "code",
   "execution_count": 68,
   "id": "211ec6ff",
   "metadata": {},
   "outputs": [
    {
     "data": {
      "text/plain": [
       "2"
      ]
     },
     "execution_count": 68,
     "metadata": {},
     "output_type": "execute_result"
    }
   ],
   "source": [
    "len([1,1])"
   ]
  },
  {
   "cell_type": "code",
   "execution_count": 91,
   "id": "3b5f87f1",
   "metadata": {},
   "outputs": [],
   "source": [
    "def twoSum(nums, target):\n",
    "    for i in range(len(nums)+1):\n",
    "        complement = target - nums[i]\n",
    "        if complement in nums[i+1:]:\n",
    "            return [i, nums.index(complement)] "
   ]
  },
  {
   "cell_type": "code",
   "execution_count": 74,
   "id": "1746b3b6",
   "metadata": {},
   "outputs": [],
   "source": [
    "j = [2, 7, 11, 15]\n",
    "tar = 9"
   ]
  },
  {
   "cell_type": "code",
   "execution_count": 75,
   "id": "dc34c53b",
   "metadata": {},
   "outputs": [
    {
     "data": {
      "text/plain": [
       "[0, 1]"
      ]
     },
     "execution_count": 75,
     "metadata": {},
     "output_type": "execute_result"
    }
   ],
   "source": [
    "twoSum(j, tar)"
   ]
  },
  {
   "cell_type": "code",
   "execution_count": 101,
   "id": "d028486e",
   "metadata": {},
   "outputs": [],
   "source": [
    "k = [3,3]\n",
    "targ=6"
   ]
  },
  {
   "cell_type": "code",
   "execution_count": 112,
   "id": "ffdf68fa",
   "metadata": {},
   "outputs": [
    {
     "data": {
      "text/plain": [
       "[0, 1]"
      ]
     },
     "execution_count": 112,
     "metadata": {},
     "output_type": "execute_result"
    }
   ],
   "source": [
    "twoSum(k, targ)"
   ]
  },
  {
   "cell_type": "code",
   "execution_count": 111,
   "id": "28298ed1",
   "metadata": {},
   "outputs": [],
   "source": [
    "def twoSum(nums, target):\n",
    "    for i in range(len(nums)+1):\n",
    "        for j in range(1,len(nums)+1):\n",
    "            if nums[i] + nums[j] == target:\n",
    "                return [i, j]\n",
    "                break"
   ]
  },
  {
   "cell_type": "code",
   "execution_count": 113,
   "id": "c1bbceaf",
   "metadata": {},
   "outputs": [
    {
     "data": {
      "text/plain": [
       "range(0, 9)"
      ]
     },
     "execution_count": 113,
     "metadata": {},
     "output_type": "execute_result"
    }
   ],
   "source": [
    "range(len(nums)+1)"
   ]
  },
  {
   "cell_type": "code",
   "execution_count": null,
   "id": "b2f1c2cf",
   "metadata": {},
   "outputs": [],
   "source": [
    "[2,5,5,11]\n",
    "10\n",
    "Output\n",
    "[1,1]\n",
    "Expected\n",
    "[1,2]"
   ]
  },
  {
   "cell_type": "code",
   "execution_count": 116,
   "id": "156dcbfb",
   "metadata": {},
   "outputs": [],
   "source": [
    "def twoSum(nums, target):\n",
    "        for i in range(len(nums)):\n",
    "            for j in range(i+1, len(nums)):\n",
    "                if nums[i] + nums[j] == target:\n",
    "                    return [i, j]\n",
    "                    break"
   ]
  },
  {
   "cell_type": "code",
   "execution_count": 117,
   "id": "cf8d94cc",
   "metadata": {},
   "outputs": [
    {
     "data": {
      "text/plain": [
       "[1, 2]"
      ]
     },
     "execution_count": 117,
     "metadata": {},
     "output_type": "execute_result"
    }
   ],
   "source": [
    "twoSum([2,5,5,11], 10)"
   ]
  },
  {
   "cell_type": "code",
   "execution_count": 122,
   "id": "8b2ef04a",
   "metadata": {
    "scrolled": true
   },
   "outputs": [
    {
     "name": "stdout",
     "output_type": "stream",
     "text": [
      "9\n",
      "8\n",
      "7\n",
      "6\n",
      "5\n",
      "4\n",
      "3\n",
      "2\n"
     ]
    }
   ],
   "source": [
    "for i in reversed(range(2, 10)):\n",
    "    print(i)"
   ]
  },
  {
   "cell_type": "code",
   "execution_count": null,
   "id": "8167d371",
   "metadata": {},
   "outputs": [],
   "source": []
  },
  {
   "cell_type": "code",
   "execution_count": null,
   "id": "d2aabd21",
   "metadata": {},
   "outputs": [],
   "source": []
  },
  {
   "cell_type": "code",
   "execution_count": null,
   "id": "af97de8a",
   "metadata": {},
   "outputs": [],
   "source": []
  },
  {
   "cell_type": "code",
   "execution_count": null,
   "id": "8ad79087",
   "metadata": {},
   "outputs": [],
   "source": []
  },
  {
   "cell_type": "code",
   "execution_count": 154,
   "id": "220e7804",
   "metadata": {},
   "outputs": [],
   "source": [
    "def isPalindrome(x):\n",
    "    for i in range(len(x)//2):\n",
    "        j = len(x) - i - 1\n",
    "        if x[i] != x[j]:\n",
    "            return False\n",
    "        else:\n",
    "            i += 1               \n",
    "    return True"
   ]
  },
  {
   "cell_type": "code",
   "execution_count": 155,
   "id": "f238881f",
   "metadata": {},
   "outputs": [
    {
     "data": {
      "text/plain": [
       "False"
      ]
     },
     "execution_count": 155,
     "metadata": {},
     "output_type": "execute_result"
    }
   ],
   "source": [
    "isPalindrome('-7447')"
   ]
  },
  {
   "cell_type": "code",
   "execution_count": 162,
   "id": "db035608",
   "metadata": {},
   "outputs": [
    {
     "data": {
      "text/plain": [
       "7447"
      ]
     },
     "execution_count": 162,
     "metadata": {},
     "output_type": "execute_result"
    }
   ],
   "source": [
    "x = 7447\n",
    "x"
   ]
  },
  {
   "cell_type": "code",
   "execution_count": 164,
   "id": "25c13379",
   "metadata": {},
   "outputs": [
    {
     "data": {
      "text/plain": [
       "7"
      ]
     },
     "execution_count": 164,
     "metadata": {},
     "output_type": "execute_result"
    }
   ],
   "source": [
    "x%=10\n",
    "x"
   ]
  },
  {
   "cell_type": "code",
   "execution_count": 166,
   "id": "c052e6e5",
   "metadata": {},
   "outputs": [
    {
     "data": {
      "text/plain": [
       "7447"
      ]
     },
     "execution_count": 166,
     "metadata": {},
     "output_type": "execute_result"
    }
   ],
   "source": [
    "y = 7447\n",
    "y"
   ]
  },
  {
   "cell_type": "code",
   "execution_count": 167,
   "id": "730d5abd",
   "metadata": {},
   "outputs": [
    {
     "data": {
      "text/plain": [
       "7440"
      ]
     },
     "execution_count": 167,
     "metadata": {},
     "output_type": "execute_result"
    }
   ],
   "source": [
    "y - (y%10)"
   ]
  },
  {
   "cell_type": "code",
   "execution_count": 168,
   "id": "15ebefc5",
   "metadata": {},
   "outputs": [
    {
     "data": {
      "text/plain": [
       "47"
      ]
     },
     "execution_count": 168,
     "metadata": {},
     "output_type": "execute_result"
    }
   ],
   "source": [
    "7447%100"
   ]
  },
  {
   "cell_type": "code",
   "execution_count": 169,
   "id": "243d0e6c",
   "metadata": {},
   "outputs": [
    {
     "data": {
      "text/plain": [
       "7"
      ]
     },
     "execution_count": 169,
     "metadata": {},
     "output_type": "execute_result"
    }
   ],
   "source": [
    "7447//1000"
   ]
  },
  {
   "cell_type": "code",
   "execution_count": 171,
   "id": "8f8921e2",
   "metadata": {},
   "outputs": [
    {
     "data": {
      "text/plain": [
       "1"
      ]
     },
     "execution_count": 171,
     "metadata": {},
     "output_type": "execute_result"
    }
   ],
   "source": []
  },
  {
   "cell_type": "code",
   "execution_count": 192,
   "id": "3cd8fa45",
   "metadata": {},
   "outputs": [],
   "source": [
    "def isPalindrome(x):\n",
    "    if (x < 0) | ((x % 10 == 0) & (x != 0)):\n",
    "        return False\n",
    "    backwardsNum = 0\n",
    "    while (x > backwardsNum):\n",
    "        backwardsNum = backwardsNum * 10 + x % 10\n",
    "        x //= 10\n",
    "    return (x == backwardsNum or x == backwardsNum//10)"
   ]
  },
  {
   "cell_type": "code",
   "execution_count": 197,
   "id": "f84ade87",
   "metadata": {},
   "outputs": [
    {
     "data": {
      "text/plain": [
       "False"
      ]
     },
     "execution_count": 197,
     "metadata": {},
     "output_type": "execute_result"
    }
   ],
   "source": [
    "isPalindrome(-77477)"
   ]
  },
  {
   "cell_type": "code",
   "execution_count": null,
   "id": "7ec5497f",
   "metadata": {},
   "outputs": [],
   "source": []
  },
  {
   "cell_type": "code",
   "execution_count": 199,
   "id": "00b97664",
   "metadata": {},
   "outputs": [],
   "source": [
    "def containsNearbyDuplicate(nums, k):\n",
    "    hm = {}\n",
    "    set_nums=set(nums)\n",
    "    for num in set_nums:\n",
    "        if num not in hm:\n",
    "            hm[num]=0\n",
    "            hm[num]+=1\n",
    "    for k, v in hm.items():\n",
    "        if v == 0:\n",
    "            del hm[k]\n",
    "        return v <= k"
   ]
  },
  {
   "cell_type": "code",
   "execution_count": 203,
   "id": "4edd1a92",
   "metadata": {},
   "outputs": [
    {
     "data": {
      "text/plain": [
       "True"
      ]
     },
     "execution_count": 203,
     "metadata": {},
     "output_type": "execute_result"
    }
   ],
   "source": [
    "containsNearbyDuplicate([1, 2, 3, 1, 2, 3], 2)"
   ]
  },
  {
   "cell_type": "code",
   "execution_count": null,
   "id": "f738815e",
   "metadata": {
    "collapsed": true
   },
   "outputs": [],
   "source": []
  },
  {
   "cell_type": "code",
   "execution_count": null,
   "id": "182fcfcb",
   "metadata": {},
   "outputs": [],
   "source": []
  },
  {
   "cell_type": "code",
   "execution_count": null,
   "id": "132e586e",
   "metadata": {},
   "outputs": [],
   "source": []
  },
  {
   "cell_type": "code",
   "execution_count": null,
   "id": "0259cbec",
   "metadata": {},
   "outputs": [],
   "source": []
  },
  {
   "cell_type": "code",
   "execution_count": null,
   "id": "52603bb9",
   "metadata": {},
   "outputs": [],
   "source": []
  },
  {
   "cell_type": "code",
   "execution_count": null,
   "id": "352e887e",
   "metadata": {},
   "outputs": [],
   "source": []
  },
  {
   "cell_type": "code",
   "execution_count": null,
   "id": "f8b744cf",
   "metadata": {},
   "outputs": [],
   "source": []
  },
  {
   "cell_type": "code",
   "execution_count": 114,
   "id": "6b72c4cc",
   "metadata": {
    "scrolled": true
   },
   "outputs": [
    {
     "data": {
      "text/plain": [
       "range(0, 3)"
      ]
     },
     "execution_count": 114,
     "metadata": {},
     "output_type": "execute_result"
    }
   ],
   "source": [
    "range(len(k)+1)"
   ]
  },
  {
   "cell_type": "markdown",
   "id": "e55d491e",
   "metadata": {},
   "source": [
    "<img src='data/bigo4.png' width=\"600\" height=\"300\" align=\"center\"/>"
   ]
  }
 ],
 "metadata": {
  "kernelspec": {
   "display_name": "Python 3",
   "language": "python",
   "name": "python3"
  },
  "language_info": {
   "codemirror_mode": {
    "name": "ipython",
    "version": 3
   },
   "file_extension": ".py",
   "mimetype": "text/x-python",
   "name": "python",
   "nbconvert_exporter": "python",
   "pygments_lexer": "ipython3",
   "version": "3.8.8"
  }
 },
 "nbformat": 4,
 "nbformat_minor": 5
}
