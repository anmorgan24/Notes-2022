{
 "cells": [
  {
   "cell_type": "markdown",
   "id": "4c0cc79e",
   "metadata": {},
   "source": [
    "# In-place Reversal of a LinkedList\n",
    "\n",
    "In a lot of problems, we are asked to reverse the links between a set of nodes of a **LinkedList**. Often, the constraint is that we need to do this in-place, i.e., using the existing node objects and without using extra memory.\n",
    "\n",
    "**In-place Reversal of a LinkedList** pattern describes an efficient way to solve the above problem. In the following chapters, we will solve a bunch of problems using this pattern.\n",
    "\n",
    "Let’s jump on to our first problem to understand this pattern."
   ]
  },
  {
   "cell_type": "markdown",
   "id": "9b211430",
   "metadata": {},
   "source": [
    "### Problem Statement\n",
    "In a lot of problems, we are asked to reverse the links between a set of nodes of a LinkedList. Often, the constraint is that we need to do this in-place, i.e., using the existing node objects and without using extra memory.\n",
    "\n",
    "In-place Reversal of a LinkedList pattern describes an efficient way to solve the above problem. In the following chapters, we will solve a bunch of problems using this pattern.\n",
    "\n",
    "Let’s jump on to our first problem to understand this pattern.\n",
    "\n",
    "<img src='img/1.png' width=\"800\" height=\"400\" align=\"center\"/>"
   ]
  },
  {
   "cell_type": "markdown",
   "id": "7a032b7b",
   "metadata": {},
   "source": [
    "### Solution"
   ]
  },
  {
   "cell_type": "code",
   "execution_count": 3,
   "id": "022f2d40",
   "metadata": {},
   "outputs": [],
   "source": [
    "def reverse(head):\n",
    "    previous, current, next = None, head, None\n",
    "    while current is not None:\n",
    "        next = current.next  # temporarily store the next node\n",
    "        current.next = previous  # reverse the current node\n",
    "        previous = current  # before we move to the next node, point previous to the current node\n",
    "        current = next  # move on the next node\n",
    "    return previous"
   ]
  },
  {
   "cell_type": "markdown",
   "id": "2684f294",
   "metadata": {},
   "source": [
    "\n",
    "To reverse a LinkedList, we need to reverse one node at a time. We will start with a variable `current` which will initially point to the head of the LinkedList and a variable `previous` which will point to the previous node that we have processed; initially `previous` will point to `null`.\n",
    "\n",
    "In a stepwise manner, we will reverse the `current` node by pointing it to the `previous` before moving on to the next node. Also, we will update the `previous` to always point to the previous node that we have processed. Here is the visual representation of our algorithm:\n",
    "\n",
    "<img src='img/2.png' width=\"800\" height=\"400\" align=\"center\"/>\n",
    "\n",
    "<img src='img/3.png' width=\"800\" height=\"400\" align=\"center\"/>\n",
    "\n",
    "<img src='img/4.png' width=\"800\" height=\"400\" align=\"center\"/>\n",
    "\n",
    "<img src='img/5.png' width=\"800\" height=\"400\" align=\"center\"/>\n",
    "\n",
    "<img src='img/6.png' width=\"800\" height=\"400\" align=\"center\"/>\n",
    "\n",
    "<img src='img/7.png' width=\"800\" height=\"400\" align=\"center\"/>\n",
    "\n",
    "<img src='img/8.png' width=\"800\" height=\"400\" align=\"center\"/>"
   ]
  },
  {
   "cell_type": "code",
   "execution_count": 1,
   "id": "6c8c8755",
   "metadata": {},
   "outputs": [
    {
     "name": "stdout",
     "output_type": "stream",
     "text": [
      "Nodes of original LinkedList are: 2 4 6 8 10 \n",
      "Nodes of reversed LinkedList are: 10 8 6 4 2 \n"
     ]
    }
   ],
   "source": [
    "from __future__ import print_function\n",
    "\n",
    "\n",
    "class Node:\n",
    "  def __init__(self, value, next=None):\n",
    "    self.value = value\n",
    "    self.next = next\n",
    "\n",
    "  def print_list(self):\n",
    "    temp = self\n",
    "    while temp is not None:\n",
    "      print(temp.value, end=\" \")\n",
    "      temp = temp.next\n",
    "    print()\n",
    "\n",
    "\n",
    "def reverse(head):\n",
    "  previous, current, next = None, head, None\n",
    "  while current is not None:\n",
    "    next = current.next  # temporarily store the next node\n",
    "    current.next = previous  # reverse the current node\n",
    "    previous = current  # before we move to the next node, point previous to the current node\n",
    "    current = next  # move on the next node\n",
    "  return previous\n",
    "\n",
    "\n",
    "def main():\n",
    "  head = Node(2)\n",
    "  head.next = Node(4)\n",
    "  head.next.next = Node(6)\n",
    "  head.next.next.next = Node(8)\n",
    "  head.next.next.next.next = Node(10)\n",
    "\n",
    "  print(\"Nodes of original LinkedList are: \", end='')\n",
    "  head.print_list()\n",
    "  result = reverse(head)\n",
    "  print(\"Nodes of reversed LinkedList are: \", end='')\n",
    "  result.print_list()\n",
    "\n",
    "\n",
    "main()"
   ]
  },
  {
   "cell_type": "markdown",
   "id": "3789484f",
   "metadata": {},
   "source": [
    "### Time complexity\n",
    "The time complexity of our algorithm will be $O(N)$ where `N` is the total number of nodes in the LinkedList.\n",
    "\n",
    "### Space complexity\n",
    "We only used constant space, therefore, the space complexity of our algorithm is $O(1)$."
   ]
  },
  {
   "cell_type": "code",
   "execution_count": 4,
   "id": "ee14ed20",
   "metadata": {},
   "outputs": [],
   "source": [
    "from __future__ import print_function\n",
    "\n",
    "\n",
    "class Node:\n",
    "    def __init__(self, value, next=None):\n",
    "        self.value = value\n",
    "        self.next = next\n",
    "\n",
    "    def print_list(self):\n",
    "        temp = self\n",
    "        while temp is not None:\n",
    "            print(temp.value, end=\" \")\n",
    "        temp = temp.next\n",
    "        print()\n",
    "\n",
    "\n",
    "def reverse_sublist(head, p, q):\n",
    "    previous, current, next = p-1, p, q\n",
    "    while current is not None:\n",
    "        next = current.next  # temporarily store the next node\n",
    "        current.next = previous  # reverse the current node\n",
    "        previous = current  # before we move to the next node, point previous to the current node\n",
    "        current = next  # move on the next node\n",
    "    return previous"
   ]
  },
  {
   "cell_type": "code",
   "execution_count": null,
   "id": "93c9b52d",
   "metadata": {},
   "outputs": [],
   "source": []
  },
  {
   "cell_type": "code",
   "execution_count": null,
   "id": "57d84801",
   "metadata": {},
   "outputs": [],
   "source": []
  },
  {
   "cell_type": "code",
   "execution_count": 9,
   "id": "c2f03715",
   "metadata": {},
   "outputs": [
    {
     "name": "stdout",
     "output_type": "stream",
     "text": [
      "Nodes of original LinkedList are: 1 2 3 4 5 \n",
      "Nodes of reversed LinkedList are: 3 2 1 4 5 \n"
     ]
    }
   ],
   "source": [
    "from __future__ import print_function\n",
    "\n",
    "\n",
    "class Node:\n",
    "  def __init__(self, value, next=None):\n",
    "    self.value = value\n",
    "    self.next = next\n",
    "\n",
    "  def print_list(self):\n",
    "    temp = self\n",
    "    while temp is not None:\n",
    "      print(temp.value, end=\" \")\n",
    "      temp = temp.next\n",
    "    print()\n",
    "\n",
    "def reverse_first_k_elements(head, k):\n",
    "  if k == 1:\n",
    "    return head\n",
    "\n",
    "  # after skipping 'p-1' nodes, current will point to 'k'th node\n",
    "  current, previous = head, None\n",
    "  i = 0\n",
    "  while current is not None and i < 1 - 1:\n",
    "    previous = current\n",
    "    current = current.next\n",
    "    i += 1\n",
    "\n",
    "  # we are interested in three parts of the LinkedList, the part before index 'k'\n",
    "  last_node_of_first_part = previous\n",
    "  # after reversing the LinkedList 'current' will become the last node of the sub-list\n",
    "  last_node_of_sub_list = current\n",
    "  next = None  # will be used to temporarily store the next node\n",
    "\n",
    "  i = 0\n",
    "  # reverse nodes before k\n",
    "  while current is not None and i < k:\n",
    "    next = current.next\n",
    "    current.next = previous\n",
    "    previous = current\n",
    "    current = next\n",
    "    i += 1\n",
    "\n",
    "  # connect with the first part\n",
    "  if last_node_of_first_part is not None:\n",
    "    # 'previous' is now the first node of the sub-list\n",
    "    last_node_of_first_part.next = previous\n",
    "  # this means p == 1 i.e., we are changing the first node (head) of the LinkedList\n",
    "  else:\n",
    "    head = previous\n",
    "\n",
    "  # connect with the last part\n",
    "  last_node_of_sub_list.next = current\n",
    "  return head\n",
    "\n",
    "def main():\n",
    "  head = Node(1)\n",
    "  head.next = Node(2)\n",
    "  head.next.next = Node(3)\n",
    "  head.next.next.next = Node(4)\n",
    "  head.next.next.next.next = Node(5)\n",
    "\n",
    "  print(\"Nodes of original LinkedList are: \", end='')\n",
    "  head.print_list()\n",
    "  result = reverse_first_k_elements(head, 3)\n",
    "  print(\"Nodes of reversed LinkedList are: \", end='')\n",
    "  result.print_list()\n",
    "\n",
    "\n",
    "main()"
   ]
  },
  {
   "cell_type": "code",
   "execution_count": null,
   "id": "755038bb",
   "metadata": {},
   "outputs": [],
   "source": []
  },
  {
   "cell_type": "code",
   "execution_count": null,
   "id": "c3a4797f",
   "metadata": {},
   "outputs": [],
   "source": []
  },
  {
   "cell_type": "code",
   "execution_count": null,
   "id": "52880381",
   "metadata": {},
   "outputs": [],
   "source": []
  },
  {
   "cell_type": "markdown",
   "id": "330409c4",
   "metadata": {},
   "source": [
    "<img src='img/x.png' width=\"600\" height=\"300\" align=\"center\"/>"
   ]
  }
 ],
 "metadata": {
  "kernelspec": {
   "display_name": "Python 3",
   "language": "python",
   "name": "python3"
  },
  "language_info": {
   "codemirror_mode": {
    "name": "ipython",
    "version": 3
   },
   "file_extension": ".py",
   "mimetype": "text/x-python",
   "name": "python",
   "nbconvert_exporter": "python",
   "pygments_lexer": "ipython3",
   "version": "3.8.8"
  }
 },
 "nbformat": 4,
 "nbformat_minor": 5
}
