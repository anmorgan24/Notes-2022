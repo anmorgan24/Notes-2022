{
 "cells": [
  {
   "cell_type": "markdown",
   "id": "4c0cc79e",
   "metadata": {},
   "source": [
    "# In-place Reversal of a LinkedList\n",
    "\n",
    "In a lot of problems, we are asked to reverse the links between a set of nodes of a **LinkedList**. Often, the constraint is that we need to do this in-place, i.e., using the existing node objects and without using extra memory.\n",
    "\n",
    "**In-place Reversal of a LinkedList** pattern describes an efficient way to solve the above problem. In the following chapters, we will solve a bunch of problems using this pattern.\n",
    "\n",
    "Let’s jump on to our first problem to understand this pattern."
   ]
  },
  {
   "cell_type": "markdown",
   "id": "9b211430",
   "metadata": {},
   "source": [
    "### Problem Statement\n",
    "In a lot of problems, we are asked to reverse the links between a set of nodes of a LinkedList. Often, the constraint is that we need to do this in-place, i.e., using the existing node objects and without using extra memory.\n",
    "\n",
    "In-place Reversal of a LinkedList pattern describes an efficient way to solve the above problem. In the following chapters, we will solve a bunch of problems using this pattern.\n",
    "\n",
    "Let’s jump on to our first problem to understand this pattern.\n",
    "\n",
    "<img src='img/1.png' width=\"800\" height=\"400\" align=\"center\"/>"
   ]
  },
  {
   "cell_type": "markdown",
   "id": "4a6131e6",
   "metadata": {},
   "source": [
    "### Solution"
   ]
  },
  {
   "cell_type": "code",
   "execution_count": 3,
   "id": "3d4fb30c",
   "metadata": {},
   "outputs": [],
   "source": [
    "def reverse(head):\n",
    "    previous, current, next = None, head, None\n",
    "    while current is not None:\n",
    "        next = current.next  # temporarily store the next node\n",
    "        current.next = previous  # reverse the current node\n",
    "        previous = current  # before we move to the next node, point previous to the current node\n",
    "        current = next  # move on the next node\n",
    "    return previous"
   ]
  },
  {
   "cell_type": "markdown",
   "id": "2684f294",
   "metadata": {},
   "source": [
    "\n",
    "To reverse a LinkedList, we need to reverse one node at a time. We will start with a variable `current` which will initially point to the head of the LinkedList and a variable `previous` which will point to the previous node that we have processed; initially `previous` will point to `null`.\n",
    "\n",
    "In a stepwise manner, we will reverse the `current` node by pointing it to the `previous` before moving on to the next node. Also, we will update the `previous` to always point to the previous node that we have processed. Here is the visual representation of our algorithm:\n",
    "\n",
    "<img src='img/2.png' width=\"800\" height=\"400\" align=\"center\"/>\n",
    "\n",
    "<img src='img/3.png' width=\"800\" height=\"400\" align=\"center\"/>\n",
    "\n",
    "<img src='img/4.png' width=\"800\" height=\"400\" align=\"center\"/>\n",
    "\n",
    "<img src='img/5.png' width=\"800\" height=\"400\" align=\"center\"/>\n",
    "\n",
    "<img src='img/6.png' width=\"800\" height=\"400\" align=\"center\"/>\n",
    "\n",
    "<img src='img/7.png' width=\"800\" height=\"400\" align=\"center\"/>\n",
    "\n",
    "<img src='img/8.png' width=\"800\" height=\"400\" align=\"center\"/>"
   ]
  },
  {
   "cell_type": "code",
   "execution_count": 1,
   "id": "6c8c8755",
   "metadata": {},
   "outputs": [
    {
     "name": "stdout",
     "output_type": "stream",
     "text": [
      "Nodes of original LinkedList are: 2 4 6 8 10 \n",
      "Nodes of reversed LinkedList are: 10 8 6 4 2 \n"
     ]
    }
   ],
   "source": [
    "from __future__ import print_function\n",
    "\n",
    "\n",
    "class Node:\n",
    "  def __init__(self, value, next=None):\n",
    "    self.value = value\n",
    "    self.next = next\n",
    "\n",
    "  def print_list(self):\n",
    "    temp = self\n",
    "    while temp is not None:\n",
    "      print(temp.value, end=\" \")\n",
    "      temp = temp.next\n",
    "    print()\n",
    "\n",
    "\n",
    "def reverse(head):\n",
    "  previous, current, next = None, head, None\n",
    "  while current is not None:\n",
    "    next = current.next  # temporarily store the next node\n",
    "    current.next = previous  # reverse the current node\n",
    "    previous = current  # before we move to the next node, point previous to the current node\n",
    "    current = next  # move on the next node\n",
    "  return previous\n",
    "\n",
    "\n",
    "def main():\n",
    "  head = Node(2)\n",
    "  head.next = Node(4)\n",
    "  head.next.next = Node(6)\n",
    "  head.next.next.next = Node(8)\n",
    "  head.next.next.next.next = Node(10)\n",
    "\n",
    "  print(\"Nodes of original LinkedList are: \", end='')\n",
    "  head.print_list()\n",
    "  result = reverse(head)\n",
    "  print(\"Nodes of reversed LinkedList are: \", end='')\n",
    "  result.print_list()\n",
    "\n",
    "\n",
    "main()"
   ]
  },
  {
   "cell_type": "markdown",
   "id": "3789484f",
   "metadata": {},
   "source": [
    "### Time complexity\n",
    "The time complexity of our algorithm will be $O(N)$ where `N` is the total number of nodes in the LinkedList.\n",
    "\n",
    "### Space complexity\n",
    "We only used constant space, therefore, the space complexity of our algorithm is $O(1)$."
   ]
  },
  {
   "cell_type": "code",
   "execution_count": null,
   "id": "52880381",
   "metadata": {},
   "outputs": [],
   "source": []
  },
  {
   "cell_type": "markdown",
   "id": "330409c4",
   "metadata": {},
   "source": [
    "<img src='img/x.png' width=\"600\" height=\"300\" align=\"center\"/>"
   ]
  }
 ],
 "metadata": {
  "kernelspec": {
   "display_name": "Python 3",
   "language": "python",
   "name": "python3"
  },
  "language_info": {
   "codemirror_mode": {
    "name": "ipython",
    "version": 3
   },
   "file_extension": ".py",
   "mimetype": "text/x-python",
   "name": "python",
   "nbconvert_exporter": "python",
   "pygments_lexer": "ipython3",
   "version": "3.8.8"
  }
 },
 "nbformat": 4,
 "nbformat_minor": 5
}
