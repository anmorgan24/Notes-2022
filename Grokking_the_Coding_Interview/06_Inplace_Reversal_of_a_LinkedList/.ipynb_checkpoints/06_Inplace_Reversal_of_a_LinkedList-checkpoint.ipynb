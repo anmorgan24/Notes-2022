{
 "cells": [
  {
   "cell_type": "markdown",
   "id": "4c0cc79e",
   "metadata": {},
   "source": [
    "# In-place Reversal of a LinkedList\n",
    "\n",
    "In a lot of problems, we are asked to reverse the links between a set of nodes of a **LinkedList**. Often, the constraint is that we need to do this in-place, i.e., using the existing node objects and without using extra memory.\n",
    "\n",
    "**In-place Reversal of a LinkedList** pattern describes an efficient way to solve the above problem. In the following chapters, we will solve a bunch of problems using this pattern.\n",
    "\n",
    "Let’s jump on to our first problem to understand this pattern."
   ]
  },
  {
   "cell_type": "markdown",
   "id": "9b211430",
   "metadata": {},
   "source": [
    "### Problem Statement\n",
    "In a lot of problems, we are asked to reverse the links between a set of nodes of a LinkedList. Often, the constraint is that we need to do this in-place, i.e., using the existing node objects and without using extra memory.\n",
    "\n",
    "In-place Reversal of a LinkedList pattern describes an efficient way to solve the above problem. In the following chapters, we will solve a bunch of problems using this pattern.\n",
    "\n",
    "Let’s jump on to our first problem to understand this pattern.\n",
    "\n",
    "<img src='img/1.png' width=\"800\" height=\"400\" align=\"center\"/>"
   ]
  },
  {
   "cell_type": "markdown",
   "id": "b714b688",
   "metadata": {},
   "source": [
    "### Solution"
   ]
  },
  {
   "cell_type": "code",
   "execution_count": 3,
   "id": "72316376",
   "metadata": {},
   "outputs": [],
   "source": [
    "def reverse(head):\n",
    "    previous, current, next = None, head, None\n",
    "    while current is not None:\n",
    "        next = current.next  # temporarily store the next node\n",
    "        current.next = previous  # reverse the current node\n",
    "        previous = current  # before we move to the next node, point previous to the current node\n",
    "        current = next  # move on the next node\n",
    "    return previous"
   ]
  },
  {
   "cell_type": "markdown",
   "id": "2684f294",
   "metadata": {},
   "source": [
    "\n",
    "To reverse a LinkedList, we need to reverse one node at a time. We will start with a variable `current` which will initially point to the head of the LinkedList and a variable `previous` which will point to the previous node that we have processed; initially `previous` will point to `null`.\n",
    "\n",
    "In a stepwise manner, we will reverse the `current` node by pointing it to the `previous` before moving on to the next node. Also, we will update the `previous` to always point to the previous node that we have processed. Here is the visual representation of our algorithm:\n",
    "\n",
    "<img src='img/2.png' width=\"800\" height=\"400\" align=\"center\"/>\n",
    "\n",
    "<img src='img/3.png' width=\"800\" height=\"400\" align=\"center\"/>\n",
    "\n",
    "<img src='img/4.png' width=\"800\" height=\"400\" align=\"center\"/>\n",
    "\n",
    "<img src='img/5.png' width=\"800\" height=\"400\" align=\"center\"/>\n",
    "\n",
    "<img src='img/6.png' width=\"800\" height=\"400\" align=\"center\"/>\n",
    "\n",
    "<img src='img/7.png' width=\"800\" height=\"400\" align=\"center\"/>\n",
    "\n",
    "<img src='img/8.png' width=\"800\" height=\"400\" align=\"center\"/>"
   ]
  },
  {
   "cell_type": "code",
   "execution_count": 1,
   "id": "6c8c8755",
   "metadata": {},
   "outputs": [
    {
     "name": "stdout",
     "output_type": "stream",
     "text": [
      "Nodes of original LinkedList are: 2 4 6 8 10 \n",
      "Nodes of reversed LinkedList are: 10 8 6 4 2 \n"
     ]
    }
   ],
   "source": [
    "from __future__ import print_function\n",
    "\n",
    "\n",
    "class Node:\n",
    "  def __init__(self, value, next=None):\n",
    "    self.value = value\n",
    "    self.next = next\n",
    "\n",
    "  def print_list(self):\n",
    "    temp = self\n",
    "    while temp is not None:\n",
    "      print(temp.value, end=\" \")\n",
    "      temp = temp.next\n",
    "    print()\n",
    "\n",
    "\n",
    "def reverse(head):\n",
    "  previous, current, next = None, head, None\n",
    "  while current is not None:\n",
    "    next = current.next  # temporarily store the next node\n",
    "    current.next = previous  # reverse the current node\n",
    "    previous = current  # before we move to the next node, point previous to the current node\n",
    "    current = next  # move on the next node\n",
    "  return previous\n",
    "\n",
    "\n",
    "def main():\n",
    "  head = Node(2)\n",
    "  head.next = Node(4)\n",
    "  head.next.next = Node(6)\n",
    "  head.next.next.next = Node(8)\n",
    "  head.next.next.next.next = Node(10)\n",
    "\n",
    "  print(\"Nodes of original LinkedList are: \", end='')\n",
    "  head.print_list()\n",
    "  result = reverse(head)\n",
    "  print(\"Nodes of reversed LinkedList are: \", end='')\n",
    "  result.print_list()\n",
    "\n",
    "\n",
    "main()"
   ]
  },
  {
   "cell_type": "markdown",
   "id": "3789484f",
   "metadata": {},
   "source": [
    "### Time complexity\n",
    "The time complexity of our algorithm will be $O(N)$ where `N` is the total number of nodes in the LinkedList.\n",
    "\n",
    "### Space complexity\n",
    "We only used constant space, therefore, the space complexity of our algorithm is $O(1)$."
   ]
  },
  {
   "cell_type": "code",
   "execution_count": 4,
   "id": "938c0f79",
   "metadata": {},
   "outputs": [],
   "source": [
    "from __future__ import print_function\n",
    "\n",
    "\n",
    "class Node:\n",
    "    def __init__(self, value, next=None):\n",
    "        self.value = value\n",
    "        self.next = next\n",
    "\n",
    "    def print_list(self):\n",
    "        temp = self\n",
    "        while temp is not None:\n",
    "            print(temp.value, end=\" \")\n",
    "        temp = temp.next\n",
    "        print()\n",
    "\n",
    "\n",
    "def reverse_sublist(head, p, q):\n",
    "    previous, current, next = p-1, p, q\n",
    "    while current is not None:\n",
    "        next = current.next  # temporarily store the next node\n",
    "        current.next = previous  # reverse the current node\n",
    "        previous = current  # before we move to the next node, point previous to the current node\n",
    "        current = next  # move on the next node\n",
    "    return previous"
   ]
  },
  {
   "cell_type": "code",
   "execution_count": null,
   "id": "c9dfa237",
   "metadata": {},
   "outputs": [],
   "source": []
  },
  {
   "cell_type": "markdown",
   "id": "14edb042",
   "metadata": {},
   "source": [
    "## Reverse first k elements "
   ]
  },
  {
   "cell_type": "code",
   "execution_count": 9,
   "id": "3cebf610",
   "metadata": {},
   "outputs": [
    {
     "name": "stdout",
     "output_type": "stream",
     "text": [
      "Nodes of original LinkedList are: 1 2 3 4 5 \n",
      "Nodes of reversed LinkedList are: 3 2 1 4 5 \n"
     ]
    }
   ],
   "source": [
    "from __future__ import print_function\n",
    "\n",
    "\n",
    "class Node:\n",
    "  def __init__(self, value, next=None):\n",
    "    self.value = value\n",
    "    self.next = next\n",
    "\n",
    "  def print_list(self):\n",
    "    temp = self\n",
    "    while temp is not None:\n",
    "      print(temp.value, end=\" \")\n",
    "      temp = temp.next\n",
    "    print()\n",
    "\n",
    "def reverse_first_k_elements(head, k):\n",
    "  if k == 1:\n",
    "    return head\n",
    "\n",
    "  # after skipping 'p-1' nodes, current will point to 'k'th node\n",
    "  current, previous = head, None\n",
    "  i = 0\n",
    "  while current is not None and i < 1 - 1:\n",
    "    previous = current\n",
    "    current = current.next\n",
    "    i += 1\n",
    "\n",
    "  # we are interested in three parts of the LinkedList, the part before index 'k'\n",
    "  last_node_of_first_part = previous\n",
    "  # after reversing the LinkedList 'current' will become the last node of the sub-list\n",
    "  last_node_of_sub_list = current\n",
    "  next = None  # will be used to temporarily store the next node\n",
    "\n",
    "  i = 0\n",
    "  # reverse nodes before k\n",
    "  while current is not None and i < k:\n",
    "    next = current.next\n",
    "    current.next = previous\n",
    "    previous = current\n",
    "    current = next\n",
    "    i += 1\n",
    "\n",
    "  # connect with the first part\n",
    "  if last_node_of_first_part is not None:\n",
    "    # 'previous' is now the first node of the sub-list\n",
    "    last_node_of_first_part.next = previous\n",
    "  # this means p == 1 i.e., we are changing the first node (head) of the LinkedList\n",
    "  else:\n",
    "    head = previous\n",
    "\n",
    "  # connect with the last part\n",
    "  last_node_of_sub_list.next = current\n",
    "  return head\n",
    "\n",
    "def main():\n",
    "  head = Node(1)\n",
    "  head.next = Node(2)\n",
    "  head.next.next = Node(3)\n",
    "  head.next.next.next = Node(4)\n",
    "  head.next.next.next.next = Node(5)\n",
    "\n",
    "  print(\"Nodes of original LinkedList are: \", end='')\n",
    "  head.print_list()\n",
    "  result = reverse_first_k_elements(head, 3)\n",
    "  print(\"Nodes of reversed LinkedList are: \", end='')\n",
    "  result.print_list()\n",
    "\n",
    "\n",
    "main()"
   ]
  },
  {
   "cell_type": "markdown",
   "id": "87437a15",
   "metadata": {},
   "source": [
    "## Reverse halves of list"
   ]
  },
  {
   "cell_type": "code",
   "execution_count": 18,
   "id": "c0796399",
   "metadata": {},
   "outputs": [
    {
     "name": "stdout",
     "output_type": "stream",
     "text": [
      "Nodes of original LinkedList are: 1 2 3 4 5 \n"
     ]
    },
    {
     "ename": "AttributeError",
     "evalue": "'NoneType' object has no attribute 'next'",
     "output_type": "error",
     "traceback": [
      "\u001b[0;31m---------------------------------------------------------------------------\u001b[0m",
      "\u001b[0;31mAttributeError\u001b[0m                            Traceback (most recent call last)",
      "\u001b[0;32m<ipython-input-18-834e89d4a3d1>\u001b[0m in \u001b[0;36m<module>\u001b[0;34m\u001b[0m\n\u001b[1;32m     84\u001b[0m \u001b[0;34m\u001b[0m\u001b[0m\n\u001b[1;32m     85\u001b[0m \u001b[0;34m\u001b[0m\u001b[0m\n\u001b[0;32m---> 86\u001b[0;31m \u001b[0mmain\u001b[0m\u001b[0;34m(\u001b[0m\u001b[0;34m)\u001b[0m\u001b[0;34m\u001b[0m\u001b[0;34m\u001b[0m\u001b[0m\n\u001b[0m",
      "\u001b[0;32m<ipython-input-18-834e89d4a3d1>\u001b[0m in \u001b[0;36mmain\u001b[0;34m()\u001b[0m\n\u001b[1;32m     79\u001b[0m   \u001b[0mprint\u001b[0m\u001b[0;34m(\u001b[0m\u001b[0;34m\"Nodes of original LinkedList are: \"\u001b[0m\u001b[0;34m,\u001b[0m \u001b[0mend\u001b[0m\u001b[0;34m=\u001b[0m\u001b[0;34m''\u001b[0m\u001b[0;34m)\u001b[0m\u001b[0;34m\u001b[0m\u001b[0;34m\u001b[0m\u001b[0m\n\u001b[1;32m     80\u001b[0m   \u001b[0mhead\u001b[0m\u001b[0;34m.\u001b[0m\u001b[0mprint_list\u001b[0m\u001b[0;34m(\u001b[0m\u001b[0;34m)\u001b[0m\u001b[0;34m\u001b[0m\u001b[0;34m\u001b[0m\u001b[0m\n\u001b[0;32m---> 81\u001b[0;31m   \u001b[0mresult\u001b[0m \u001b[0;34m=\u001b[0m \u001b[0mreverse_list_halves\u001b[0m\u001b[0;34m(\u001b[0m\u001b[0mhead\u001b[0m\u001b[0;34m)\u001b[0m\u001b[0;34m\u001b[0m\u001b[0;34m\u001b[0m\u001b[0m\n\u001b[0m\u001b[1;32m     82\u001b[0m   \u001b[0mprint\u001b[0m\u001b[0;34m(\u001b[0m\u001b[0;34m\"Nodes of reversed LinkedList are: \"\u001b[0m\u001b[0;34m,\u001b[0m \u001b[0mend\u001b[0m\u001b[0;34m=\u001b[0m\u001b[0;34m''\u001b[0m\u001b[0;34m)\u001b[0m\u001b[0;34m\u001b[0m\u001b[0;34m\u001b[0m\u001b[0m\n\u001b[1;32m     83\u001b[0m   \u001b[0mresult\u001b[0m\u001b[0;34m.\u001b[0m\u001b[0mprint_list\u001b[0m\u001b[0;34m(\u001b[0m\u001b[0;34m)\u001b[0m\u001b[0;34m\u001b[0m\u001b[0;34m\u001b[0m\u001b[0m\n",
      "\u001b[0;32m<ipython-input-18-834e89d4a3d1>\u001b[0m in \u001b[0;36mreverse_list_halves\u001b[0;34m(head)\u001b[0m\n\u001b[1;32m     65\u001b[0m     \u001b[0;32mif\u001b[0m \u001b[0mn\u001b[0m \u001b[0;34m%\u001b[0m \u001b[0;36m2\u001b[0m \u001b[0;34m==\u001b[0m \u001b[0;36m0\u001b[0m\u001b[0;34m:\u001b[0m\u001b[0;34m\u001b[0m\u001b[0;34m\u001b[0m\u001b[0m\n\u001b[1;32m     66\u001b[0m         \u001b[0mreverse_sub_list\u001b[0m\u001b[0;34m(\u001b[0m\u001b[0mhead\u001b[0m\u001b[0;34m,\u001b[0m \u001b[0;36m1\u001b[0m\u001b[0;34m,\u001b[0m \u001b[0mn\u001b[0m\u001b[0;34m/\u001b[0m\u001b[0;36m2\u001b[0m\u001b[0;34m)\u001b[0m\u001b[0;34m\u001b[0m\u001b[0;34m\u001b[0m\u001b[0m\n\u001b[0;32m---> 67\u001b[0;31m         \u001b[0mreverse_sub_list\u001b[0m\u001b[0;34m(\u001b[0m\u001b[0mhead\u001b[0m\u001b[0;34m,\u001b[0m \u001b[0;34m(\u001b[0m\u001b[0mn\u001b[0m\u001b[0;34m/\u001b[0m\u001b[0;36m2\u001b[0m \u001b[0;34m+\u001b[0m \u001b[0;36m1\u001b[0m\u001b[0;34m)\u001b[0m\u001b[0;34m,\u001b[0m \u001b[0mn\u001b[0m\u001b[0;34m)\u001b[0m\u001b[0;34m\u001b[0m\u001b[0;34m\u001b[0m\u001b[0m\n\u001b[0m\u001b[1;32m     68\u001b[0m     \u001b[0;32melse\u001b[0m\u001b[0;34m:\u001b[0m\u001b[0;34m\u001b[0m\u001b[0;34m\u001b[0m\u001b[0m\n\u001b[1;32m     69\u001b[0m         \u001b[0mreverse_sub_list\u001b[0m\u001b[0;34m(\u001b[0m\u001b[0mhead\u001b[0m\u001b[0;34m,\u001b[0m \u001b[0;36m1\u001b[0m\u001b[0;34m,\u001b[0m \u001b[0mn\u001b[0m\u001b[0;34m/\u001b[0m\u001b[0;36m2\u001b[0m\u001b[0;34m)\u001b[0m\u001b[0;34m\u001b[0m\u001b[0;34m\u001b[0m\u001b[0m\n",
      "\u001b[0;32m<ipython-input-18-834e89d4a3d1>\u001b[0m in \u001b[0;36mreverse_sub_list\u001b[0;34m(head, p, q)\u001b[0m\n\u001b[1;32m     52\u001b[0m \u001b[0;34m\u001b[0m\u001b[0m\n\u001b[1;32m     53\u001b[0m   \u001b[0;31m# connect with the last part\u001b[0m\u001b[0;34m\u001b[0m\u001b[0;34m\u001b[0m\u001b[0;34m\u001b[0m\u001b[0m\n\u001b[0;32m---> 54\u001b[0;31m   \u001b[0mlast_node_of_sub_list\u001b[0m\u001b[0;34m.\u001b[0m\u001b[0mnext\u001b[0m \u001b[0;34m=\u001b[0m \u001b[0mcurrent\u001b[0m\u001b[0;34m\u001b[0m\u001b[0;34m\u001b[0m\u001b[0m\n\u001b[0m\u001b[1;32m     55\u001b[0m   \u001b[0;32mreturn\u001b[0m \u001b[0mhead\u001b[0m\u001b[0;34m\u001b[0m\u001b[0;34m\u001b[0m\u001b[0m\n\u001b[1;32m     56\u001b[0m \u001b[0;34m\u001b[0m\u001b[0m\n",
      "\u001b[0;31mAttributeError\u001b[0m: 'NoneType' object has no attribute 'next'"
     ]
    }
   ],
   "source": [
    "from __future__ import print_function\n",
    "\n",
    "\n",
    "class Node:\n",
    "  def __init__(self, value, next=None):\n",
    "    self.value = value\n",
    "    self.next = next\n",
    "\n",
    "  def print_list(self):\n",
    "    temp = self\n",
    "    while temp is not None:\n",
    "      print(temp.value, end=\" \")\n",
    "      temp = temp.next\n",
    "    print()\n",
    "\n",
    "\n",
    "def reverse_sub_list(head, p, q):\n",
    "  if p == q:\n",
    "    return head\n",
    "\n",
    "  # after skipping 'p-1' nodes, current will point to 'p'th node\n",
    "  current, previous = head, None\n",
    "  i = 0\n",
    "  while current is not None and i < p - 1:\n",
    "    previous = current\n",
    "    current = current.next\n",
    "    i += 1\n",
    "\n",
    "  # we are interested in three parts of the LinkedList, the part before index 'p',\n",
    "  # the part between 'p' and 'q', and the part after index 'q'\n",
    "  last_node_of_first_part = previous\n",
    "  # after reversing the LinkedList 'current' will become the last node of the sub-list\n",
    "  last_node_of_sub_list = current\n",
    "  next = None  # will be used to temporarily store the next node\n",
    "\n",
    "  i = 0\n",
    "  # reverse nodes between 'p' and 'q'\n",
    "  while current is not None and i < q - p + 1:\n",
    "    next = current.next\n",
    "    current.next = previous\n",
    "    previous = current\n",
    "    current = next\n",
    "    i += 1\n",
    "\n",
    "  # connect with the first part\n",
    "  if last_node_of_first_part is not None:\n",
    "    # 'previous' is now the first node of the sub-list\n",
    "    last_node_of_first_part.next = previous\n",
    "  # this means p == 1 i.e., we are changing the first node (head) of the LinkedList\n",
    "  else:\n",
    "    head = previous\n",
    "\n",
    "  # connect with the last part\n",
    "  last_node_of_sub_list.next = current\n",
    "  return head\n",
    "\n",
    "def lengthRecursive(head):\n",
    "    if head is None:\n",
    "        return 0\n",
    "    else:\n",
    "       return 1 + lengthRecursive(head.next)\n",
    "\n",
    "def reverse_list_halves(head):\n",
    "    n = lengthRecursive(head)\n",
    "    if n % 2 == 0:\n",
    "        reverse_sub_list(head, 1, n/2)\n",
    "        reverse_sub_list(head, (n/2 + 1), n)\n",
    "    else:\n",
    "        reverse_sub_list(head, 1, n/2)\n",
    "        reverse_sub_list(head, (n/2 + 2), n)\n",
    "\n",
    "def main():\n",
    "  head = Node(1)\n",
    "  head.next = Node(2)\n",
    "  head.next.next = Node(3)\n",
    "  head.next.next.next = Node(4)\n",
    "  head.next.next.next.next = Node(5)\n",
    "\n",
    "  print(\"Nodes of original LinkedList are: \", end='')\n",
    "  head.print_list()\n",
    "  result = reverse_list_halves(head)\n",
    "  print(\"Nodes of reversed LinkedList are: \", end='')\n",
    "  result.print_list()\n",
    "\n",
    "\n",
    "main()"
   ]
  },
  {
   "cell_type": "code",
   "execution_count": 14,
   "id": "559f3d3f",
   "metadata": {},
   "outputs": [],
   "source": [
    "from __future__ import print_function\n",
    "\n",
    "\n",
    "class Node:\n",
    "    def __init__(self, value, next=None):\n",
    "        self.value = value\n",
    "        self.next = next\n",
    "\n",
    "    def print_list(self):\n",
    "        temp = self\n",
    "        while temp is not None:\n",
    "            print(temp.value, end=\" \")\n",
    "        temp = temp.next\n",
    "        print()\n",
    "\n",
    "\n",
    "def reverse_sub_list(head, p, q):\n",
    "    if p == q:\n",
    "        return head\n",
    "\n",
    "    current, previous = head, None\n",
    "    i = 0\n",
    "    while current is not None and i < p - 1:\n",
    "        previous = current\n",
    "        current = current.next\n",
    "        i += 1\n",
    "\n",
    "\n",
    "    last_node_of_first_part = previous\n",
    "    last_node_of_sub_list = current\n",
    "    next = None  # will be used to temporarily store the next node\n",
    "\n",
    "    i = 0\n",
    "    while current is not None and i < q - p + 1:\n",
    "        next = current.next\n",
    "        current.next = previous\n",
    "        previous = current\n",
    "        current = next\n",
    "        i += 1\n",
    "\n",
    "    if last_node_of_first_part is not None:\n",
    "        last_node_of_first_part.next = previous\n",
    "    else:\n",
    "        head = previous\n",
    "\n",
    "    last_node_of_sub_list.next = current\n",
    "    return head"
   ]
  },
  {
   "cell_type": "code",
   "execution_count": 20,
   "id": "32e3485f",
   "metadata": {},
   "outputs": [
    {
     "name": "stdout",
     "output_type": "stream",
     "text": [
      "Nodes of original LinkedList are: 1 2 3 4 5 \n",
      "Nodes of reversed LinkedList are: 1 4 3 2 5 \n"
     ]
    }
   ],
   "source": [
    "def main():\n",
    "  head = Node(1)\n",
    "  head.next = Node(2)\n",
    "  head.next.next = Node(3)\n",
    "  head.next.next.next = Node(4)\n",
    "  head.next.next.next.next = Node(5)\n",
    "\n",
    "  print(\"Nodes of original LinkedList are: \", end='')\n",
    "  head.print_list()\n",
    "  result = reverse_sub_list(head, 2, 4)\n",
    "  print(\"Nodes of reversed LinkedList are: \", end='')\n",
    "  result.print_list()\n",
    "\n",
    "\n",
    "main()"
   ]
  },
  {
   "cell_type": "code",
   "execution_count": 24,
   "id": "71b6da64",
   "metadata": {},
   "outputs": [
    {
     "name": "stdout",
     "output_type": "stream",
     "text": [
      "Nodes of original LinkedList are: 1 2 3 4 5 \n",
      "Nodes of reversed LinkedList are: 2 1 3 4 5 \n"
     ]
    }
   ],
   "source": [
    "def main():\n",
    "  head = Node(1)\n",
    "  head.next = Node(2)\n",
    "  head.next.next = Node(3)\n",
    "  head.next.next.next = Node(4)\n",
    "  head.next.next.next.next = Node(5)\n",
    "\n",
    "  print(\"Nodes of original LinkedList are: \", end='')\n",
    "  head.print_list()\n",
    "  result = reverse_sub_list(head, 1, 2)\n",
    "  #result = reverse_sub_list(head, 4, 5)\n",
    "  print(\"Nodes of reversed LinkedList are: \", end='')\n",
    "  result.print_list()\n",
    "\n",
    "\n",
    "main()"
   ]
  },
  {
   "cell_type": "code",
   "execution_count": 36,
   "id": "6cad4131",
   "metadata": {},
   "outputs": [
    {
     "name": "stdout",
     "output_type": "stream",
     "text": [
      "Nodes of original LinkedList are: 1 2 3 4 5 \n",
      "Nodes of reversed LinkedList are: 1 3 5 4 \n"
     ]
    }
   ],
   "source": [
    "head = Node(1)\n",
    "head.next = Node(2)\n",
    "head.next.next = Node(3)\n",
    "head.next.next.next = Node(4)\n",
    "head.next.next.next.next = Node(5)\n",
    "\n",
    "print(\"Nodes of original LinkedList are: \", end='')\n",
    "head.print_list()\n",
    "result = reverse_sub_list(head, 1, 2)\n",
    "result = reverse_sub_list(head, 3, 4)\n",
    "print(\"Nodes of reversed LinkedList are: \", end='')\n",
    "result.print_list()"
   ]
  },
  {
   "cell_type": "code",
   "execution_count": 30,
   "id": "8d2fed03",
   "metadata": {},
   "outputs": [
    {
     "name": "stdout",
     "output_type": "stream",
     "text": [
      "2 1 3 4 5 \n"
     ]
    }
   ],
   "source": [
    "result.print_list()"
   ]
  },
  {
   "cell_type": "code",
   "execution_count": 31,
   "id": "2c956696",
   "metadata": {},
   "outputs": [
    {
     "data": {
      "text/plain": [
       "<__main__.Node at 0x7facd84578e0>"
      ]
     },
     "execution_count": 31,
     "metadata": {},
     "output_type": "execute_result"
    }
   ],
   "source": [
    "reverse_sub_list(head, 4, 5)"
   ]
  },
  {
   "cell_type": "code",
   "execution_count": 32,
   "id": "219de17c",
   "metadata": {},
   "outputs": [
    {
     "name": "stdout",
     "output_type": "stream",
     "text": [
      "2 1 3 4 5 \n"
     ]
    }
   ],
   "source": [
    "result.print_list()"
   ]
  },
  {
   "cell_type": "markdown",
   "id": "2f1ddef7",
   "metadata": {},
   "source": [
    "## Reverse k-groups"
   ]
  },
  {
   "cell_type": "code",
   "execution_count": 40,
   "id": "95232716",
   "metadata": {},
   "outputs": [
    {
     "name": "stdout",
     "output_type": "stream",
     "text": [
      "Nodes of original LinkedList are: 1 2 3 4 5 6 7 8 \n",
      "Nodes of reversed LinkedList are: 3 2 1 6 5 4 8 7 \n"
     ]
    }
   ],
   "source": [
    "from __future__ import print_function\n",
    "\n",
    "\n",
    "class Node:\n",
    "    def __init__(self, value, next=None):\n",
    "        self.value = value\n",
    "        self.next = next\n",
    "\n",
    "    def print_list(self):\n",
    "        temp = self\n",
    "        while temp is not None:\n",
    "            print(temp.value, end=\" \")\n",
    "            temp = temp.next\n",
    "        print()\n",
    "\n",
    "\n",
    "def reverse_every_k_elements(head, k):\n",
    "    if k <= 1 or head is None:\n",
    "        return head\n",
    "\n",
    "    current, previous = head, None\n",
    "    while True:\n",
    "        last_node_of_previous_part = previous\n",
    "        # after reversing the LinkedList 'current' will become the last node of the sub-list\n",
    "        last_node_of_sub_list = current\n",
    "        next = None  # will be used to temporarily store the next node\n",
    "        i = 0\n",
    "        while current is not None and i < k:  # reverse 'k' nodes\n",
    "            next = current.next\n",
    "            current.next = previous\n",
    "            previous = current\n",
    "            current = next\n",
    "            i += 1\n",
    "\n",
    "        # connect with the previous part\n",
    "        if last_node_of_previous_part is not None:\n",
    "            last_node_of_previous_part.next = previous\n",
    "        else:\n",
    "            head = previous\n",
    "\n",
    "        # connect with the next part\n",
    "        last_node_of_sub_list.next = current\n",
    "\n",
    "        if current is None:\n",
    "            break\n",
    "        previous = last_node_of_sub_list\n",
    "    return head\n",
    "\n",
    "\n",
    "def main():\n",
    "  head = Node(1)\n",
    "  head.next = Node(2)\n",
    "  head.next.next = Node(3)\n",
    "  head.next.next.next = Node(4)\n",
    "  head.next.next.next.next = Node(5)\n",
    "  head.next.next.next.next.next = Node(6)\n",
    "  head.next.next.next.next.next.next = Node(7)\n",
    "  head.next.next.next.next.next.next.next = Node(8)\n",
    "\n",
    "  print(\"Nodes of original LinkedList are: \", end='')\n",
    "  head.print_list()\n",
    "  result = reverse_every_k_elements(head, 3)\n",
    "  print(\"Nodes of reversed LinkedList are: \", end='')\n",
    "  result.print_list()\n",
    "\n",
    "\n",
    "main()"
   ]
  },
  {
   "cell_type": "code",
   "execution_count": 45,
   "id": "e199bb0a",
   "metadata": {},
   "outputs": [
    {
     "name": "stdout",
     "output_type": "stream",
     "text": [
      "Nodes of original LinkedList are: 1 2 3 4 5 6 7 8 \n",
      "Nodes of reversed LinkedList are: 3 2 1 6 5 4 7 8 \n"
     ]
    }
   ],
   "source": [
    "from __future__ import print_function\n",
    "\n",
    "\n",
    "class Node:\n",
    "    def __init__(self, value, next=None):\n",
    "        self.value = value\n",
    "        self.next = next\n",
    "\n",
    "    def print_list(self):\n",
    "        temp = self\n",
    "        while temp is not None:\n",
    "            print(temp.value, end=\" \")\n",
    "            temp = temp.next\n",
    "        print()\n",
    "\n",
    "\n",
    "def reverse_every_k_elements(head, k):\n",
    "    if k <= 1 or head is None:\n",
    "        return head\n",
    "\n",
    "    current, previous = head, None\n",
    "    count = 1\n",
    "    while current and current.next:\n",
    "        count += 1\n",
    "        current = current.next\n",
    "    \n",
    "    current, previous = head, None\n",
    "    \n",
    "    while True:\n",
    "        last_node_of_previous_part = previous\n",
    "        # after reversing the LinkedList 'current' will become the last node of the sub-list\n",
    "        last_node_of_sub_list = current\n",
    "        next = None  # will be used to temporarily store the next node\n",
    "        i = 0\n",
    "        while current is not None and i < k:  # reverse 'k' nodes\n",
    "            next = current.next\n",
    "            current.next = previous\n",
    "            previous = current\n",
    "            current = next\n",
    "            i += 1\n",
    "\n",
    "        # connect with the previous part\n",
    "        if last_node_of_previous_part is not None:\n",
    "            last_node_of_previous_part.next = previous\n",
    "        else:\n",
    "            head = previous\n",
    "\n",
    "        # connect with the next part\n",
    "        last_node_of_sub_list.next = current\n",
    "        \n",
    "        count -=k \n",
    "        \n",
    "        if current is None or count <k:\n",
    "            break\n",
    "        previous = last_node_of_sub_list\n",
    "        \n",
    "        \n",
    "    return head\n",
    "\n",
    "\n",
    "def main():\n",
    "  head = Node(1)\n",
    "  head.next = Node(2)\n",
    "  head.next.next = Node(3)\n",
    "  head.next.next.next = Node(4)\n",
    "  head.next.next.next.next = Node(5)\n",
    "  head.next.next.next.next.next = Node(6)\n",
    "  head.next.next.next.next.next.next = Node(7)\n",
    "  head.next.next.next.next.next.next.next = Node(8)\n",
    "\n",
    "  print(\"Nodes of original LinkedList are: \", end='')\n",
    "  head.print_list()\n",
    "  result = reverse_every_k_elements(head, 3)\n",
    "  print(\"Nodes of reversed LinkedList are: \", end='')\n",
    "  result.print_list()\n",
    "\n",
    "\n",
    "main()"
   ]
  },
  {
   "cell_type": "code",
   "execution_count": 61,
   "id": "1de73bae",
   "metadata": {},
   "outputs": [],
   "source": [
    "def reverseEvenLengthGroups(head):\n",
    "    if head is None or head.next is None:\n",
    "        return head\n",
    "\n",
    "    current = head\n",
    "    count, k = 1, 1\n",
    "\n",
    "    while current.next:\n",
    "        count += 1\n",
    "        current = current.next\n",
    "    \n",
    "    current, previous = head, None\n",
    "    \n",
    "    while True:\n",
    "        last_node_of_previous_part = previous\n",
    "        # after reversing the LinkedList 'current' will become the last node of the sub-list\n",
    "        last_node_of_sub_list = current\n",
    "        next = None  # will be used to temporarily store the next node\n",
    "        i = 0\n",
    "        while current is not None and i < k and k % 2 == 0:  # reverse 'k' nodes\n",
    "            next = current.next\n",
    "            current.next = previous\n",
    "            previous = current\n",
    "            current = next\n",
    "            i += 1\n",
    "\n",
    "        # connect with the previous part\n",
    "        if last_node_of_previous_part is not None:\n",
    "            last_node_of_previous_part.next = previous\n",
    "        else:\n",
    "            head = previous\n",
    "        count -= k\n",
    "        k += 1\n",
    "        # connect with the next part\n",
    "        last_node_of_sub_list.next = current\n",
    "\n",
    "        if current is None or count < k:\n",
    "            break\n",
    "        previous = last_node_of_sub_list\n",
    "        print(count, k)\n",
    "        \n",
    "    return head"
   ]
  },
  {
   "cell_type": "code",
   "execution_count": null,
   "id": "abe6c9d9",
   "metadata": {},
   "outputs": [],
   "source": []
  },
  {
   "cell_type": "code",
   "execution_count": null,
   "id": "701cbf22",
   "metadata": {},
   "outputs": [],
   "source": [
    "def reverseEvenLengthGroups(head):\n",
    "    if head is None or head.next is None or head.next.next is None:\n",
    "        return head\n",
    "    \n",
    "    current, previous = head.next, head\n",
    "    while current is not None:\n",
    "        last_node_of_previous_part = previous\n",
    "        last_node_of_sub_list = current\n",
    "        next = None\n",
    "        \n",
    "        i = 0\n",
    "        while current is not None and i < k:\n",
    "            next = current.next\n",
    "            current.next = previous\n",
    "            previous = current\n",
    "            current = next\n",
    "            i += 1\n",
    "            \n",
    "        if last_node_of_previous_part is not None:\n",
    "            last_node_of_previous_part.next = previous\n",
    "        else:\n",
    "            head = previous\n",
    "            \n",
    "        last_node_of_sub_list.next = current\n",
    "        \n",
    "        i = 0\n",
    "        while current is not None and i < k:\n",
    "            previous = current\n",
    "            current = current.next\n",
    "            i += 1\n",
    "    return head"
   ]
  },
  {
   "cell_type": "markdown",
   "id": "c550a375",
   "metadata": {},
   "source": [
    "### Reverse alternate k elements"
   ]
  },
  {
   "cell_type": "code",
   "execution_count": 66,
   "id": "95d6d995",
   "metadata": {},
   "outputs": [],
   "source": [
    "def reverse_alternate_k_elements(head, k):\n",
    "    if k <= 1 or head is None:\n",
    "        return head\n",
    "    \n",
    "    current, previous = head, None\n",
    "    while current is not None:\n",
    "        last_node_of_previous_part = previous\n",
    "        last_node_of_sub_list = current\n",
    "        next = None\n",
    "        \n",
    "        i = 0\n",
    "        while current is not None and i < k:\n",
    "            next = current.next\n",
    "            current.next = previous\n",
    "            previous = current\n",
    "            current = next\n",
    "            i += 1\n",
    "            \n",
    "        if last_node_of_previous_part is not None:\n",
    "            last_node_of_previous_part.next = previous\n",
    "        else:\n",
    "            head = previous\n",
    "            \n",
    "        last_node_of_sub_list.next = current\n",
    "        \n",
    "        i = 0\n",
    "        while current is not None and i < k:\n",
    "            previous = current\n",
    "            current = current.next\n",
    "            i += 1\n",
    "    return head"
   ]
  },
  {
   "cell_type": "code",
   "execution_count": 67,
   "id": "1df3e865",
   "metadata": {},
   "outputs": [],
   "source": [
    "head = Node(1)\n",
    "head.next = Node(2)\n",
    "head.next.next = Node(3)\n",
    "head.next.next.next = Node(4)\n",
    "head.next.next.next.next = Node(5)\n",
    "head.next.next.next.next.next = Node(6)\n",
    "head.next.next.next.next.next.next = Node(7)\n",
    "head.next.next.next.next.next.next.next = Node(8)"
   ]
  },
  {
   "cell_type": "code",
   "execution_count": 70,
   "id": "161fad1c",
   "metadata": {},
   "outputs": [
    {
     "name": "stdout",
     "output_type": "stream",
     "text": [
      "2 1 3 4 6 5 7 8 \n"
     ]
    }
   ],
   "source": [
    "result = reverse_alternate_k_elements(head, 2)\n",
    "result.print_list()"
   ]
  }
 ],
 "metadata": {
  "kernelspec": {
   "display_name": "Python 3",
   "language": "python",
   "name": "python3"
  },
  "language_info": {
   "codemirror_mode": {
    "name": "ipython",
    "version": 3
   },
   "file_extension": ".py",
   "mimetype": "text/x-python",
   "name": "python",
   "nbconvert_exporter": "python",
   "pygments_lexer": "ipython3",
   "version": "3.8.8"
  }
 },
 "nbformat": 4,
 "nbformat_minor": 5
}
