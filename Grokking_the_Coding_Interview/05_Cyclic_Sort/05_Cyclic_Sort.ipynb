{
 "cells": [
  {
   "cell_type": "markdown",
   "id": "ca5b531a",
   "metadata": {},
   "source": [
    "# Cyclic Sort"
   ]
  },
  {
   "cell_type": "markdown",
   "id": "1d16ab5c",
   "metadata": {},
   "source": [
    "This pattern describes an interesting approach to deal with problems involving arrays containing numbers in a given range. For example, take the following problem:\n",
    "\n",
    ">You are given an unsorted array containing n numbers taken from the range 1 to n. The array can have duplicates, which means that some numbers will be missing. Find all the missing numbers.\n",
    "\n",
    "\n",
    "To efficiently solve this problem, we can use the fact that the input array contains numbers in the range of `1` to `n`. For example, to efficiently sort the array, we can try placing each number at its correct place, i.e., placing `1` at `index '0'`, placing `2` at `index ‘1’`, and so on. Once we are done with the sorting, we can iterate the array to find all indices missing the correct numbers. These will be our required numbers.\n",
    "\n",
    "Let’s jump on to our first problem to understand the **Cyclic Sort** pattern in detail.\n",
    "\n",
    "## Problem Statement\n",
    "\n",
    "We are given an array containing `n` objects. Each object, when created, was assigned a unique number from the range `1` to `n` based on their creation sequence. This means that the object with sequence number `3` was created just before the object with sequence number `4`.\n",
    "\n",
    "$\\star$ **Write a function to sort the objects in-place on their creation sequence number in $O(n)$ and without using any extra space. For simplicity, let’s assume we are passed an integer array containing only the sequence numbers, though each number is actually an object.** $\\star$"
   ]
  },
  {
   "cell_type": "markdown",
   "id": "dc313b74",
   "metadata": {},
   "source": [
    "## Solution\n",
    "As we know, the input array contains numbers from the range `1` to `n`. We can use this fact to devise an efficient way to sort the numbers. Since all numbers are unique, we can try placing each number at its correct place, i.e., placing `1` at index `‘0’`, placing `2` at `index ‘1’`, and so on.\n",
    "\n",
    "To place a number (or an object in general) at its correct index, we first need to find that number. **If we first find a number and then place it at its correct place, it will take us $O(N^2)$ which is not acceptable.**\n",
    "\n",
    "Instead, what if we iterate the array one number at a time, and if the current number we are iterating is not at the correct index, we swap it with the number at its correct index. This way, we will go through all numbers and place them at their correct indices, hence, sorting the whole array.\n",
    "\n",
    "Let’s see this visually with the above-mentioned Example-2:\n",
    "\n",
    "<img src='img/1.png' width=\"600\" height=\"300\" align=\"center\"/>\n",
    "<img src='img/2.png' width=\"600\" height=\"300\" align=\"center\"/>"
   ]
  },
  {
   "cell_type": "markdown",
   "id": "4736905d",
   "metadata": {},
   "source": [
    "From **[Wikipedia](https://en.wikipedia.org/wiki/Cycle_sort)**: Cycle sort is an in-place, unstable sorting algorithm, a comparison sort that is theoretically optimal in terms of the total number of writes to the original array, unlike any other in-place sorting algorithm. It is based on the idea that the permutation to be sorted can be factored into cycles, which can individually be rotated to give a sorted result.\n",
    "\n",
    "Unlike nearly every other sort, items are never written elsewhere in the array simply to push them out of the way of the action. Each value is either written zero times, if it's already in its correct position, or written one time to its correct position. This matches the minimal number of overwrites required for a completed in-place sort.\n",
    "\n",
    "Minimizing the number of writes is useful when making writes to some huge data set is very expensive, such as with EEPROMs like Flash memory where each write reduces the lifespan of the memory.\n",
    "\n",
    "<img src='img/3.png' width=\"300\" height=\"150\" align=\"center\"/>"
   ]
  },
  {
   "cell_type": "code",
   "execution_count": null,
   "id": "501c8020",
   "metadata": {},
   "outputs": [],
   "source": [
    "def cyclic_sort(nums):\n",
    "    i= 0\n",
    "    while i < len(nums):\n",
    "        j = nums[i] - 1\n",
    "        if nums[i] != nums[j]:\n",
    "            nums[i], nums[j]= nums[j], nums[i]\n",
    "        else:\n",
    "            i += 1\n",
    "    return nums"
   ]
  },
  {
   "cell_type": "code",
   "execution_count": 1,
   "id": "de2e754f",
   "metadata": {},
   "outputs": [
    {
     "name": "stdout",
     "output_type": "stream",
     "text": [
      "2\n",
      "7\n"
     ]
    }
   ],
   "source": [
    "def find_missing_number(nums):\n",
    "    i, n = 0, len(nums)\n",
    "    while i < n:\n",
    "        j = nums[i]\n",
    "        if nums[i] < n and nums[i] != nums[j]:\n",
    "            nums[i], nums[j] = nums[j], nums[i]  # swap\n",
    "        else:\n",
    "            i += 1\n",
    "\n",
    "    # find the first number missing from its index, that will be our required number\n",
    "    for i in range(n):\n",
    "        if nums[i] != i:\n",
    "            return i\n",
    "\n",
    "    return n\n",
    "\n",
    "\n",
    "def main():\n",
    "    print(find_missing_number([4, 0, 3, 1]))\n",
    "    print(find_missing_number([8, 3, 5, 2, 4, 6, 0, 1]))\n",
    "\n",
    "\n",
    "main()"
   ]
  },
  {
   "cell_type": "code",
   "execution_count": 67,
   "id": "6b2ef297",
   "metadata": {},
   "outputs": [],
   "source": [
    "def singleNumber(nums):\n",
    "    \"\"\"\n",
    "    :type nums: List[int]\n",
    "    :rtype: int\n",
    "    \"\"\"\n",
    "    nums.sort()\n",
    "    for i in range(0, len(nums)-1, 2):\n",
    "        if (nums[i] != nums[i+1]):\n",
    "            print(nums[i])\n",
    "            #return nums[i]\n",
    "        elif nums[i + 2] == nums[-1]:\n",
    "            print(nums[i + 2])\n",
    " \n",
    "        "
   ]
  },
  {
   "cell_type": "code",
   "execution_count": 70,
   "id": "7e8b1ed3",
   "metadata": {},
   "outputs": [
    {
     "name": "stdout",
     "output_type": "stream",
     "text": [
      "[5, 4]\n",
      "[3, 5]\n"
     ]
    }
   ],
   "source": [
    "def find_all_duplicates(nums):\n",
    "  i = 0\n",
    "  while i < len(nums):\n",
    "    j = nums[i] - 1\n",
    "    if nums[i] != nums[j]:\n",
    "      nums[i], nums[j] = nums[j], nums[i]  # swap\n",
    "    else:\n",
    "      i += 1\n",
    "\n",
    "  duplicateNumbers = []\n",
    "  for i in range(len(nums)):\n",
    "    if nums[i] != i + 1:\n",
    "      duplicateNumbers.append(nums[i])\n",
    "\n",
    "  return duplicateNumbers\n",
    "\n",
    "\n",
    "def main():\n",
    "  print(find_all_duplicates([3, 4, 4, 5, 5]))\n",
    "  print(find_all_duplicates([5, 4, 7, 2, 3, 5, 3]))\n",
    "\n",
    "\n",
    "main()"
   ]
  },
  {
   "cell_type": "code",
   "execution_count": 74,
   "id": "f94d2c80",
   "metadata": {},
   "outputs": [],
   "source": [
    "class Solution(object):\n",
    "    def findErrorNums(self, nums):\n",
    "        \"\"\"\n",
    "        :type nums: List[int]\n",
    "        :rtype: List[int]\n",
    "        \"\"\"\n",
    "        i = 0\n",
    "        while i < len(nums):\n",
    "            if nums[i] != i+1:\n",
    "                j = nums[i] - 1\n",
    "                if nums[i] != nums[j]:\n",
    "                    nums[i], nums[j] = nums[j], nums[i]\n",
    "                else:\n",
    "                    return [nums[i], i+1]\n",
    "            else: \n",
    "                i += 1\n",
    "        return -1"
   ]
  },
  {
   "cell_type": "code",
   "execution_count": 81,
   "id": "3f2275b3",
   "metadata": {},
   "outputs": [],
   "source": [
    "def findErrorNums(nums):\n",
    "    \"\"\"\n",
    "    :type nums: List[int]\n",
    "    :rtype: List[int]\n",
    "    \"\"\"\n",
    "    i = 0\n",
    "    while i < len(nums):\n",
    "        if nums[i] != i+1:\n",
    "            j = nums[i] - 1\n",
    "            if nums[i] != nums[j]:\n",
    "                nums[i], nums[j] = nums[j], nums[i]\n",
    "            else:\n",
    "                return [nums[i], i+1]\n",
    "        else: \n",
    "            i += 1\n",
    "    return -1"
   ]
  },
  {
   "cell_type": "code",
   "execution_count": 82,
   "id": "70dcb80b",
   "metadata": {},
   "outputs": [],
   "source": [
    "nums = [8,7,3,5,3,6,1,4]"
   ]
  },
  {
   "cell_type": "code",
   "execution_count": 83,
   "id": "af4fa89c",
   "metadata": {},
   "outputs": [
    {
     "data": {
      "text/plain": [
       "[3, 1]"
      ]
     },
     "execution_count": 83,
     "metadata": {},
     "output_type": "execute_result"
    }
   ],
   "source": [
    "findErrorNums(nums)"
   ]
  },
  {
   "cell_type": "code",
   "execution_count": 84,
   "id": "66fea9ad",
   "metadata": {},
   "outputs": [
    {
     "data": {
      "text/plain": [
       "[3, 7, 3, 4, 5, 6, 1, 8]"
      ]
     },
     "execution_count": 84,
     "metadata": {},
     "output_type": "execute_result"
    }
   ],
   "source": [
    "nums"
   ]
  },
  {
   "cell_type": "code",
   "execution_count": null,
   "id": "22d034da",
   "metadata": {},
   "outputs": [],
   "source": [
    "def findErrorNums(nums):\n",
    "    \"\"\"\n",
    "    :type nums: List[int]\n",
    "    :rtype: List[int]\n",
    "    \"\"\"\n",
    "    i = 0\n",
    "    while i < len(nums):\n",
    "        if nums[i] != i+1:\n",
    "            j = nums[i] - 1\n",
    "            if nums[i] != nums[j]:\n",
    "                nums[i], nums[j] = nums[j], nums[i]\n",
    "            else:\n",
    "                return [nums[i], i+1]\n",
    "        else: \n",
    "            i += 1\n",
    "    return -1"
   ]
  },
  {
   "cell_type": "code",
   "execution_count": 111,
   "id": "313190f0",
   "metadata": {},
   "outputs": [],
   "source": [
    "def find_missing_number(num):\n",
    "    i = 0\n",
    "    while i < len(nums):\n",
    "        j = nums[i] - 1\n",
    "        if nums[i] != nums[j]:\n",
    "            nums[i], nums[j] = nums[j], nums[i]\n",
    "        else:\n",
    "            i += 1\n",
    "    for i in range(len(nums)):\n",
    "        if nums[i] != i+1:\n",
    "            return [nums[i], i + 1]\n",
    "    return len(nums)"
   ]
  },
  {
   "cell_type": "code",
   "execution_count": 112,
   "id": "50703b40",
   "metadata": {},
   "outputs": [],
   "source": [
    "nums = [8,7,3,5,3,6,1,4]"
   ]
  },
  {
   "cell_type": "code",
   "execution_count": 113,
   "id": "a85344ba",
   "metadata": {},
   "outputs": [
    {
     "data": {
      "text/plain": [
       "[3, 2]"
      ]
     },
     "execution_count": 113,
     "metadata": {},
     "output_type": "execute_result"
    }
   ],
   "source": [
    "find_missing_number(nums)"
   ]
  },
  {
   "cell_type": "code",
   "execution_count": 114,
   "id": "53aeeed4",
   "metadata": {},
   "outputs": [
    {
     "data": {
      "text/plain": [
       "[1, 3, 3, 4, 5, 6, 7, 8]"
      ]
     },
     "execution_count": 114,
     "metadata": {},
     "output_type": "execute_result"
    }
   ],
   "source": [
    "nums"
   ]
  },
  {
   "cell_type": "code",
   "execution_count": 120,
   "id": "a713ed8e",
   "metadata": {},
   "outputs": [],
   "source": [
    "ranges = [[1,10], [10,20]]\n",
    "left = 21\n",
    "right = 21"
   ]
  },
  {
   "cell_type": "code",
   "execution_count": 135,
   "id": "0414dc96",
   "metadata": {},
   "outputs": [],
   "source": [
    "ranges = [[1,1]]\n",
    "left = 1\n",
    "right = 50"
   ]
  },
  {
   "cell_type": "code",
   "execution_count": 142,
   "id": "f969e794",
   "metadata": {},
   "outputs": [],
   "source": [
    "def isCovered(ranges, left, right):\n",
    "    rangeList = []\n",
    "    for range_i in ranges:\n",
    "        rangeList.append([item for item in range(range_i[0], range_i[1]+1)])  \n",
    "    rangeList = set([item for sublist in rangeList for item in sublist])\n",
    "    print(rangeList)\n",
    "    for i in range(left, right+1):\n",
    "        if i not in rangeList:\n",
    "            return False\n",
    "    return True\n",
    "        "
   ]
  },
  {
   "cell_type": "code",
   "execution_count": 143,
   "id": "4f6faf17",
   "metadata": {},
   "outputs": [
    {
     "name": "stdout",
     "output_type": "stream",
     "text": [
      "{1}\n"
     ]
    },
    {
     "data": {
      "text/plain": [
       "False"
      ]
     },
     "execution_count": 143,
     "metadata": {},
     "output_type": "execute_result"
    }
   ],
   "source": [
    "isCovered(ranges, left, right)"
   ]
  },
  {
   "cell_type": "code",
   "execution_count": 157,
   "id": "1a79ef5f",
   "metadata": {},
   "outputs": [],
   "source": [
    "nums = [3, 2, 5, 1]"
   ]
  },
  {
   "cell_type": "code",
   "execution_count": 172,
   "id": "45cef3b2",
   "metadata": {},
   "outputs": [],
   "source": [
    "def find_first_smallest_missing_positive(nums):\n",
    "    i, n = 0, len(nums)\n",
    "    while i < n:\n",
    "        j = nums[i] - 1\n",
    "        if n >= nums[i] > 0 and nums[i] != nums[j]:\n",
    "            nums[i], nums[j] = nums[j], nums[i]\n",
    "            print(nums)\n",
    "        else:\n",
    "            i += 1\n",
    "            print(nums)\n",
    "            \n",
    "    for i in range(n):\n",
    "        if nums[i] > 0 and nums[i] != i+1:\n",
    "            return i + 1\n",
    "            \n",
    "    return n + 1"
   ]
  },
  {
   "cell_type": "code",
   "execution_count": 173,
   "id": "f94e3ae0",
   "metadata": {},
   "outputs": [
    {
     "name": "stdout",
     "output_type": "stream",
     "text": [
      "[1, 2, 3, 5]\n",
      "[1, 2, 3, 5]\n",
      "[1, 2, 3, 5]\n",
      "[1, 2, 3, 5]\n"
     ]
    },
    {
     "data": {
      "text/plain": [
       "4"
      ]
     },
     "execution_count": 173,
     "metadata": {},
     "output_type": "execute_result"
    }
   ],
   "source": [
    "find_first_smallest_missing_positive(nums)"
   ]
  },
  {
   "cell_type": "code",
   "execution_count": null,
   "id": "2178b8ee",
   "metadata": {},
   "outputs": [],
   "source": []
  },
  {
   "cell_type": "code",
   "execution_count": null,
   "id": "6352858c",
   "metadata": {},
   "outputs": [],
   "source": []
  },
  {
   "cell_type": "code",
   "execution_count": null,
   "id": "fea6e6a8",
   "metadata": {},
   "outputs": [],
   "source": []
  },
  {
   "cell_type": "code",
   "execution_count": null,
   "id": "55cc1abb",
   "metadata": {},
   "outputs": [],
   "source": []
  },
  {
   "cell_type": "code",
   "execution_count": null,
   "id": "5b94a685",
   "metadata": {},
   "outputs": [],
   "source": []
  },
  {
   "cell_type": "code",
   "execution_count": null,
   "id": "04c716de",
   "metadata": {},
   "outputs": [],
   "source": []
  },
  {
   "cell_type": "markdown",
   "id": "162fbad7",
   "metadata": {},
   "source": [
    "<img src='img/x.png' width=\"600\" height=\"300\" align=\"center\"/>"
   ]
  }
 ],
 "metadata": {
  "kernelspec": {
   "display_name": "Python 3",
   "language": "python",
   "name": "python3"
  },
  "language_info": {
   "codemirror_mode": {
    "name": "ipython",
    "version": 3
   },
   "file_extension": ".py",
   "mimetype": "text/x-python",
   "name": "python",
   "nbconvert_exporter": "python",
   "pygments_lexer": "ipython3",
   "version": "3.8.8"
  }
 },
 "nbformat": 4,
 "nbformat_minor": 5
}
