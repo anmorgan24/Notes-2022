{
 "cells": [
  {
   "cell_type": "markdown",
   "id": "7d465767",
   "metadata": {},
   "source": [
    "# Binary Search\n",
    "**Note:** The following is a collection of notes from [The Khan Academy: CS Algorithms](https://www.khanacademy.org/computing/computer-science/algorithms/binary-search/a/binary-search), "
   ]
  },
  {
   "cell_type": "code",
   "execution_count": null,
   "id": "e1580a6a",
   "metadata": {},
   "outputs": [],
   "source": []
  },
  {
   "cell_type": "markdown",
   "id": "42215aff",
   "metadata": {},
   "source": [
    "- Binary search is an efficient algorithm for finding an item from a sorted list of items. It works by repeatedly dividing in half the portion of the list that could contain the item, until you've narrowed down the possible locations to just one. \n",
    "- One of the most common ways to use binary search is to find an item in an array.\n",
    "\n",
    "#### Here's a step-by-step description of using binary search to play the guessing game:\n",
    "- Let min = `1` and max = `n`.\n",
    "- Guess the average of `max` and `min`, rounded down so that it is an integer.\n",
    "- If you guessed the number, stop. You found it!\n",
    "- If the guess was too low, set `min` to be one larger than the guess.\n",
    "- If the guess was too high, set `max` to be one smaller than the guess.\n",
    "- Go back to step two.\n",
    "\n",
    "#### Pseudo-code\n",
    "- Let `min = 0` and `max = n-1`.\n",
    "- Compute guess as the average of `max` and `min`, rounded down (so that it is an integer).\n",
    "- If `array[guess]` equals `target`, then stop. You found it! Return `guess`.\n",
    "- If the guess was too low, that is, `array[guess] < target`, then set `min = guess + 1`.\n",
    "- Otherwise, the guess was too high. Set `max = guess - 1`.\n",
    "- Go back to step 2."
   ]
  },
  {
   "cell_type": "code",
   "execution_count": null,
   "id": "02278760",
   "metadata": {},
   "outputs": [],
   "source": []
  },
  {
   "cell_type": "code",
   "execution_count": null,
   "id": "71e31a76",
   "metadata": {},
   "outputs": [],
   "source": []
  },
  {
   "cell_type": "code",
   "execution_count": null,
   "id": "b5f364ef",
   "metadata": {},
   "outputs": [],
   "source": []
  },
  {
   "cell_type": "code",
   "execution_count": null,
   "id": "d6c2e707",
   "metadata": {},
   "outputs": [],
   "source": []
  },
  {
   "cell_type": "code",
   "execution_count": null,
   "id": "9e39d993",
   "metadata": {},
   "outputs": [],
   "source": []
  },
  {
   "cell_type": "code",
   "execution_count": null,
   "id": "3a4b7e4d",
   "metadata": {},
   "outputs": [],
   "source": []
  },
  {
   "cell_type": "code",
   "execution_count": null,
   "id": "fd3cede5",
   "metadata": {},
   "outputs": [],
   "source": []
  },
  {
   "cell_type": "code",
   "execution_count": null,
   "id": "7086b773",
   "metadata": {},
   "outputs": [],
   "source": []
  },
  {
   "cell_type": "code",
   "execution_count": null,
   "id": "e7e14b90",
   "metadata": {},
   "outputs": [],
   "source": []
  },
  {
   "cell_type": "code",
   "execution_count": null,
   "id": "3dcff808",
   "metadata": {},
   "outputs": [],
   "source": []
  },
  {
   "cell_type": "code",
   "execution_count": null,
   "id": "adebba6d",
   "metadata": {},
   "outputs": [],
   "source": []
  },
  {
   "cell_type": "code",
   "execution_count": null,
   "id": "5e2fa226",
   "metadata": {},
   "outputs": [],
   "source": []
  },
  {
   "cell_type": "code",
   "execution_count": null,
   "id": "fc2682fa",
   "metadata": {},
   "outputs": [],
   "source": []
  },
  {
   "cell_type": "code",
   "execution_count": null,
   "id": "affeb336",
   "metadata": {},
   "outputs": [],
   "source": []
  },
  {
   "cell_type": "code",
   "execution_count": null,
   "id": "dda51560",
   "metadata": {},
   "outputs": [],
   "source": []
  },
  {
   "cell_type": "code",
   "execution_count": null,
   "id": "ea269ccb",
   "metadata": {},
   "outputs": [],
   "source": []
  },
  {
   "cell_type": "code",
   "execution_count": null,
   "id": "1ccc2bee",
   "metadata": {},
   "outputs": [],
   "source": []
  },
  {
   "cell_type": "code",
   "execution_count": null,
   "id": "1e840f64",
   "metadata": {},
   "outputs": [],
   "source": []
  }
 ],
 "metadata": {
  "kernelspec": {
   "display_name": "Python 3",
   "language": "python",
   "name": "python3"
  },
  "language_info": {
   "codemirror_mode": {
    "name": "ipython",
    "version": 3
   },
   "file_extension": ".py",
   "mimetype": "text/x-python",
   "name": "python",
   "nbconvert_exporter": "python",
   "pygments_lexer": "ipython3",
   "version": "3.8.8"
  }
 },
 "nbformat": 4,
 "nbformat_minor": 5
}
