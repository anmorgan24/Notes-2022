{
 "cells": [
  {
   "cell_type": "markdown",
   "id": "9cd73c51",
   "metadata": {},
   "source": [
    "# Tree Depth First Search (DFS)\n",
    "\n",
    "This pattern is based on the **Depth First Search (DFS)** technique to traverse a tree.\n",
    "\n",
    "We will be using **recursion** (or **we can also use a stack for the iterative approach**) to keep track of all the previous (parent) nodes while traversing. This also means that the space complexity of the algorithm will be **`O(H)`** where `H` is the maximum height of the tree."
   ]
  },
  {
   "cell_type": "markdown",
   "id": "d67f9f31",
   "metadata": {},
   "source": [
    "# 1. Path Sum"
   ]
  },
  {
   "cell_type": "markdown",
   "id": "a031e7f2",
   "metadata": {},
   "source": [
    "## Problem Statement\n",
    "Given a binary tree and a number ‘S’, find if the tree has a path from root-to-leaf such that the sum of all the node values of that path equals ‘S’.\n",
    "\n",
    "<img src='img/1.png' width=\"800\" height=\"400\" align=\"center\"/>"
   ]
  },
  {
   "cell_type": "markdown",
   "id": "448a1604",
   "metadata": {},
   "source": [
    "## Solution\n",
    "As we are trying to search for a root-to-leaf path, we can use the Depth First Search (DFS) technique to solve this problem.\n",
    "\n",
    "To recursively traverse a binary tree in a DFS fashion, we can start from the root and at every step, make two recursive calls one for the left and one for the right child.\n",
    "\n",
    "Here are the steps for our Binary Tree Path Sum problem:\n",
    "\n",
    "1. Start DFS with the root of the tree.\n",
    "2. If the current node is not a leaf node, do two things:\n",
    "    - Subtract the value of the current node from the given number to get a new sum => `S = S - node.value`\n",
    "    - Make two recursive calls for both the children of the current node with the new number calculated in the previous step.\n",
    "3. At every step, see if the current node being visited is a leaf node and if its value is equal to the given number ‘S’. If both these conditions are true, we have found the required root-to-leaf path, therefore return `true`.\n",
    "4. If the current node is a leaf but its value is not equal to the given number ‘S’, return `false`.\n",
    "\n",
    "Let’s take the example-2 mentioned above to visually see our algorithm:\n",
    "\n",
    "<img src='img/2.png' width=\"800\" height=\"400\" align=\"center\"/>\n",
    "\n",
    "<img src='img/3.png' width=\"800\" height=\"400\" align=\"center\"/>\n",
    "\n",
    "<img src='img/4.png' width=\"800\" height=\"400\" align=\"center\"/>\n",
    "\n",
    "<img src='img/5.png' width=\"800\" height=\"400\" align=\"center\"/>\n",
    "\n",
    "<img src='img/6.png' width=\"800\" height=\"400\" align=\"center\"/>\n",
    "\n",
    "<img src='img/7.png' width=\"800\" height=\"400\" align=\"center\"/>\n",
    "\n",
    "<img src='img/8.png' width=\"800\" height=\"400\" align=\"center\"/>\n",
    "\n",
    "<img src='img/9.png' width=\"800\" height=\"400\" align=\"center\"/>\n",
    "\n",
    "<img src='img/10.png' width=\"800\" height=\"400\" align=\"center\"/>\n",
    "\n",
    "<img src='img/11.png' width=\"800\" height=\"400\" align=\"center\"/>"
   ]
  },
  {
   "cell_type": "code",
   "execution_count": 1,
   "id": "21ec8461",
   "metadata": {},
   "outputs": [
    {
     "name": "stdout",
     "output_type": "stream",
     "text": [
      "Tree has path: True\n",
      "Tree has path: False\n"
     ]
    }
   ],
   "source": [
    "class TreeNode:\n",
    "  def __init__(self, val, left=None, right=None):\n",
    "    self.val = val\n",
    "    self.left = left\n",
    "    self.right = right\n",
    "\n",
    "\n",
    "def has_path(root, sum):\n",
    "  if root is None:\n",
    "    return False\n",
    "\n",
    "  # if the current node is a leaf and its value is equal to the sum, we've found a path\n",
    "  if root.val == sum and root.left is None and root.right is None:\n",
    "    return True\n",
    "\n",
    "  # recursively call to traverse the left and right sub-tree\n",
    "  # return true if any of the two recursive call return true\n",
    "  return has_path(root.left, sum - root.val) or has_path(root.right, sum - root.val)\n",
    "\n",
    "\n",
    "def main():\n",
    "\n",
    "  root = TreeNode(12)\n",
    "  root.left = TreeNode(7)\n",
    "  root.right = TreeNode(1)\n",
    "  root.left.left = TreeNode(9)\n",
    "  root.right.left = TreeNode(10)\n",
    "  root.right.right = TreeNode(5)\n",
    "  print(\"Tree has path: \" + str(has_path(root, 23)))\n",
    "  print(\"Tree has path: \" + str(has_path(root, 16)))\n",
    "\n",
    "\n",
    "main()"
   ]
  },
  {
   "cell_type": "markdown",
   "id": "52897859",
   "metadata": {},
   "source": [
    "### Time complexity\n",
    "The time complexity of the above algorithm is $O(N)$ where ‘N’ is the total number of nodes in the tree. This is due to the fact that we traverse each node once.\n",
    "\n",
    "### Space complexity\n",
    "The space complexity of the above algorithm will be $O(N)$ in the worst case. This space will be used to store the recursion stack. The worst case will happen when the given tree is a linked list (i.e., every node has only one child)."
   ]
  },
  {
   "cell_type": "markdown",
   "id": "f2868f72",
   "metadata": {},
   "source": [
    "# 2. All Paths For a Sum"
   ]
  },
  {
   "cell_type": "markdown",
   "id": "13e1dec3",
   "metadata": {},
   "source": [
    "## Problem Statement\n",
    "Given a binary tree and a number ‘S’, find all paths from root-to-leaf such that the sum of all the node values of each path equals ‘S’.\n",
    "\n",
    "<img src='img/12.png' width=\"800\" height=\"400\" align=\"center\"/>\n",
    "\n",
    "## Solution\n",
    "This problem follows the Binary Tree Path Sum pattern. We can follow the same **DFS** approach. There will be two differences:\n",
    "\n",
    "1. Every time we find a root-to-leaf path, we will store it in a list.\n",
    "2. We will traverse all paths and will not stop processing after finding the first path."
   ]
  },
  {
   "cell_type": "code",
   "execution_count": 2,
   "id": "acce5d4b",
   "metadata": {},
   "outputs": [
    {
     "name": "stdout",
     "output_type": "stream",
     "text": [
      "Tree paths with required_sum 23: [[12, 7, 4], [12, 1, 10]]\n"
     ]
    }
   ],
   "source": [
    "class TreeNode:\n",
    "  def __init__(self, val, left=None, right=None):\n",
    "    self.val = val\n",
    "    self.left = left\n",
    "    self.right = right\n",
    "\n",
    "\n",
    "def find_paths(root, required_sum):\n",
    "  allPaths = []\n",
    "  find_paths_recursive(root, required_sum, [], allPaths)\n",
    "  return allPaths\n",
    "\n",
    "\n",
    "def find_paths_recursive(currentNode, required_sum, currentPath, allPaths):\n",
    "  if currentNode is None:\n",
    "    return\n",
    "\n",
    "  # add the current node to the path\n",
    "  currentPath.append(currentNode.val)\n",
    "\n",
    "  # if the current node is a leaf and its value is equal to required_sum, save the current path\n",
    "  if currentNode.val == required_sum and currentNode.left is None and currentNode.right is None:\n",
    "    allPaths.append(list(currentPath))\n",
    "  else:\n",
    "    # traverse the left sub-tree\n",
    "    find_paths_recursive(currentNode.left, required_sum -\n",
    "                         currentNode.val, currentPath, allPaths)\n",
    "    # traverse the right sub-tree\n",
    "    find_paths_recursive(currentNode.right, required_sum -\n",
    "                         currentNode.val, currentPath, allPaths)\n",
    "\n",
    "  # remove the current node from the path to backtrack,\n",
    "  # we need to remove the current node while we are going up the recursive call stack.\n",
    "  del currentPath[-1]\n",
    "\n",
    "\n",
    "def main():\n",
    "\n",
    "  root = TreeNode(12)\n",
    "  root.left = TreeNode(7)\n",
    "  root.right = TreeNode(1)\n",
    "  root.left.left = TreeNode(4)\n",
    "  root.right.left = TreeNode(10)\n",
    "  root.right.right = TreeNode(5)\n",
    "  required_sum = 23\n",
    "  print(\"Tree paths with required_sum \" + str(required_sum) +\n",
    "        \": \" + str(find_paths(root, required_sum)))\n",
    "\n",
    "\n",
    "main()"
   ]
  },
  {
   "cell_type": "markdown",
   "id": "a0725dd7",
   "metadata": {},
   "source": [
    "`[\"1->2->5\", \"1->3\"]`"
   ]
  },
  {
   "cell_type": "markdown",
   "id": "2acb2071",
   "metadata": {},
   "source": [
    "`[1,2,5]` $\\Rightarrow$ `\"1->2->5\"`"
   ]
  },
  {
   "cell_type": "code",
   "execution_count": 8,
   "id": "77878c6b",
   "metadata": {},
   "outputs": [],
   "source": [
    "currentPath= [1, 2, 5]"
   ]
  },
  {
   "cell_type": "code",
   "execution_count": 9,
   "id": "7f4df1e0",
   "metadata": {},
   "outputs": [
    {
     "data": {
      "text/plain": [
       "[1, 2, 5]"
      ]
     },
     "execution_count": 9,
     "metadata": {},
     "output_type": "execute_result"
    }
   ],
   "source": [
    "currentPath"
   ]
  },
  {
   "cell_type": "code",
   "execution_count": 10,
   "id": "02e99012",
   "metadata": {},
   "outputs": [],
   "source": [
    "currentPath= '->'.join(str(e) for e in currentPath)"
   ]
  },
  {
   "cell_type": "code",
   "execution_count": 11,
   "id": "f2dd77e1",
   "metadata": {},
   "outputs": [
    {
     "data": {
      "text/plain": [
       "'1->2->5'"
      ]
     },
     "execution_count": 11,
     "metadata": {},
     "output_type": "execute_result"
    }
   ],
   "source": [
    "currentPath"
   ]
  },
  {
   "cell_type": "code",
   "execution_count": 102,
   "id": "2f638d52",
   "metadata": {},
   "outputs": [],
   "source": [
    "class TreeNode:\n",
    "    def __init__(self, val, left=None, right=None):\n",
    "        self.val = val\n",
    "        self.left = left\n",
    "        self.right = right"
   ]
  },
  {
   "cell_type": "code",
   "execution_count": 103,
   "id": "0daad66e",
   "metadata": {},
   "outputs": [],
   "source": [
    "root = TreeNode(12)\n",
    "root.left = TreeNode(7)\n",
    "root.right = TreeNode(1)\n",
    "root.left.left = TreeNode(4)\n",
    "root.right.left = TreeNode(10)\n",
    "root.right.right = TreeNode(5)"
   ]
  },
  {
   "cell_type": "code",
   "execution_count": 111,
   "id": "eb7ba435",
   "metadata": {},
   "outputs": [],
   "source": [
    "class TreeNode:\n",
    "    def __init__(self, val, left=None, right=None):\n",
    "        self.val = val\n",
    "        self.left = left\n",
    "        self.right = right\n",
    "    def find_max_paths(self, root):\n",
    "        currentPath=[]\n",
    "        self.maxSum = -float('inf')\n",
    "        self.find_paths_recursive(root, [])\n",
    "        return self.maxSum, currentPath\n",
    "\n",
    "\n",
    "    def find_paths_recursive(self, currentNode, currentPath):\n",
    "        if currentNode is None:\n",
    "            return\n",
    "\n",
    "        currentPath.append(int(currentNode.val))\n",
    "        print(currentPath)\n",
    "\n",
    "        if currentNode.left is None and currentNode.right is None:\n",
    "            self.maxSum = max(self.maxSum, sum(list(currentPath)))\n",
    "        else:\n",
    "            self.find_paths_recursive(currentNode.left, currentPath)\n",
    "            self.find_paths_recursive(currentNode.right, currentPath)\n",
    "\n",
    "        del currentPath[-1]"
   ]
  },
  {
   "cell_type": "code",
   "execution_count": 112,
   "id": "b2f965ee",
   "metadata": {},
   "outputs": [
    {
     "name": "stdout",
     "output_type": "stream",
     "text": [
      "[12]\n",
      "[12, 7]\n",
      "[12, 7, 4]\n"
     ]
    },
    {
     "ename": "UnboundLocalError",
     "evalue": "local variable 'maxSum' referenced before assignment",
     "output_type": "error",
     "traceback": [
      "\u001b[0;31m---------------------------------------------------------------------------\u001b[0m",
      "\u001b[0;31mUnboundLocalError\u001b[0m                         Traceback (most recent call last)",
      "\u001b[0;32m<ipython-input-112-d7bfb9178d42>\u001b[0m in \u001b[0;36m<module>\u001b[0;34m\u001b[0m\n\u001b[0;32m----> 1\u001b[0;31m \u001b[0mfind_max_paths\u001b[0m\u001b[0;34m(\u001b[0m\u001b[0mroot\u001b[0m\u001b[0;34m)\u001b[0m\u001b[0;34m\u001b[0m\u001b[0;34m\u001b[0m\u001b[0m\n\u001b[0m",
      "\u001b[0;32m<ipython-input-104-21875fc35dba>\u001b[0m in \u001b[0;36mfind_max_paths\u001b[0;34m(root)\u001b[0m\n\u001b[1;32m      2\u001b[0m     \u001b[0mcurrentPath\u001b[0m\u001b[0;34m=\u001b[0m\u001b[0;34m[\u001b[0m\u001b[0;34m]\u001b[0m\u001b[0;34m\u001b[0m\u001b[0;34m\u001b[0m\u001b[0m\n\u001b[1;32m      3\u001b[0m     \u001b[0mmaxSum\u001b[0m \u001b[0;34m=\u001b[0m \u001b[0;34m-\u001b[0m\u001b[0mfloat\u001b[0m\u001b[0;34m(\u001b[0m\u001b[0;34m'inf'\u001b[0m\u001b[0;34m)\u001b[0m\u001b[0;34m\u001b[0m\u001b[0;34m\u001b[0m\u001b[0m\n\u001b[0;32m----> 4\u001b[0;31m     \u001b[0mfind_paths_recursive\u001b[0m\u001b[0;34m(\u001b[0m\u001b[0mroot\u001b[0m\u001b[0;34m,\u001b[0m \u001b[0;34m[\u001b[0m\u001b[0;34m]\u001b[0m\u001b[0;34m)\u001b[0m\u001b[0;34m\u001b[0m\u001b[0;34m\u001b[0m\u001b[0m\n\u001b[0m\u001b[1;32m      5\u001b[0m     \u001b[0;32mreturn\u001b[0m \u001b[0mmaxSum\u001b[0m\u001b[0;34m,\u001b[0m \u001b[0mcurrentPath\u001b[0m\u001b[0;34m\u001b[0m\u001b[0;34m\u001b[0m\u001b[0m\n\u001b[1;32m      6\u001b[0m \u001b[0;34m\u001b[0m\u001b[0m\n",
      "\u001b[0;32m<ipython-input-104-21875fc35dba>\u001b[0m in \u001b[0;36mfind_paths_recursive\u001b[0;34m(currentNode, currentPath)\u001b[0m\n\u001b[1;32m     16\u001b[0m         \u001b[0mmaxSum\u001b[0m \u001b[0;34m=\u001b[0m \u001b[0mmax\u001b[0m\u001b[0;34m(\u001b[0m\u001b[0mmaxSum\u001b[0m\u001b[0;34m,\u001b[0m \u001b[0msum\u001b[0m\u001b[0;34m(\u001b[0m\u001b[0mlist\u001b[0m\u001b[0;34m(\u001b[0m\u001b[0mcurrentPath\u001b[0m\u001b[0;34m)\u001b[0m\u001b[0;34m)\u001b[0m\u001b[0;34m)\u001b[0m\u001b[0;34m\u001b[0m\u001b[0;34m\u001b[0m\u001b[0m\n\u001b[1;32m     17\u001b[0m     \u001b[0;32melse\u001b[0m\u001b[0;34m:\u001b[0m\u001b[0;34m\u001b[0m\u001b[0;34m\u001b[0m\u001b[0m\n\u001b[0;32m---> 18\u001b[0;31m         \u001b[0mfind_paths_recursive\u001b[0m\u001b[0;34m(\u001b[0m\u001b[0mcurrentNode\u001b[0m\u001b[0;34m.\u001b[0m\u001b[0mleft\u001b[0m\u001b[0;34m,\u001b[0m \u001b[0mcurrentPath\u001b[0m\u001b[0;34m)\u001b[0m\u001b[0;34m\u001b[0m\u001b[0;34m\u001b[0m\u001b[0m\n\u001b[0m\u001b[1;32m     19\u001b[0m         \u001b[0mfind_paths_recursive\u001b[0m\u001b[0;34m(\u001b[0m\u001b[0mcurrentNode\u001b[0m\u001b[0;34m.\u001b[0m\u001b[0mright\u001b[0m\u001b[0;34m,\u001b[0m \u001b[0mcurrentPath\u001b[0m\u001b[0;34m)\u001b[0m\u001b[0;34m\u001b[0m\u001b[0;34m\u001b[0m\u001b[0m\n\u001b[1;32m     20\u001b[0m \u001b[0;34m\u001b[0m\u001b[0m\n",
      "\u001b[0;32m<ipython-input-104-21875fc35dba>\u001b[0m in \u001b[0;36mfind_paths_recursive\u001b[0;34m(currentNode, currentPath)\u001b[0m\n\u001b[1;32m     16\u001b[0m         \u001b[0mmaxSum\u001b[0m \u001b[0;34m=\u001b[0m \u001b[0mmax\u001b[0m\u001b[0;34m(\u001b[0m\u001b[0mmaxSum\u001b[0m\u001b[0;34m,\u001b[0m \u001b[0msum\u001b[0m\u001b[0;34m(\u001b[0m\u001b[0mlist\u001b[0m\u001b[0;34m(\u001b[0m\u001b[0mcurrentPath\u001b[0m\u001b[0;34m)\u001b[0m\u001b[0;34m)\u001b[0m\u001b[0;34m)\u001b[0m\u001b[0;34m\u001b[0m\u001b[0;34m\u001b[0m\u001b[0m\n\u001b[1;32m     17\u001b[0m     \u001b[0;32melse\u001b[0m\u001b[0;34m:\u001b[0m\u001b[0;34m\u001b[0m\u001b[0;34m\u001b[0m\u001b[0m\n\u001b[0;32m---> 18\u001b[0;31m         \u001b[0mfind_paths_recursive\u001b[0m\u001b[0;34m(\u001b[0m\u001b[0mcurrentNode\u001b[0m\u001b[0;34m.\u001b[0m\u001b[0mleft\u001b[0m\u001b[0;34m,\u001b[0m \u001b[0mcurrentPath\u001b[0m\u001b[0;34m)\u001b[0m\u001b[0;34m\u001b[0m\u001b[0;34m\u001b[0m\u001b[0m\n\u001b[0m\u001b[1;32m     19\u001b[0m         \u001b[0mfind_paths_recursive\u001b[0m\u001b[0;34m(\u001b[0m\u001b[0mcurrentNode\u001b[0m\u001b[0;34m.\u001b[0m\u001b[0mright\u001b[0m\u001b[0;34m,\u001b[0m \u001b[0mcurrentPath\u001b[0m\u001b[0;34m)\u001b[0m\u001b[0;34m\u001b[0m\u001b[0;34m\u001b[0m\u001b[0m\n\u001b[1;32m     20\u001b[0m \u001b[0;34m\u001b[0m\u001b[0m\n",
      "\u001b[0;32m<ipython-input-104-21875fc35dba>\u001b[0m in \u001b[0;36mfind_paths_recursive\u001b[0;34m(currentNode, currentPath)\u001b[0m\n\u001b[1;32m     14\u001b[0m \u001b[0;34m\u001b[0m\u001b[0m\n\u001b[1;32m     15\u001b[0m     \u001b[0;32mif\u001b[0m \u001b[0mcurrentNode\u001b[0m\u001b[0;34m.\u001b[0m\u001b[0mleft\u001b[0m \u001b[0;32mis\u001b[0m \u001b[0;32mNone\u001b[0m \u001b[0;32mand\u001b[0m \u001b[0mcurrentNode\u001b[0m\u001b[0;34m.\u001b[0m\u001b[0mright\u001b[0m \u001b[0;32mis\u001b[0m \u001b[0;32mNone\u001b[0m\u001b[0;34m:\u001b[0m\u001b[0;34m\u001b[0m\u001b[0;34m\u001b[0m\u001b[0m\n\u001b[0;32m---> 16\u001b[0;31m         \u001b[0mmaxSum\u001b[0m \u001b[0;34m=\u001b[0m \u001b[0mmax\u001b[0m\u001b[0;34m(\u001b[0m\u001b[0mmaxSum\u001b[0m\u001b[0;34m,\u001b[0m \u001b[0msum\u001b[0m\u001b[0;34m(\u001b[0m\u001b[0mlist\u001b[0m\u001b[0;34m(\u001b[0m\u001b[0mcurrentPath\u001b[0m\u001b[0;34m)\u001b[0m\u001b[0;34m)\u001b[0m\u001b[0;34m)\u001b[0m\u001b[0;34m\u001b[0m\u001b[0;34m\u001b[0m\u001b[0m\n\u001b[0m\u001b[1;32m     17\u001b[0m     \u001b[0;32melse\u001b[0m\u001b[0;34m:\u001b[0m\u001b[0;34m\u001b[0m\u001b[0;34m\u001b[0m\u001b[0m\n\u001b[1;32m     18\u001b[0m         \u001b[0mfind_paths_recursive\u001b[0m\u001b[0;34m(\u001b[0m\u001b[0mcurrentNode\u001b[0m\u001b[0;34m.\u001b[0m\u001b[0mleft\u001b[0m\u001b[0;34m,\u001b[0m \u001b[0mcurrentPath\u001b[0m\u001b[0;34m)\u001b[0m\u001b[0;34m\u001b[0m\u001b[0;34m\u001b[0m\u001b[0m\n",
      "\u001b[0;31mUnboundLocalError\u001b[0m: local variable 'maxSum' referenced before assignment"
     ]
    }
   ],
   "source": [
    "find_max_paths(root)"
   ]
  },
  {
   "cell_type": "markdown",
   "id": "ce9b7e1a",
   "metadata": {},
   "source": [
    "<img src='img/x.png' width=\"800\" height=\"400\" align=\"center\"/>"
   ]
  },
  {
   "cell_type": "code",
   "execution_count": null,
   "id": "18fdac8b",
   "metadata": {},
   "outputs": [],
   "source": []
  },
  {
   "cell_type": "code",
   "execution_count": 113,
   "id": "c8f81a8b",
   "metadata": {},
   "outputs": [],
   "source": [
    "# Definition for a binary tree node.\n",
    "class TreeNode(object):\n",
    "     def __init__(self, val=0, left=None, right=None):\n",
    "         self.val = val\n",
    "         self.left = left\n",
    "         self.right = right\n",
    "class Solution(object):\n",
    "    def binaryTreePaths(self, root):\n",
    "        \"\"\"\n",
    "        :type root: TreeNode\n",
    "        :rtype: List[str]\n",
    "        \"\"\"\n",
    "\n",
    "        allPaths = []\n",
    "        self.find_paths_recursive(root, [], allPaths)\n",
    "        \n",
    "        return allPaths\n",
    "    \n",
    "    def find_paths_recursive(self, currentNode, currentPath, allPaths):\n",
    "        if currentNode is None:\n",
    "            return \n",
    "        \n",
    "        currentPath.append(currentNode.val)\n",
    "        \n",
    "        if currentNode.left is None and currentNode.right is None:\n",
    "            allPaths.append('->'.join(str(e) for e in currentPath))\n",
    "            \n",
    "        else:\n",
    "            self.find_paths_recursive(currentNode.left, currentPath, allPaths)\n",
    "            \n",
    "            self.find_paths_recursive(currentNode.right, currentPath, allPaths)\n",
    "            \n",
    "        del currentPath[-1]\n",
    "\n",
    "def main():\n",
    "\n",
    "  root = TreeNode(12)\n",
    "  root.left = TreeNode(7)\n",
    "  root.right = TreeNode(1)\n",
    "  root.left.left = TreeNode(4)\n",
    "  root.right.left = TreeNode(10)\n",
    "  root.right.right = TreeNode(5)\n",
    "  required_sum = 23\n",
    "  print(str(binaryTreePaths(root)))"
   ]
  },
  {
   "cell_type": "code",
   "execution_count": 114,
   "id": "8655f80d",
   "metadata": {},
   "outputs": [
    {
     "ename": "NameError",
     "evalue": "name 'binaryTreePaths' is not defined",
     "output_type": "error",
     "traceback": [
      "\u001b[0;31m---------------------------------------------------------------------------\u001b[0m",
      "\u001b[0;31mNameError\u001b[0m                                 Traceback (most recent call last)",
      "\u001b[0;32m<ipython-input-114-263240bbee7e>\u001b[0m in \u001b[0;36m<module>\u001b[0;34m\u001b[0m\n\u001b[0;32m----> 1\u001b[0;31m \u001b[0mmain\u001b[0m\u001b[0;34m(\u001b[0m\u001b[0;34m)\u001b[0m\u001b[0;34m\u001b[0m\u001b[0;34m\u001b[0m\u001b[0m\n\u001b[0m",
      "\u001b[0;32m<ipython-input-113-681765e6a319>\u001b[0m in \u001b[0;36mmain\u001b[0;34m()\u001b[0m\n\u001b[1;32m     42\u001b[0m   \u001b[0mroot\u001b[0m\u001b[0;34m.\u001b[0m\u001b[0mright\u001b[0m\u001b[0;34m.\u001b[0m\u001b[0mright\u001b[0m \u001b[0;34m=\u001b[0m \u001b[0mTreeNode\u001b[0m\u001b[0;34m(\u001b[0m\u001b[0;36m5\u001b[0m\u001b[0;34m)\u001b[0m\u001b[0;34m\u001b[0m\u001b[0;34m\u001b[0m\u001b[0m\n\u001b[1;32m     43\u001b[0m   \u001b[0mrequired_sum\u001b[0m \u001b[0;34m=\u001b[0m \u001b[0;36m23\u001b[0m\u001b[0;34m\u001b[0m\u001b[0;34m\u001b[0m\u001b[0m\n\u001b[0;32m---> 44\u001b[0;31m   \u001b[0mprint\u001b[0m\u001b[0;34m(\u001b[0m\u001b[0mstr\u001b[0m\u001b[0;34m(\u001b[0m\u001b[0mbinaryTreePaths\u001b[0m\u001b[0;34m(\u001b[0m\u001b[0mroot\u001b[0m\u001b[0;34m)\u001b[0m\u001b[0;34m)\u001b[0m\u001b[0;34m)\u001b[0m\u001b[0;34m\u001b[0m\u001b[0;34m\u001b[0m\u001b[0m\n\u001b[0m",
      "\u001b[0;31mNameError\u001b[0m: name 'binaryTreePaths' is not defined"
     ]
    }
   ],
   "source": [
    "main()"
   ]
  },
  {
   "cell_type": "code",
   "execution_count": null,
   "id": "82c2093d",
   "metadata": {},
   "outputs": [],
   "source": []
  },
  {
   "cell_type": "code",
   "execution_count": null,
   "id": "ecd3c4ad",
   "metadata": {},
   "outputs": [],
   "source": []
  },
  {
   "cell_type": "code",
   "execution_count": null,
   "id": "21b73a5e",
   "metadata": {},
   "outputs": [],
   "source": []
  }
 ],
 "metadata": {
  "kernelspec": {
   "display_name": "Python 3",
   "language": "python",
   "name": "python3"
  },
  "language_info": {
   "codemirror_mode": {
    "name": "ipython",
    "version": 3
   },
   "file_extension": ".py",
   "mimetype": "text/x-python",
   "name": "python",
   "nbconvert_exporter": "python",
   "pygments_lexer": "ipython3",
   "version": "3.8.8"
  }
 },
 "nbformat": 4,
 "nbformat_minor": 5
}
