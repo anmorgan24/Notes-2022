{
 "cells": [
  {
   "cell_type": "markdown",
   "id": "9cd73c51",
   "metadata": {},
   "source": [
    "# Tree Depth First Search (DFS)\n",
    "\n",
    "This pattern is based on the **Depth First Search (DFS)** technique to traverse a tree.\n",
    "\n",
    "We will be using **recursion** (or **we can also use a stack for the iterative approach**) to keep track of all the previous (parent) nodes while traversing. This also means that the space complexity of the algorithm will be **`O(H)`** where `H` is the maximum height of the tree."
   ]
  },
  {
   "cell_type": "code",
   "execution_count": null,
   "id": "a2b3109b",
   "metadata": {},
   "outputs": [],
   "source": []
  }
 ],
 "metadata": {
  "kernelspec": {
   "display_name": "Python 3",
   "language": "python",
   "name": "python3"
  },
  "language_info": {
   "codemirror_mode": {
    "name": "ipython",
    "version": 3
   },
   "file_extension": ".py",
   "mimetype": "text/x-python",
   "name": "python",
   "nbconvert_exporter": "python",
   "pygments_lexer": "ipython3",
   "version": "3.8.8"
  }
 },
 "nbformat": 4,
 "nbformat_minor": 5
}
