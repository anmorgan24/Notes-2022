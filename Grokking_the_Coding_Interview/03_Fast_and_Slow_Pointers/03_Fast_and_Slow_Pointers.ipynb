{
 "cells": [
  {
   "cell_type": "markdown",
   "id": "fe501776",
   "metadata": {},
   "source": [
    "# Fast and Slow Pointers"
   ]
  },
  {
   "cell_type": "markdown",
   "id": "25452f1f",
   "metadata": {},
   "source": [
    "The Fast & Slow pointer approach, also known as the **Hare & Tortoise** algorithm, is a pointer algorithm that uses two pointers which move through the array (or sequence/LinkedList) at different speeds. This approach is quite useful when dealing with cyclic LinkedLists or arrays.\n",
    "\n",
    "By moving at different speeds (say, in a cyclic LinkedList), the algorithm proves that the two pointers are bound to meet. The fast pointer should catch the slow pointer once both the pointers are in a cyclic loop.\n",
    "\n",
    "One of the famous problems solved using this technique was **Finding a cycle in a LinkedList**. Let’s jump onto this problem to understand the **Fast & Slow** pattern.\n",
    "\n",
    "#### Problem Statement\n",
    "Givven the head og a **Singly LinkedList**, write a function to determine if the LinkedList has a **cycle** in it or not. \n",
    "\n",
    "<img src='img/1.png' width=\"800\" height=\"400\" align=\"center\"/>\n",
    "\n",
    "#### Solution\n",
    "\n",
    "Imagine two racers running in a circular racing track. If one racer is faster than the other, the faster racer is bound to catch up and cross the slower racer from behind. We can use this fact to devise an algorithm to determine if a LinkedList has a cycle in it or not.\n",
    "\n",
    "Imagine we have a slow and a fast pointer to traverse the LinkedList. In each iteration, the slow pointer moves one step and the fast pointer moves two steps. This gives us two conclusions:\n",
    "\n",
    "- 1) If the LinkedList doesn’t have a cycle in it, the fast pointer will reach the end of the LinkedList before the slow pointer to reveal that there is no cycle in the LinkedList.\n",
    "- 2) The slow pointer will never be able to catch up to the fast pointer if there is no cycle in the LinkedList.\n",
    "\n",
    "If the LinkedList has a cycle, the fast pointer enters the cycle first, followed by the slow pointer. After this, both pointers will keep moving in the cycle infinitely. If at any stage both of these pointers meet, we can conclude that the LinkedList has a cycle in it. Let’s analyze if it is possible for the two pointers to meet. When the fast pointer is approaching the slow pointer from behind we have two possibilities:\n",
    "\n",
    "- 1) The fast pointer is one step behind the slow pointer.\n",
    "- 2) The fast pointer is two steps behind the slow pointer.\n",
    "All other distances between the fast and slow pointers will reduce to one of these two possibilities. Let’s analyze these scenarios, considering the fast pointer always moves first:\n",
    "\n",
    "- 1) **If the fast pointer is one step behind the slow pointer:** The fast pointer moves two steps and the slow pointer moves one step, and they both meet.\n",
    "- 2) **If the fast pointer is two steps behind the slow pointer:** The fast pointer moves two steps and the slow pointer moves one step. After the moves, the fast pointer will be one step behind the slow pointer, which reduces this scenario to the first scenario. This means that the two pointers will meet in the next iteration.\n",
    "This concludes that the two pointers will definitely meet if the LinkedList has a cycle. A similar analysis can be done where the slow pointer moves first. Here is a visual representation of the above discussion:\n",
    "\n",
    "<img src='img/2.png' width=\"600\" height=\"300\" align=\"center\"/>"
   ]
  },
  {
   "cell_type": "code",
   "execution_count": null,
   "id": "a46a4bbe",
   "metadata": {},
   "outputs": [],
   "source": [
    "class Node:\n",
    "  def __init__(self, value, next=None):\n",
    "    self.value = value\n",
    "    self.next = next\n",
    "\n",
    "\n",
    "def has_cycle(head):\n",
    "  slow, fast = head, head\n",
    "  while fast is not None and fast.next is not None:\n",
    "    fast = fast.next.next\n",
    "    slow = slow.next\n",
    "    if slow == fast:\n",
    "      return True  # found the cycle\n",
    "  return False\n",
    "\n",
    "\n",
    "def main():\n",
    "  head = Node(1)\n",
    "  head.next = Node(2)\n",
    "  head.next.next = Node(3)\n",
    "  head.next.next.next = Node(4)\n",
    "  head.next.next.next.next = Node(5)\n",
    "  head.next.next.next.next.next = Node(6)\n",
    "  print(\"LinkedList has cycle: \" + str(has_cycle(head)))\n",
    "\n",
    "  head.next.next.next.next.next.next = head.next.next\n",
    "  print(\"LinkedList has cycle: \" + str(has_cycle(head)))\n",
    "\n",
    "  head.next.next.next.next.next.next = head.next.next.next\n",
    "  print(\"LinkedList has cycle: \" + str(has_cycle(head)))\n",
    "\n",
    "\n",
    "main()"
   ]
  },
  {
   "cell_type": "code",
   "execution_count": null,
   "id": "1071f200",
   "metadata": {},
   "outputs": [],
   "source": [
    "class Node:\n",
    "  def __init__(self, value, next=None):\n",
    "    self.value = value\n",
    "    self.next = next\n",
    "\n",
    "\n",
    "def find_cycle_length(head):\n",
    "  slow, fast = head, head\n",
    "  while fast is not None and fast.next is not None:\n",
    "    fast = fast.next.next\n",
    "    slow = slow.next\n",
    "    if slow == fast:  # found the cycle\n",
    "      return calculate_cycle_length(slow)\n",
    "\n",
    "  return 0\n",
    "\n",
    "\n",
    "def calculate_cycle_length(slow):\n",
    "  current = slow\n",
    "  cycle_length = 0\n",
    "  while True:\n",
    "    current = current.next\n",
    "    cycle_length += 1\n",
    "    if current == slow:\n",
    "      break\n",
    "  return cycle_length\n",
    "\n",
    "\n",
    "def main():\n",
    "  head = Node(1)\n",
    "  head.next = Node(2)\n",
    "  head.next.next = Node(3)\n",
    "  head.next.next.next = Node(4)\n",
    "  head.next.next.next.next = Node(5)\n",
    "  head.next.next.next.next.next = Node(6)\n",
    "  head.next.next.next.next.next.next = head.next.next\n",
    "  print(\"LinkedList cycle length: \" + str(find_cycle_length(head)))\n",
    "\n",
    "  head.next.next.next.next.next.next = head.next.next.next\n",
    "  print(\"LinkedList cycle length: \" + str(find_cycle_length(head)))\n",
    "\n",
    "\n",
    "main()"
   ]
  },
  {
   "cell_type": "markdown",
   "id": "8acfd23e",
   "metadata": {},
   "source": []
  },
  {
   "cell_type": "markdown",
   "id": "28859cd3",
   "metadata": {},
   "source": []
  },
  {
   "cell_type": "markdown",
   "id": "a98f2b61",
   "metadata": {},
   "source": []
  },
  {
   "cell_type": "code",
   "execution_count": null,
   "id": "2b03ccc3",
   "metadata": {},
   "outputs": [],
   "source": [
    "class ListNode(object):\n",
    "    def __init__(self, value, next=None):\n",
    "        self.value = value\n",
    "        self.next = next"
   ]
  },
  {
   "cell_type": "code",
   "execution_count": null,
   "id": "cfc47e36",
   "metadata": {},
   "outputs": [],
   "source": [
    "def find_middle_of_linked_list(head):\n",
    "    slow, fast = head, head\n",
    "    while fast is not None and fast.next is not None:\n",
    "        slow = slow.next\n",
    "        fast = fast.next.next\n",
    "    return slow"
   ]
  },
  {
   "cell_type": "code",
   "execution_count": null,
   "id": "dc2db571",
   "metadata": {},
   "outputs": [],
   "source": [
    "head = Node(1)\n",
    "head.next = Node(2)\n",
    "head.next.next = Node(9)\n",
    "head.next.next.next = Node(4)\n",
    "head.next.next.next.next = Node(2)\n",
    "head.next.next.next.next.next = Node(7)\n",
    "head.next.next.next.next.next.next = Node(5)"
   ]
  },
  {
   "cell_type": "code",
   "execution_count": null,
   "id": "ea920729",
   "metadata": {},
   "outputs": [],
   "source": [
    "find_middle_of_linked_list(head).value"
   ]
  },
  {
   "cell_type": "code",
   "execution_count": null,
   "id": "908a6a9f",
   "metadata": {},
   "outputs": [],
   "source": [
    "head = Node(1)\n",
    "head.next = Node(2)\n",
    "head.next.next = Node(3)\n",
    "head.next.next.next = Node(4)"
   ]
  },
  {
   "cell_type": "code",
   "execution_count": null,
   "id": "8cfcdab2",
   "metadata": {},
   "outputs": [],
   "source": [
    "find_middle_of_linked_list(head).value"
   ]
  },
  {
   "cell_type": "code",
   "execution_count": null,
   "id": "021c0e44",
   "metadata": {},
   "outputs": [],
   "source": [
    "def delete_middle_of_linked_list(head):\n",
    "    slow, fast = head, head\n",
    "    while fast is not None and fast.next is not None:\n",
    "        slow = slow.next\n",
    "        fast = fast.next.next\n",
    "    slow.value = slow.next.value\n",
    "    slow.next = slow.next.next"
   ]
  },
  {
   "cell_type": "code",
   "execution_count": null,
   "id": "8ed2a015",
   "metadata": {},
   "outputs": [],
   "source": [
    "delete_middle_of_linked_list(head)"
   ]
  },
  {
   "cell_type": "code",
   "execution_count": null,
   "id": "5438a214",
   "metadata": {},
   "outputs": [],
   "source": [
    "def print_list(head):\n",
    "    ptr = head\n",
    "    print('[', end = \"\")\n",
    "    while ptr:\n",
    "        print(ptr.val, end = \",\")\n",
    "        ptr = ptr.next\n",
    "    print(']')"
   ]
  },
  {
   "cell_type": "code",
   "execution_count": null,
   "id": "01f1ade1",
   "metadata": {},
   "outputs": [],
   "source": [
    "print_list(head)"
   ]
  },
  {
   "cell_type": "code",
   "execution_count": null,
   "id": "9673b81c",
   "metadata": {},
   "outputs": [],
   "source": [
    "class Node(object):\n",
    "    def __init__(self, val, next=None):\n",
    "        self.val = val\n",
    "        self.next = next"
   ]
  },
  {
   "cell_type": "code",
   "execution_count": null,
   "id": "9c917927",
   "metadata": {},
   "outputs": [],
   "source": [
    "head = Node(1)\n",
    "head.next = Node(2)\n",
    "head.next.next = Node(9)\n",
    "head.next.next.next = Node(4)\n",
    "head.next.next.next.next = Node(2)\n",
    "head.next.next.next.next.next = Node(7)\n",
    "head.next.next.next.next.next.next = Node(2)"
   ]
  },
  {
   "cell_type": "code",
   "execution_count": null,
   "id": "5f8161ca",
   "metadata": {},
   "outputs": [],
   "source": [
    "def removeElements(head, val):\n",
    "    \"\"\"\n",
    "    :type head: ListNode\n",
    "    :type val: int\n",
    "    :rtype: ListNode\n",
    "    \"\"\"\n",
    "    node = head\n",
    "    if node is None:\n",
    "        return None\n",
    "    #if node.next is None and node.val == val:\n",
    "        #return None\n",
    "        \n",
    "    while node:\n",
    "        if node.val == val:\n",
    "            node.val = node.next.val\n",
    "            node.next = node.next.next\n",
    "        else:\n",
    "            node = node.next\n",
    "    return head"
   ]
  },
  {
   "cell_type": "code",
   "execution_count": null,
   "id": "94302eb7",
   "metadata": {},
   "outputs": [],
   "source": [
    "removeElements(head,2)"
   ]
  },
  {
   "cell_type": "code",
   "execution_count": null,
   "id": "e4af99e2",
   "metadata": {},
   "outputs": [],
   "source": [
    "print_list(head)"
   ]
  },
  {
   "cell_type": "code",
   "execution_count": null,
   "id": "ba6b4ae7",
   "metadata": {},
   "outputs": [],
   "source": [
    "def removeElements(head, val):\n",
    "    \"\"\"\n",
    "    :type head: ListNode\n",
    "    :type val: int\n",
    "    :rtype: ListNode\n",
    "    \"\"\"\n",
    "    node = head\n",
    "    if node is None:\n",
    "        return None\n",
    "    if node.next is None and node.val == val:\n",
    "        return None\n",
    "\n",
    "        \n",
    "    while node:\n",
    "        if node.val == val:\n",
    "            if node.next is None:\n",
    "                node = None\n",
    "                return head\n",
    "            else:\n",
    "                node.val = node.next.val\n",
    "                node.next = node.next.next\n",
    "        node = node.next\n",
    "    return head"
   ]
  },
  {
   "cell_type": "code",
   "execution_count": null,
   "id": "ee69c9d3",
   "metadata": {},
   "outputs": [],
   "source": [
    "removeElements(head,2)"
   ]
  },
  {
   "cell_type": "code",
   "execution_count": null,
   "id": "cf0bf8f5",
   "metadata": {},
   "outputs": [],
   "source": [
    "print_list(head)"
   ]
  },
  {
   "cell_type": "code",
   "execution_count": null,
   "id": "5fa22fb9",
   "metadata": {},
   "outputs": [],
   "source": [
    "def removeElements(head, val):\n",
    "    \"\"\"\n",
    "    :type head: ListNode\n",
    "    :type val: int\n",
    "    :rtype: ListNode\n",
    "    \"\"\"\n",
    "    node = head\n",
    "    if node is None:\n",
    "        return None\n",
    "    if node.next is None and node.val == val:\n",
    "        return None\n",
    "\n",
    "        \n",
    "    while node is not None and node.next is not None:\n",
    "        if node.val == val:\n",
    "            if node.next.val is None:\n",
    "                node.next = None\n",
    "            else:\n",
    "                node.val = node.next.val\n",
    "                node.next = node.next.next\n",
    "    return head"
   ]
  },
  {
   "cell_type": "code",
   "execution_count": null,
   "id": "ea95a142",
   "metadata": {},
   "outputs": [],
   "source": [
    "current_node = dummy_head\n",
    "        while current_node.next != None:\n",
    "            if current_node.next.val == val:\n",
    "                current_node.next = current_node.next.next\n",
    "            else:\n",
    "                current_node = current_node.next\n",
    "                \n",
    "        return dummy_head.next"
   ]
  },
  {
   "cell_type": "code",
   "execution_count": null,
   "id": "7ab1a542",
   "metadata": {},
   "outputs": [],
   "source": [
    "class Solution:\n",
    "    def removeElements(self, head, val):\n",
    "        \"\"\"\n",
    "        :type head: ListNode\n",
    "        :type val: int\n",
    "        :rtype: ListNode\n",
    "        \"\"\"\n",
    "        \n",
    "        dummy_head = ListNode(-1)\n",
    "        dummy_head.next = head\n",
    "        \n",
    "        current_node = dummy_head\n",
    "        while current_node.next != None:\n",
    "            if current_node.next.val == val:\n",
    "                current_node.next = current_node.next.next\n",
    "            else:\n",
    "                current_node = current_node.next\n",
    "                \n",
    "        return dummy_head.next"
   ]
  }
 ],
 "metadata": {
  "kernelspec": {
   "display_name": "Python 3",
   "language": "python",
   "name": "python3"
  },
  "language_info": {
   "codemirror_mode": {
    "name": "ipython",
    "version": 3
   },
   "file_extension": ".py",
   "mimetype": "text/x-python",
   "name": "python",
   "nbconvert_exporter": "python",
   "pygments_lexer": "ipython3",
   "version": "3.8.8"
  }
 },
 "nbformat": 4,
 "nbformat_minor": 5
}
