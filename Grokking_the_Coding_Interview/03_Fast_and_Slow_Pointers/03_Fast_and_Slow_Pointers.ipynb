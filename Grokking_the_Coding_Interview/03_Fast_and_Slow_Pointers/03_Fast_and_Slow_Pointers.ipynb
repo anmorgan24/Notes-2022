{
 "cells": [
  {
   "cell_type": "markdown",
   "id": "42d1267e",
   "metadata": {},
   "source": [
    "# Fast and Slow Pointers"
   ]
  },
  {
   "cell_type": "markdown",
   "id": "a47ba037",
   "metadata": {},
   "source": [
    "The Fast & Slow pointer approach, also known as the **Hare & Tortoise** algorithm, is a pointer algorithm that uses two pointers which move through the array (or sequence/LinkedList) at different speeds. This approach is quite useful when dealing with cyclic LinkedLists or arrays.\n",
    "\n",
    "By moving at different speeds (say, in a cyclic LinkedList), the algorithm proves that the two pointers are bound to meet. The fast pointer should catch the slow pointer once both the pointers are in a cyclic loop.\n",
    "\n",
    "One of the famous problems solved using this technique was **Finding a cycle in a LinkedList**. Let’s jump onto this problem to understand the **Fast & Slow** pattern.\n",
    "\n",
    "#### Problem Statement\n",
    "Givven the head og a **Singly LinkedList**, write a function to determine if the LinkedList has a **cycle** in it or not. \n",
    "\n",
    "<img src='img/1.png' width=\"800\" height=\"400\" align=\"center\"/>\n",
    "\n",
    "#### Solution\n",
    "\n",
    "Imagine two racers running in a circular racing track. If one racer is faster than the other, the faster racer is bound to catch up and cross the slower racer from behind. We can use this fact to devise an algorithm to determine if a LinkedList has a cycle in it or not.\n",
    "\n",
    "Imagine we have a slow and a fast pointer to traverse the LinkedList. In each iteration, the slow pointer moves one step and the fast pointer moves two steps. This gives us two conclusions:\n",
    "\n",
    "- 1) If the LinkedList doesn’t have a cycle in it, the fast pointer will reach the end of the LinkedList before the slow pointer to reveal that there is no cycle in the LinkedList.\n",
    "- 2) The slow pointer will never be able to catch up to the fast pointer if there is no cycle in the LinkedList.\n",
    "\n",
    "If the LinkedList has a cycle, the fast pointer enters the cycle first, followed by the slow pointer. After this, both pointers will keep moving in the cycle infinitely. If at any stage both of these pointers meet, we can conclude that the LinkedList has a cycle in it. Let’s analyze if it is possible for the two pointers to meet. When the fast pointer is approaching the slow pointer from behind we have two possibilities:\n",
    "\n",
    "- 1) The fast pointer is one step behind the slow pointer.\n",
    "- 2) The fast pointer is two steps behind the slow pointer.\n",
    "All other distances between the fast and slow pointers will reduce to one of these two possibilities. Let’s analyze these scenarios, considering the fast pointer always moves first:\n",
    "\n",
    "- 1) **If the fast pointer is one step behind the slow pointer:** The fast pointer moves two steps and the slow pointer moves one step, and they both meet.\n",
    "- 2) **If the fast pointer is two steps behind the slow pointer:** The fast pointer moves two steps and the slow pointer moves one step. After the moves, the fast pointer will be one step behind the slow pointer, which reduces this scenario to the first scenario. This means that the two pointers will meet in the next iteration.\n",
    "This concludes that the two pointers will definitely meet if the LinkedList has a cycle. A similar analysis can be done where the slow pointer moves first. Here is a visual representation of the above discussion:\n",
    "\n",
    "<img src='img/2.png' width=\"600\" height=\"300\" align=\"center\"/>"
   ]
  },
  {
   "cell_type": "code",
   "execution_count": null,
   "id": "1b9f03ef",
   "metadata": {},
   "outputs": [],
   "source": [
    "class Node:\n",
    "  def __init__(self, value, next=None):\n",
    "    self.value = value\n",
    "    self.next = next\n",
    "\n",
    "\n",
    "def has_cycle(head):\n",
    "  slow, fast = head, head\n",
    "  while fast is not None and fast.next is not None:\n",
    "    fast = fast.next.next\n",
    "    slow = slow.next\n",
    "    if slow == fast:\n",
    "      return True  # found the cycle\n",
    "  return False\n",
    "\n",
    "\n",
    "def main():\n",
    "  head = Node(1)\n",
    "  head.next = Node(2)\n",
    "  head.next.next = Node(3)\n",
    "  head.next.next.next = Node(4)\n",
    "  head.next.next.next.next = Node(5)\n",
    "  head.next.next.next.next.next = Node(6)\n",
    "  print(\"LinkedList has cycle: \" + str(has_cycle(head)))\n",
    "\n",
    "  head.next.next.next.next.next.next = head.next.next\n",
    "  print(\"LinkedList has cycle: \" + str(has_cycle(head)))\n",
    "\n",
    "  head.next.next.next.next.next.next = head.next.next.next\n",
    "  print(\"LinkedList has cycle: \" + str(has_cycle(head)))\n",
    "\n",
    "\n",
    "main()"
   ]
  },
  {
   "cell_type": "code",
   "execution_count": 1,
   "id": "867eaaad",
   "metadata": {},
   "outputs": [
    {
     "name": "stdout",
     "output_type": "stream",
     "text": [
      "LinkedList has cycle: False\n",
      "LinkedList has cycle: True\n",
      "LinkedList has cycle: True\n"
     ]
    }
   ],
   "source": [
    "class Node:\n",
    "  def __init__(self, value, next=None):\n",
    "    self.value = value\n",
    "    self.next = next\n",
    "\n",
    "\n",
    "def find_cycle_length(head):\n",
    "  slow, fast = head, head\n",
    "  while fast is not None and fast.next is not None:\n",
    "    fast = fast.next.next\n",
    "    slow = slow.next\n",
    "    if slow == fast:  # found the cycle\n",
    "      return calculate_cycle_length(slow)\n",
    "\n",
    "  return 0\n",
    "\n",
    "\n",
    "def calculate_cycle_length(slow):\n",
    "  current = slow\n",
    "  cycle_length = 0\n",
    "  while True:\n",
    "    current = current.next\n",
    "    cycle_length += 1\n",
    "    if current == slow:\n",
    "      break\n",
    "  return cycle_length\n",
    "\n",
    "\n",
    "def main():\n",
    "  head = Node(1)\n",
    "  head.next = Node(2)\n",
    "  head.next.next = Node(3)\n",
    "  head.next.next.next = Node(4)\n",
    "  head.next.next.next.next = Node(5)\n",
    "  head.next.next.next.next.next = Node(6)\n",
    "  head.next.next.next.next.next.next = head.next.next\n",
    "  print(\"LinkedList cycle length: \" + str(find_cycle_length(head)))\n",
    "\n",
    "  head.next.next.next.next.next.next = head.next.next.next\n",
    "  print(\"LinkedList cycle length: \" + str(find_cycle_length(head)))\n",
    "\n",
    "\n",
    "main()"
   ]
  },
  {
   "cell_type": "markdown",
   "id": "1fa8ceb1",
   "metadata": {},
   "source": []
  },
  {
   "cell_type": "markdown",
   "id": "0d7044c2",
   "metadata": {},
   "source": []
  },
  {
   "cell_type": "markdown",
   "id": "7b811fb9",
   "metadata": {},
   "source": []
  },
  {
   "cell_type": "code",
   "execution_count": null,
   "id": "750f593b",
   "metadata": {},
   "outputs": [],
   "source": []
  },
  {
   "cell_type": "code",
   "execution_count": null,
   "id": "c363bc6e",
   "metadata": {},
   "outputs": [],
   "source": []
  },
  {
   "cell_type": "code",
   "execution_count": null,
   "id": "fcca0ed4",
   "metadata": {},
   "outputs": [],
   "source": []
  },
  {
   "cell_type": "markdown",
   "id": "0030e60d",
   "metadata": {},
   "source": [
    "<img src='img/x.png' width=\"600\" height=\"300\" align=\"center\"/>"
   ]
  }
 ],
 "metadata": {
  "kernelspec": {
   "display_name": "Python 3",
   "language": "python",
   "name": "python3"
  },
  "language_info": {
   "codemirror_mode": {
    "name": "ipython",
    "version": 3
   },
   "file_extension": ".py",
   "mimetype": "text/x-python",
   "name": "python",
   "nbconvert_exporter": "python",
   "pygments_lexer": "ipython3",
   "version": "3.8.8"
  }
 },
 "nbformat": 4,
 "nbformat_minor": 5
}
