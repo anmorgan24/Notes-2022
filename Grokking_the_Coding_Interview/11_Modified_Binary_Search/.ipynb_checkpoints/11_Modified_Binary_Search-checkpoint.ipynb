{
 "cells": [
  {
   "cell_type": "markdown",
   "id": "dacf6006",
   "metadata": {},
   "source": [
    "# 11. Modified Binary Search\n",
    "\n",
    "### Introduction\n",
    "As we know, whenever we are given a sorted **Array** or **LinkedList** or **Matrix**, and we are asked to find a certain element, the best algorithm we can use is the **[Binary Search](https://en.wikipedia.org/wiki/Binary_search_algorithm)**.\n",
    "\n",
    "This pattern describes an efficient way to handle all problems involving Binary Search. We will go through a set of problems that will help us build an understanding of this pattern so that we can apply this technique to other problems we might come across in the interviews.\n",
    "\n",
    "Let’s start with our first problem."
   ]
  },
  {
   "cell_type": "markdown",
   "id": "f674f1e5",
   "metadata": {},
   "source": [
    "## Problem 1: Order-agnostic binary search\n",
    "\n",
    "Given a sorted array of numbers, find if a given number ‘key’ is present in the array. Though we know that the array is sorted, we don’t know if it’s sorted in ascending or descending order. You should assume that the array can have duplicates.\n",
    "\n",
    "Write a function to return the index of the ‘key’ if it is present in the array, otherwise return -1.\n",
    "\n",
    "<img src='img/1.png' width=\"800\" height=\"400\" align=\"center\"/>"
   ]
  },
  {
   "cell_type": "markdown",
   "id": "c1e41766",
   "metadata": {},
   "source": [
    "## Solution\n",
    "\n",
    "To make things simple, let’s first solve this problem assuming that the input array is sorted in ascending order. Here are the set of steps for **Binary Search**:\n",
    "\n",
    "1. Let’s assume `start` is pointing to the first index and `end` is pointing to the last index of the input array (let’s call it `arr`). This means:\n",
    "\n",
    "<img src='img/2.png' width=\"600\" height=\"300\" align=\"center\"/>\n",
    "\n",
    "2. First, we will find the `middle` of `start` and `end`. An easy way to find the middle would be:\n",
    "$$middle=\\frac{(start+end)}{2}$$\n",
    "For **Java** and **C++**, this equation will work for most cases, but when `start` or `end` is large, this equation will give us the wrong result due to integer overflow. Imagine that `end` is equal to the maximum range of an integer (e.g. for Java: `int end = Integer.MAX_VALUE`). Now adding any positive number to `end` will result in an integer overflow. Since we need to add both the numbers first to evaluate our equation, an overflow might occur. The safest way to find the middle of two numbers without getting an overflow is as follows:\n",
    "\n",
    "<img src='img/3.png' width=\"600\" height=\"300\" align=\"center\"/>\n",
    "\n",
    "3. Next, we will see if the ‘key’ is equal to the number at index `middle`. If it is equal we return `middle` as the required index.\n",
    "\n",
    "\n",
    "4. If ‘key’ is not equal to number at index `middle`, we have to check two things:\n",
    "\n",
    "   - If `key < arr[middle]`, then we can conclude that the `key` will be smaller than all the numbers after index `middle` as the array is sorted in the ascending order. Hence, we can reduce our search to `end = mid - 1`.   \n",
    "   - If `key > arr[middle]`, then we can conclude that the `key` will be greater than all numbers before index `middle` as the array is sorted in the ascending order. Hence, we can reduce our search to `start = mid + 1`.\n",
    "   \n",
    "   \n",
    "5. We will repeat steps 2-4 with new ranges of `start` to `end`. If at any time `start` becomes greater than `end`, this means that we can’t find the ‘key’ in the input array and we must return ‘-1’.\n",
    "\n",
    "\n",
    "Here is the visual representation of Binary Search for the Example-2:\n",
    "\n",
    "<img src='img/4.png' width=\"800\" height=\"400\" align=\"center\"/>\n",
    "\n",
    "If the array is sorted in the descending order, we have to update the step 4 above as:\n",
    "\n",
    "   - If `key > arr[middle]`, then we can conclude that the `key` will be greater than all numbers after index `middle` as the array is sorted in the descending order. Hence, we can reduce our search to `end = mid - 1`.\n",
    "   - If `key < arr[middle]`, then we can conclude that the `key` will be smaller than all the numbers before index `middle` as the array is sorted in the descending order. Hence, we can reduce our search to `start = mid + 1`.\n",
    "\n",
    "\n",
    "Finally, how can we figure out the sort order of the input array? We can compare the numbers pointed out by `start` and `end` index to find the sort order. If `arr[start] < arr[end]`, it means that the numbers are sorted in ascending order otherwise they are sorted in the descending order.\n",
    "\n"
   ]
  },
  {
   "cell_type": "code",
   "execution_count": 1,
   "id": "5900684a",
   "metadata": {},
   "outputs": [
    {
     "name": "stdout",
     "output_type": "stream",
     "text": [
      "2\n",
      "4\n",
      "0\n",
      "2\n"
     ]
    }
   ],
   "source": [
    "def binary_search(arr, key):\n",
    "    start, end = 0, len(arr) - 1\n",
    "    isAscending = arr[start] < arr[end]\n",
    "    while start <= end:\n",
    "        # calculate the middle of the current range\n",
    "        mid = start + (end - start) // 2\n",
    "\n",
    "        if key == arr[mid]:\n",
    "            return mid\n",
    "\n",
    "        if isAscending:  # ascending order\n",
    "            if key < arr[mid]:\n",
    "                end = mid - 1  # the 'key' can be in the first half\n",
    "            else:  # key > arr[mid]\n",
    "                start = mid + 1  # the 'key' can be in the second half\n",
    "        else:  # descending order\n",
    "            if key > arr[mid]:\n",
    "                end = mid - 1  # the 'key' can be in the first half\n",
    "            else:  # key < arr[mid]\n",
    "                start = mid + 1  # the 'key' can be in the second half\n",
    "\n",
    "    return -1  # element not found\n",
    "\n",
    "\n",
    "def main():\n",
    "    print(binary_search([4, 6, 10], 10))\n",
    "    print(binary_search([1, 2, 3, 4, 5, 6, 7], 5))\n",
    "    print(binary_search([10, 6, 4], 10))\n",
    "    print(binary_search([10, 6, 4], 4))\n",
    "\n",
    "\n",
    "main()"
   ]
  },
  {
   "cell_type": "markdown",
   "id": "17fa0c9c",
   "metadata": {},
   "source": [
    "### Time complexity\n",
    "Since, we are reducing the search range by half at every step, this means that the time complexity of our algorithm will be $O(logN)$ where $N$ is the total elements in the given array.\n",
    "\n",
    "### Space complexity\n",
    "The algorithm runs in constant space $O(1)$."
   ]
  },
  {
   "cell_type": "markdown",
   "id": "9e278122",
   "metadata": {},
   "source": [
    "## Problem 2"
   ]
  },
  {
   "cell_type": "code",
   "execution_count": null,
   "id": "61306463",
   "metadata": {},
   "outputs": [],
   "source": []
  },
  {
   "cell_type": "code",
   "execution_count": null,
   "id": "7e7fe537",
   "metadata": {},
   "outputs": [],
   "source": []
  },
  {
   "cell_type": "code",
   "execution_count": null,
   "id": "f0be835b",
   "metadata": {},
   "outputs": [],
   "source": []
  },
  {
   "cell_type": "code",
   "execution_count": null,
   "id": "96af69f6",
   "metadata": {},
   "outputs": [],
   "source": []
  },
  {
   "cell_type": "markdown",
   "id": "47791c5e",
   "metadata": {},
   "source": [
    "<img src='img/x.png' width=\"600\" height=\"300\" align=\"center\"/>"
   ]
  }
 ],
 "metadata": {
  "kernelspec": {
   "display_name": "Python 3",
   "language": "python",
   "name": "python3"
  },
  "language_info": {
   "codemirror_mode": {
    "name": "ipython",
    "version": 3
   },
   "file_extension": ".py",
   "mimetype": "text/x-python",
   "name": "python",
   "nbconvert_exporter": "python",
   "pygments_lexer": "ipython3",
   "version": "3.8.8"
  }
 },
 "nbformat": 4,
 "nbformat_minor": 5
}
