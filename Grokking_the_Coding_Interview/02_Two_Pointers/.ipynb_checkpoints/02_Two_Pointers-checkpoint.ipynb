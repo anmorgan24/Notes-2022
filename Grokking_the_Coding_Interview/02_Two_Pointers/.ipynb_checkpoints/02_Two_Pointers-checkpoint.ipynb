{
 "cells": [
  {
   "cell_type": "markdown",
   "id": "66460bf5",
   "metadata": {},
   "source": [
    "# Pattern: Two Pointers\n",
    "In problems where we deal with sorted arrays (or LinkedLists) and need to find a set of elements that fulfill certain constraints, the Two Pointers approach becomes quite useful. The set of elements could be a pair, a triplet or even a subarray. For example, take a look at the following problem:\n",
    "\n",
    "\n",
    "## Pair with target sum (sorted list)\n",
    "    Given an array of sorted numbers and a target sum, find a pair in the array whose sum is equal to the given target.\n",
    "    \n",
    "Given that the input array is sorted, an efficient way would be to start with one pointer in the beginning and another pointer at the end. At every step, we will see if the numbers pointed by the two pointers add up to the target sum. If they do not, we will do one of two things:\n",
    "- 1. If the sum of the two numbers pointed by the two pointers is greater than the target sum, this means that we need a pair with a smaller sum. So, to try more pairs, we can decrement the end-pointer.\n",
    "- 2. \n",
    "If the sum of the two numbers pointed by the two pointers is smaller than the target sum, this means that we need a pair with a larger sum. So, to try more pairs, we can increment the start-pointer.\n",
    "\n",
    "Here is the visual representation of this algorithm:\n",
    "\n",
    "<img src='img/0.png' width=\"500\" height=\"250\" align=\"center\"/>\n",
    "\n",
    "**The time complexity of the above algorithm will be O(N).**"
   ]
  },
  {
   "cell_type": "markdown",
   "id": "d7bb30d2",
   "metadata": {},
   "source": [
    "## Remove duplicates in-place without using any extra space (sorted list)\n",
    "\n",
    "Given an array of sorted numbers, remove all duplicate number instances from it in-place, such that each element appears only once. The relative order of the elements should be kept the same and you should not use any extra space so that that the solution have a space complexity of O(1).\n",
    "\n",
    "Move all the unique elements at the beginning of the array and after moving return the length of the subarray that has no duplicate in it.\n",
    "\n",
    "In this problem, we need to separate the duplicates in-place such that the resultant length of the array remains sorted. As the input array is sorted, therefore, one way to do this is to shift the elements left whenever we encounter duplicates. In other words, we will keep one pointer for iterating the array and one pointer for placing the next non-duplicate number. So our algorithm will be to iterate the array and whenever we see a non-duplicate number we move it next to the last non-duplicate number we’ve seen.\n",
    "\n",
    "Here is the visual representation of this algorithm for Example-1:\n",
    "\n",
    "<img src='img/1.png' width=\"500\" height=\"250\" align=\"center\"/>"
   ]
  },
  {
   "cell_type": "code",
   "execution_count": null,
   "id": "e5c0cf59",
   "metadata": {},
   "outputs": [],
   "source": []
  }
 ],
 "metadata": {
  "kernelspec": {
   "display_name": "Python 3",
   "language": "python",
   "name": "python3"
  },
  "language_info": {
   "codemirror_mode": {
    "name": "ipython",
    "version": 3
   },
   "file_extension": ".py",
   "mimetype": "text/x-python",
   "name": "python",
   "nbconvert_exporter": "python",
   "pygments_lexer": "ipython3",
   "version": "3.8.8"
  }
 },
 "nbformat": 4,
 "nbformat_minor": 5
}
