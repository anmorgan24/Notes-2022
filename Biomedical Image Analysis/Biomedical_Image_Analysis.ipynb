{
 "cells": [
  {
   "cell_type": "markdown",
   "id": "2a546d01",
   "metadata": {},
   "source": [
    "# Biomedical Image Analysis\n",
    "\n",
    "**Note:** This notebook is based off of notes taken from DataCamp's course [Biomedical Image Analysis in Python](https://app.datacamp.com/learn/courses/biomedical-image-analysis-in-python).\n",
    "\n",
    "The field of biomedical imaging has exploded in recent years - but for the uninitiated, even loading data can be a challenge! In this introductory course, you'll learn the fundamentals of image analysis using NumPy, SciPy, and Matplotlib. You'll navigate through a whole-body CT scan, segment a cardiac MRI time series, and determine whether Alzheimer’s disease changes brain structure. Even if you have never worked with images before, you will finish the course with a solid toolkit for entering this dynamic field."
   ]
  },
  {
   "cell_type": "markdown",
   "id": "4bc6bc3c",
   "metadata": {},
   "source": [
    "First X-ray in 1895: \n",
    "\n",
    "<img src='img/1.png' width=\"300\" height=\"600\" align=\"center\"/>\n",
    "\n",
    "#### Opportunitys for analysis of medical imaging:\n",
    "- Measuring organ shape and size\n",
    "- Creating detailed reconstructions of anatomy\n",
    "- Analyzing tissue composition\n",
    "- Predicting pathology\n",
    "- And so much more...\n",
    "\n",
    "#### Exploration\n",
    "- Loading images\n",
    "- N-D data and multi-dimensional arrays\n",
    "- subplots\n",
    "\n",
    "#### Masks and Filters\n",
    "- Intensity distributions\n",
    "- Convolutions\n",
    "- Edge detection\n",
    "\n",
    "#### Measurement\n",
    "- Labeling\n",
    "- Multi-object measurement\n",
    "- morpohology\n",
    "\n",
    "#### Image Comparison\n",
    "- Transformations\n",
    "- Resampling\n",
    "- Cost functions\n",
    "- Normalization\n",
    "\n",
    "\n",
    "\n",
    "- `imageio` can read DICOM files, the standard format for human medical imaging\n"
   ]
  },
  {
   "cell_type": "code",
   "execution_count": null,
   "id": "ae291117",
   "metadata": {},
   "outputs": [],
   "source": []
  },
  {
   "cell_type": "code",
   "execution_count": null,
   "id": "19615bba",
   "metadata": {},
   "outputs": [],
   "source": []
  },
  {
   "cell_type": "code",
   "execution_count": null,
   "id": "439941f1",
   "metadata": {},
   "outputs": [],
   "source": []
  },
  {
   "cell_type": "code",
   "execution_count": null,
   "id": "f7a75ef9",
   "metadata": {},
   "outputs": [],
   "source": []
  },
  {
   "cell_type": "code",
   "execution_count": null,
   "id": "f5e324b7",
   "metadata": {},
   "outputs": [],
   "source": []
  },
  {
   "cell_type": "code",
   "execution_count": null,
   "id": "13ab58a6",
   "metadata": {},
   "outputs": [],
   "source": []
  },
  {
   "cell_type": "code",
   "execution_count": null,
   "id": "46a5a960",
   "metadata": {},
   "outputs": [],
   "source": []
  },
  {
   "cell_type": "code",
   "execution_count": null,
   "id": "e694b1c2",
   "metadata": {},
   "outputs": [],
   "source": []
  },
  {
   "cell_type": "code",
   "execution_count": null,
   "id": "3339b7c2",
   "metadata": {},
   "outputs": [],
   "source": []
  },
  {
   "cell_type": "code",
   "execution_count": null,
   "id": "48db3750",
   "metadata": {},
   "outputs": [],
   "source": []
  },
  {
   "cell_type": "code",
   "execution_count": null,
   "id": "b2b27056",
   "metadata": {},
   "outputs": [],
   "source": []
  },
  {
   "cell_type": "code",
   "execution_count": null,
   "id": "78d29e23",
   "metadata": {},
   "outputs": [],
   "source": []
  },
  {
   "cell_type": "code",
   "execution_count": null,
   "id": "2da7329a",
   "metadata": {},
   "outputs": [],
   "source": []
  },
  {
   "cell_type": "code",
   "execution_count": null,
   "id": "a011d46c",
   "metadata": {},
   "outputs": [],
   "source": []
  },
  {
   "cell_type": "code",
   "execution_count": null,
   "id": "ea8582d4",
   "metadata": {},
   "outputs": [],
   "source": []
  },
  {
   "cell_type": "markdown",
   "id": "7d518977",
   "metadata": {},
   "source": [
    "<img src='img/x.png' width=\"600\" height=\"300\" align=\"center\"/>"
   ]
  }
 ],
 "metadata": {
  "kernelspec": {
   "display_name": "Python 3",
   "language": "python",
   "name": "python3"
  },
  "language_info": {
   "codemirror_mode": {
    "name": "ipython",
    "version": 3
   },
   "file_extension": ".py",
   "mimetype": "text/x-python",
   "name": "python",
   "nbconvert_exporter": "python",
   "pygments_lexer": "ipython3",
   "version": "3.8.8"
  }
 },
 "nbformat": 4,
 "nbformat_minor": 5
}
