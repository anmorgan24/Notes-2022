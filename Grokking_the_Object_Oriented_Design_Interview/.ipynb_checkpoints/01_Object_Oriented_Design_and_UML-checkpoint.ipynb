{
 "cells": [
  {
   "cell_type": "markdown",
   "id": "a4ee5199",
   "metadata": {},
   "source": [
    "# Object-Oriented Basics"
   ]
  },
  {
   "cell_type": "markdown",
   "id": "ad49bc77",
   "metadata": {},
   "source": [
    "Object-oriented programming (OOP) is a style of programming that focuses on using objects to design and build applications. Contrary to procedure-oriented programming where programs are designed as blocks of statements to manipulate data, OOP organizes the program to combine data and functionality and wrap it inside something called an “Object”.\n",
    "\n",
    "If you have never used an object-oriented programming language before, you will need to learn a few basic concepts before you can begin writing any code. This chapter will introduce some basic concepts of OOP:\n",
    "\n",
    "- **Objects:** Objects represent a real-world entity and the basic building block of OOP. For example, an Online Shopping System will have objects such as shopping cart, customer, product item, etc.\n",
    "\n",
    "- **Class:** Class is the prototype or blueprint of an object. It is a template definition of the attributes and methods of an object. For example, in the Online Shopping System, the Customer object will have attributes like shipping address, credit card, etc., and methods for placing an order, canceling an order, etc.\n",
    "\n",
    "The four principles of object-oriented programming are encapsulation, abstraction, inheritance, and polymorphism.\n",
    "\n",
    "- **Encapsulation:** Encapsulation is the mechanism of binding the data together and hiding it from the outside world. Encapsulation is achieved when each object keeps its state private so that other objects don’t have direct access to its state. Instead, they can access this state only through a set of public functions.\n",
    "\n",
    "- **Abstraction:** Abstraction can be thought of as the natural extension of encapsulation. It means hiding all but the relevant data about an object in order to reduce the complexity of the system. In a large system, objects talk to each other, which makes it difficult to maintain a large code base; abstraction helps by hiding internal implementation details of objects and only revealing operations that are relevant to other objects.\n",
    "\n",
    "- **Inheritance:** Inheritance is the mechanism of creating new classes from existing ones.\n",
    "\n",
    "- **Polymorphism:** Polymorphism (from Greek, meaning “many forms”) is the ability of an object to take different forms and thus, depending upon the context, to respond to the same message in different ways. Take the example of a chess game; a chess piece can take many forms, like bishop, castle, or knight and all these pieces will respond differently to the ‘move’ message."
   ]
  },
  {
   "cell_type": "markdown",
   "id": "cafe04cb",
   "metadata": {},
   "source": [
    "# OO Analysis and Design \n",
    "\n",
    "OO Analysis and Design is a structured method for analyzing and designing a system by applying object-oriented concepts. This design process consists of an investigation into the objects constituting the system. It starts by first identifying the objects of the system and then figuring out the interactions between various objects.\n",
    "\n",
    "The process of OO analysis and design can be described as:\n",
    "\n",
    "- 1. Identifying the objects in a system;\n",
    "- 2. Defining relationships between objects;\n",
    "- 3. Establishing the interface of each object; and,\n",
    "- 4. Making a design, which can be converted to executables using OO languages.\n",
    "\n",
    "We need a standard method/tool to document all this information; for this purpose we use UML. **UML** can be considered as the successor of object-oriented (OO) analysis and design. UML is powerful enough to represent all the concepts that exist in object-oriented analysis and design. UML diagrams are a representation of object-oriented concepts only. Thus, before learning UML, it is essential to understand OO concepts.\n",
    "\n",
    "Let’s find out how we can model using UML."
   ]
  },
  {
   "cell_type": "markdown",
   "id": "8a199a28",
   "metadata": {},
   "source": [
    "# What is UML?\n",
    "UML stands for **Unified Modeling Language** and is used to model the Object-Oriented Analysis of a software system. UML is a way of visualizing and documenting a software system by using a collection of diagrams, which helps engineers, businesspeople, and system architects understand the behavior and structure of the system being designed.\n",
    "\n",
    "Benefits of using UML:\n",
    "\n",
    "- 1. Helps develop a quick understanding of a software system.\n",
    "- 2. UML modeling helps in breaking a complex system into discrete pieces that can be easily understood.\n",
    "- 3. UML’s graphical notations can be used to communicate design decisions.\n",
    "- 4. Since UML is independent of any specific platform or language or technology, it is easier to abstract out concepts.\n",
    "- 5. It becomes easier to hand the system over to a new team.\n",
    "\n",
    "Types of UML Diagrams: The current UML standards call for 14 different kinds of diagrams. These diagrams are organized into two distinct groups: structural diagrams and behavioral or interaction diagrams. As the names suggest, some UML diagrams analyze and depict the structure of a system or process, whereas others describe the behavior of the system, its actors, and its building components. The different types are broken down as follows:\n",
    "\n",
    "**Structural UML diagrams**\n",
    "\n",
    "- Class diagram\n",
    "- Object diagram\n",
    "- Package diagram\n",
    "- Component diagram\n",
    "- Composite structure diagram\n",
    "- Deployment diagram\n",
    "- Profile diagram\n",
    "\n",
    "**Behavioral UML diagrams**\n",
    "\n",
    "- Use case diagram\n",
    "- Activity diagram\n",
    "- Sequence diagram\n",
    "- State diagram\n",
    "- Communication diagram\n",
    "- Interaction overview diagram\n",
    "- Timing diagram\n",
    "\n",
    "\n",
    "In this course, we will be focusing on the following UML diagrams:\n",
    "\n",
    "- **Use Case Diagram:** Used to describe a set of user scenarios, this diagram, illustrates the functionality provided by the system.\n",
    "\n",
    "- **Class Diagram:** Used to describe structure and behavior in the use cases, this diagram provides a conceptual model of the system in terms of entities and their relationships.\n",
    "\n",
    "- **Activity Diagram:** Used to model the functional flow-of-control between two or more class objects.\n",
    "\n",
    "- **Sequence Diagram:** Used to describe interactions among classes in terms of an exchange of messages over time."
   ]
  },
  {
   "cell_type": "markdown",
   "id": "fc966f1d",
   "metadata": {},
   "source": [
    "# Use Case Diagrams\n",
    "Use case diagrams describe a set of actions (called use cases) that a system should or can perform in collaboration with one or more external users of the system (called actors). Each use case should provide some observable and valuable result to the actors.\n",
    "\n",
    "- 1. Use Case Diagrams describe the high-level functional behavior of the system.\n",
    "- 2. It answers what system does from the user point of view.\n",
    "- 3. Use case answers ‘What will the system do?’ and at the same time tells us ‘What will the system NOT do?’.\n",
    "\n",
    "A use case illustrates a unit of functionality provided by the system. The primary purpose of the use case diagram is to help development teams visualize the functional requirements of a system, including the relationship of “actors” to the essential processes, as well as the relationships among different use cases.\n",
    "\n",
    "To illustrate a use case on a use case diagram, we draw an oval in the middle of the diagram and put the name of the use case in the center of the oval. To show an actor (indicating a system user) on a use-case diagram, we draw a stick figure to the left or right of the diagram.\n",
    "\n",
    "The different components of the use case diagram are:\n",
    "\n",
    "- **System boundary:** A system boundary defines the scope and limits of the system. It is shown as a rectangle that spans all use cases of the system.\n",
    "\n",
    "- **Actors:** An actor is an entity who performs specific actions. These roles are the actual business roles of the users in a given system. An actor interacts with a use case of the system. For example, in a banking system, the customer is one of the actors.\n",
    "\n",
    "- **Use Case:** Every business functionality is a potential use case. The use case should list the discrete business functionality specified in the problem statement.\n",
    "\n",
    "- **Include:** Include relationship represents an invocation of one use case by another use case. From a coding perspective, it is like one function being called by another function.\n",
    "\n",
    "- **Extend:** This relationship signifies that the extended use case will work exactly like the base use case, except that some new steps will be inserted in the extended use case."
   ]
  },
  {
   "cell_type": "code",
   "execution_count": null,
   "id": "18ed6588",
   "metadata": {},
   "outputs": [],
   "source": []
  }
 ],
 "metadata": {
  "kernelspec": {
   "display_name": "Python 3",
   "language": "python",
   "name": "python3"
  },
  "language_info": {
   "codemirror_mode": {
    "name": "ipython",
    "version": 3
   },
   "file_extension": ".py",
   "mimetype": "text/x-python",
   "name": "python",
   "nbconvert_exporter": "python",
   "pygments_lexer": "ipython3",
   "version": "3.8.8"
  }
 },
 "nbformat": 4,
 "nbformat_minor": 5
}
